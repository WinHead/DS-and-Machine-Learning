{
 "cells": [
  {
   "cell_type": "markdown",
   "metadata": {},
   "source": [
    "## Псотроение модели предсказания оттока пользователей"
   ]
  },
  {
   "cell_type": "markdown",
   "metadata": {},
   "source": [
    "### import библиотек"
   ]
  },
  {
   "cell_type": "code",
   "execution_count": 1,
   "metadata": {},
   "outputs": [],
   "source": [
    "import numpy as np\n",
    "import pandas as pd"
   ]
  },
  {
   "cell_type": "code",
   "execution_count": 2,
   "metadata": {},
   "outputs": [],
   "source": [
    "from sklearn.model_selection import GridSearchCV\n",
    "from sklearn.ensemble import RandomForestClassifier\n",
    "from sklearn.metrics import roc_auc_score\n",
    "from sklearn.model_selection import train_test_split"
   ]
  },
  {
   "cell_type": "markdown",
   "metadata": {},
   "source": [
    "### Подгружаем train датасеты, полученные на предыдущем шаге"
   ]
  },
  {
   "cell_type": "code",
   "execution_count": 3,
   "metadata": {},
   "outputs": [],
   "source": [
    "X_train = pd.read_csv('X_train.csv')\n",
    "y_train = pd.read_csv('y_train.csv')"
   ]
  },
  {
   "cell_type": "code",
   "execution_count": 4,
   "metadata": {
    "scrolled": false
   },
   "outputs": [
    {
     "data": {
      "text/html": [
       "<div>\n",
       "<style scoped>\n",
       "    .dataframe tbody tr th:only-of-type {\n",
       "        vertical-align: middle;\n",
       "    }\n",
       "\n",
       "    .dataframe tbody tr th {\n",
       "        vertical-align: top;\n",
       "    }\n",
       "\n",
       "    .dataframe thead th {\n",
       "        text-align: right;\n",
       "    }\n",
       "</style>\n",
       "<table border=\"1\" class=\"dataframe\">\n",
       "  <thead>\n",
       "    <tr style=\"text-align: right;\">\n",
       "      <th></th>\n",
       "      <th>user_id</th>\n",
       "      <th>n_viewed</th>\n",
       "      <th>n_discovered</th>\n",
       "      <th>n_passed</th>\n",
       "      <th>n_started_attempt</th>\n",
       "      <th>n_steps</th>\n",
       "      <th>n_correct</th>\n",
       "      <th>n_wrong</th>\n",
       "    </tr>\n",
       "  </thead>\n",
       "  <tbody>\n",
       "    <tr>\n",
       "      <th>0</th>\n",
       "      <td>1</td>\n",
       "      <td>1.0</td>\n",
       "      <td>1.0</td>\n",
       "      <td>0.0</td>\n",
       "      <td>0.0</td>\n",
       "      <td>1</td>\n",
       "      <td>0.0</td>\n",
       "      <td>0.0</td>\n",
       "    </tr>\n",
       "    <tr>\n",
       "      <th>1</th>\n",
       "      <td>2</td>\n",
       "      <td>9.0</td>\n",
       "      <td>9.0</td>\n",
       "      <td>9.0</td>\n",
       "      <td>2.0</td>\n",
       "      <td>9</td>\n",
       "      <td>2.0</td>\n",
       "      <td>0.0</td>\n",
       "    </tr>\n",
       "    <tr>\n",
       "      <th>2</th>\n",
       "      <td>3</td>\n",
       "      <td>20.0</td>\n",
       "      <td>15.0</td>\n",
       "      <td>15.0</td>\n",
       "      <td>4.0</td>\n",
       "      <td>15</td>\n",
       "      <td>4.0</td>\n",
       "      <td>4.0</td>\n",
       "    </tr>\n",
       "    <tr>\n",
       "      <th>3</th>\n",
       "      <td>5</td>\n",
       "      <td>1.0</td>\n",
       "      <td>1.0</td>\n",
       "      <td>1.0</td>\n",
       "      <td>0.0</td>\n",
       "      <td>1</td>\n",
       "      <td>0.0</td>\n",
       "      <td>0.0</td>\n",
       "    </tr>\n",
       "    <tr>\n",
       "      <th>4</th>\n",
       "      <td>7</td>\n",
       "      <td>1.0</td>\n",
       "      <td>1.0</td>\n",
       "      <td>1.0</td>\n",
       "      <td>0.0</td>\n",
       "      <td>1</td>\n",
       "      <td>0.0</td>\n",
       "      <td>0.0</td>\n",
       "    </tr>\n",
       "    <tr>\n",
       "      <th>...</th>\n",
       "      <td>...</td>\n",
       "      <td>...</td>\n",
       "      <td>...</td>\n",
       "      <td>...</td>\n",
       "      <td>...</td>\n",
       "      <td>...</td>\n",
       "      <td>...</td>\n",
       "      <td>...</td>\n",
       "    </tr>\n",
       "    <tr>\n",
       "      <th>19229</th>\n",
       "      <td>26790</td>\n",
       "      <td>6.0</td>\n",
       "      <td>6.0</td>\n",
       "      <td>6.0</td>\n",
       "      <td>1.0</td>\n",
       "      <td>6</td>\n",
       "      <td>1.0</td>\n",
       "      <td>0.0</td>\n",
       "    </tr>\n",
       "    <tr>\n",
       "      <th>19230</th>\n",
       "      <td>26793</td>\n",
       "      <td>1.0</td>\n",
       "      <td>1.0</td>\n",
       "      <td>0.0</td>\n",
       "      <td>1.0</td>\n",
       "      <td>1</td>\n",
       "      <td>0.0</td>\n",
       "      <td>0.0</td>\n",
       "    </tr>\n",
       "    <tr>\n",
       "      <th>19231</th>\n",
       "      <td>26794</td>\n",
       "      <td>134.0</td>\n",
       "      <td>61.0</td>\n",
       "      <td>61.0</td>\n",
       "      <td>32.0</td>\n",
       "      <td>61</td>\n",
       "      <td>31.0</td>\n",
       "      <td>9.0</td>\n",
       "    </tr>\n",
       "    <tr>\n",
       "      <th>19232</th>\n",
       "      <td>26797</td>\n",
       "      <td>10.0</td>\n",
       "      <td>10.0</td>\n",
       "      <td>10.0</td>\n",
       "      <td>2.0</td>\n",
       "      <td>10</td>\n",
       "      <td>2.0</td>\n",
       "      <td>0.0</td>\n",
       "    </tr>\n",
       "    <tr>\n",
       "      <th>19233</th>\n",
       "      <td>26798</td>\n",
       "      <td>12.0</td>\n",
       "      <td>12.0</td>\n",
       "      <td>12.0</td>\n",
       "      <td>3.0</td>\n",
       "      <td>12</td>\n",
       "      <td>2.0</td>\n",
       "      <td>1.0</td>\n",
       "    </tr>\n",
       "  </tbody>\n",
       "</table>\n",
       "<p>19234 rows × 8 columns</p>\n",
       "</div>"
      ],
      "text/plain": [
       "       user_id  n_viewed  n_discovered  n_passed  n_started_attempt  n_steps  \\\n",
       "0            1       1.0           1.0       0.0                0.0        1   \n",
       "1            2       9.0           9.0       9.0                2.0        9   \n",
       "2            3      20.0          15.0      15.0                4.0       15   \n",
       "3            5       1.0           1.0       1.0                0.0        1   \n",
       "4            7       1.0           1.0       1.0                0.0        1   \n",
       "...        ...       ...           ...       ...                ...      ...   \n",
       "19229    26790       6.0           6.0       6.0                1.0        6   \n",
       "19230    26793       1.0           1.0       0.0                1.0        1   \n",
       "19231    26794     134.0          61.0      61.0               32.0       61   \n",
       "19232    26797      10.0          10.0      10.0                2.0       10   \n",
       "19233    26798      12.0          12.0      12.0                3.0       12   \n",
       "\n",
       "       n_correct  n_wrong  \n",
       "0            0.0      0.0  \n",
       "1            2.0      0.0  \n",
       "2            4.0      4.0  \n",
       "3            0.0      0.0  \n",
       "4            0.0      0.0  \n",
       "...          ...      ...  \n",
       "19229        1.0      0.0  \n",
       "19230        0.0      0.0  \n",
       "19231       31.0      9.0  \n",
       "19232        2.0      0.0  \n",
       "19233        2.0      1.0  \n",
       "\n",
       "[19234 rows x 8 columns]"
      ]
     },
     "execution_count": 4,
     "metadata": {},
     "output_type": "execute_result"
    }
   ],
   "source": [
    "X_train"
   ]
  },
  {
   "cell_type": "code",
   "execution_count": 5,
   "metadata": {},
   "outputs": [
    {
     "data": {
      "text/html": [
       "<div>\n",
       "<style scoped>\n",
       "    .dataframe tbody tr th:only-of-type {\n",
       "        vertical-align: middle;\n",
       "    }\n",
       "\n",
       "    .dataframe tbody tr th {\n",
       "        vertical-align: top;\n",
       "    }\n",
       "\n",
       "    .dataframe thead th {\n",
       "        text-align: right;\n",
       "    }\n",
       "</style>\n",
       "<table border=\"1\" class=\"dataframe\">\n",
       "  <thead>\n",
       "    <tr style=\"text-align: right;\">\n",
       "      <th></th>\n",
       "      <th>user_id</th>\n",
       "      <th>is_completed_course</th>\n",
       "    </tr>\n",
       "  </thead>\n",
       "  <tbody>\n",
       "    <tr>\n",
       "      <th>0</th>\n",
       "      <td>1</td>\n",
       "      <td>0</td>\n",
       "    </tr>\n",
       "    <tr>\n",
       "      <th>1</th>\n",
       "      <td>2</td>\n",
       "      <td>0</td>\n",
       "    </tr>\n",
       "    <tr>\n",
       "      <th>2</th>\n",
       "      <td>3</td>\n",
       "      <td>1</td>\n",
       "    </tr>\n",
       "    <tr>\n",
       "      <th>3</th>\n",
       "      <td>5</td>\n",
       "      <td>0</td>\n",
       "    </tr>\n",
       "    <tr>\n",
       "      <th>4</th>\n",
       "      <td>7</td>\n",
       "      <td>0</td>\n",
       "    </tr>\n",
       "    <tr>\n",
       "      <th>...</th>\n",
       "      <td>...</td>\n",
       "      <td>...</td>\n",
       "    </tr>\n",
       "    <tr>\n",
       "      <th>19229</th>\n",
       "      <td>26790</td>\n",
       "      <td>0</td>\n",
       "    </tr>\n",
       "    <tr>\n",
       "      <th>19230</th>\n",
       "      <td>26793</td>\n",
       "      <td>0</td>\n",
       "    </tr>\n",
       "    <tr>\n",
       "      <th>19231</th>\n",
       "      <td>26794</td>\n",
       "      <td>1</td>\n",
       "    </tr>\n",
       "    <tr>\n",
       "      <th>19232</th>\n",
       "      <td>26797</td>\n",
       "      <td>0</td>\n",
       "    </tr>\n",
       "    <tr>\n",
       "      <th>19233</th>\n",
       "      <td>26798</td>\n",
       "      <td>0</td>\n",
       "    </tr>\n",
       "  </tbody>\n",
       "</table>\n",
       "<p>19234 rows × 2 columns</p>\n",
       "</div>"
      ],
      "text/plain": [
       "       user_id  is_completed_course\n",
       "0            1                    0\n",
       "1            2                    0\n",
       "2            3                    1\n",
       "3            5                    0\n",
       "4            7                    0\n",
       "...        ...                  ...\n",
       "19229    26790                    0\n",
       "19230    26793                    0\n",
       "19231    26794                    1\n",
       "19232    26797                    0\n",
       "19233    26798                    0\n",
       "\n",
       "[19234 rows x 2 columns]"
      ]
     },
     "execution_count": 5,
     "metadata": {},
     "output_type": "execute_result"
    }
   ],
   "source": [
    "y_train"
   ]
  },
  {
   "cell_type": "code",
   "execution_count": 6,
   "metadata": {
    "scrolled": false
   },
   "outputs": [
    {
     "data": {
      "text/html": [
       "<div>\n",
       "<style scoped>\n",
       "    .dataframe tbody tr th:only-of-type {\n",
       "        vertical-align: middle;\n",
       "    }\n",
       "\n",
       "    .dataframe tbody tr th {\n",
       "        vertical-align: top;\n",
       "    }\n",
       "\n",
       "    .dataframe thead th {\n",
       "        text-align: right;\n",
       "    }\n",
       "</style>\n",
       "<table border=\"1\" class=\"dataframe\">\n",
       "  <thead>\n",
       "    <tr style=\"text-align: right;\">\n",
       "      <th></th>\n",
       "      <th>user_id</th>\n",
       "      <th>n_viewed</th>\n",
       "      <th>n_discovered</th>\n",
       "      <th>n_passed</th>\n",
       "      <th>n_started_attempt</th>\n",
       "      <th>n_steps</th>\n",
       "      <th>n_correct</th>\n",
       "      <th>n_wrong</th>\n",
       "    </tr>\n",
       "  </thead>\n",
       "  <tbody>\n",
       "    <tr>\n",
       "      <th>user_id</th>\n",
       "      <td>1.000000</td>\n",
       "      <td>-0.006687</td>\n",
       "      <td>-0.003158</td>\n",
       "      <td>-0.004559</td>\n",
       "      <td>-0.000043</td>\n",
       "      <td>-0.003473</td>\n",
       "      <td>-0.002000</td>\n",
       "      <td>-0.003679</td>\n",
       "    </tr>\n",
       "    <tr>\n",
       "      <th>n_viewed</th>\n",
       "      <td>-0.006687</td>\n",
       "      <td>1.000000</td>\n",
       "      <td>0.893119</td>\n",
       "      <td>0.882922</td>\n",
       "      <td>0.832400</td>\n",
       "      <td>0.896572</td>\n",
       "      <td>0.804014</td>\n",
       "      <td>0.639160</td>\n",
       "    </tr>\n",
       "    <tr>\n",
       "      <th>n_discovered</th>\n",
       "      <td>-0.003158</td>\n",
       "      <td>0.893119</td>\n",
       "      <td>1.000000</td>\n",
       "      <td>0.989159</td>\n",
       "      <td>0.895011</td>\n",
       "      <td>0.999512</td>\n",
       "      <td>0.879153</td>\n",
       "      <td>0.578789</td>\n",
       "    </tr>\n",
       "    <tr>\n",
       "      <th>n_passed</th>\n",
       "      <td>-0.004559</td>\n",
       "      <td>0.882922</td>\n",
       "      <td>0.989159</td>\n",
       "      <td>1.000000</td>\n",
       "      <td>0.912259</td>\n",
       "      <td>0.988600</td>\n",
       "      <td>0.926303</td>\n",
       "      <td>0.592832</td>\n",
       "    </tr>\n",
       "    <tr>\n",
       "      <th>n_started_attempt</th>\n",
       "      <td>-0.000043</td>\n",
       "      <td>0.832400</td>\n",
       "      <td>0.895011</td>\n",
       "      <td>0.912259</td>\n",
       "      <td>1.000000</td>\n",
       "      <td>0.895319</td>\n",
       "      <td>0.930222</td>\n",
       "      <td>0.687295</td>\n",
       "    </tr>\n",
       "    <tr>\n",
       "      <th>n_steps</th>\n",
       "      <td>-0.003473</td>\n",
       "      <td>0.896572</td>\n",
       "      <td>0.999512</td>\n",
       "      <td>0.988600</td>\n",
       "      <td>0.895319</td>\n",
       "      <td>1.000000</td>\n",
       "      <td>0.878566</td>\n",
       "      <td>0.578417</td>\n",
       "    </tr>\n",
       "    <tr>\n",
       "      <th>n_correct</th>\n",
       "      <td>-0.002000</td>\n",
       "      <td>0.804014</td>\n",
       "      <td>0.879153</td>\n",
       "      <td>0.926303</td>\n",
       "      <td>0.930222</td>\n",
       "      <td>0.878566</td>\n",
       "      <td>1.000000</td>\n",
       "      <td>0.621011</td>\n",
       "    </tr>\n",
       "    <tr>\n",
       "      <th>n_wrong</th>\n",
       "      <td>-0.003679</td>\n",
       "      <td>0.639160</td>\n",
       "      <td>0.578789</td>\n",
       "      <td>0.592832</td>\n",
       "      <td>0.687295</td>\n",
       "      <td>0.578417</td>\n",
       "      <td>0.621011</td>\n",
       "      <td>1.000000</td>\n",
       "    </tr>\n",
       "  </tbody>\n",
       "</table>\n",
       "</div>"
      ],
      "text/plain": [
       "                    user_id  n_viewed  n_discovered  n_passed  \\\n",
       "user_id            1.000000 -0.006687     -0.003158 -0.004559   \n",
       "n_viewed          -0.006687  1.000000      0.893119  0.882922   \n",
       "n_discovered      -0.003158  0.893119      1.000000  0.989159   \n",
       "n_passed          -0.004559  0.882922      0.989159  1.000000   \n",
       "n_started_attempt -0.000043  0.832400      0.895011  0.912259   \n",
       "n_steps           -0.003473  0.896572      0.999512  0.988600   \n",
       "n_correct         -0.002000  0.804014      0.879153  0.926303   \n",
       "n_wrong           -0.003679  0.639160      0.578789  0.592832   \n",
       "\n",
       "                   n_started_attempt   n_steps  n_correct   n_wrong  \n",
       "user_id                    -0.000043 -0.003473  -0.002000 -0.003679  \n",
       "n_viewed                    0.832400  0.896572   0.804014  0.639160  \n",
       "n_discovered                0.895011  0.999512   0.879153  0.578789  \n",
       "n_passed                    0.912259  0.988600   0.926303  0.592832  \n",
       "n_started_attempt           1.000000  0.895319   0.930222  0.687295  \n",
       "n_steps                     0.895319  1.000000   0.878566  0.578417  \n",
       "n_correct                   0.930222  0.878566   1.000000  0.621011  \n",
       "n_wrong                     0.687295  0.578417   0.621011  1.000000  "
      ]
     },
     "execution_count": 6,
     "metadata": {},
     "output_type": "execute_result"
    }
   ],
   "source": [
    "X_train.corr()"
   ]
  },
  {
   "cell_type": "markdown",
   "metadata": {},
   "source": [
    "### Набллюдаем высокую корреляцию признаков, что означает что большая их часть будет только мешать обучению "
   ]
  },
  {
   "cell_type": "markdown",
   "metadata": {},
   "source": [
    "### Поэтому уменьшаем количество признаков, оставляя самые важные"
   ]
  },
  {
   "cell_type": "markdown",
   "metadata": {},
   "source": [
    "#### Устанавливаем user_id в качестве индекса у обоих датасетов"
   ]
  },
  {
   "cell_type": "code",
   "execution_count": 7,
   "metadata": {},
   "outputs": [],
   "source": [
    "y_train = y_train.set_index('user_id')\n",
    "X_train = X_train.set_index('user_id')"
   ]
  },
  {
   "cell_type": "markdown",
   "metadata": {},
   "source": [
    "#### Создаем фичу correct_ratio, как отношение верных ответов ко всем ответам"
   ]
  },
  {
   "cell_type": "code",
   "execution_count": 8,
   "metadata": {},
   "outputs": [],
   "source": [
    "X_train['correct_ratio'] = X_train.n_correct / (X_train.n_correct + X_train.n_wrong)"
   ]
  },
  {
   "cell_type": "markdown",
   "metadata": {},
   "source": [
    "#### Удаляем малозначимые колонки"
   ]
  },
  {
   "cell_type": "code",
   "execution_count": 9,
   "metadata": {},
   "outputs": [],
   "source": [
    "#drop_columns = ['n_started_attempt', 'n_correct', 'n_wrong', 'n_viewed', 'n_discovered', 'n_passed']"
   ]
  },
  {
   "cell_type": "code",
   "execution_count": 10,
   "metadata": {},
   "outputs": [],
   "source": [
    "#X_train = X_train.drop(drop_columns, axis = 1)"
   ]
  },
  {
   "cell_type": "markdown",
   "metadata": {},
   "source": [
    "#### На всякий случай избавляемся от NaN значение "
   ]
  },
  {
   "cell_type": "code",
   "execution_count": 11,
   "metadata": {
    "scrolled": false
   },
   "outputs": [
    {
     "data": {
      "text/html": [
       "<div>\n",
       "<style scoped>\n",
       "    .dataframe tbody tr th:only-of-type {\n",
       "        vertical-align: middle;\n",
       "    }\n",
       "\n",
       "    .dataframe tbody tr th {\n",
       "        vertical-align: top;\n",
       "    }\n",
       "\n",
       "    .dataframe thead th {\n",
       "        text-align: right;\n",
       "    }\n",
       "</style>\n",
       "<table border=\"1\" class=\"dataframe\">\n",
       "  <thead>\n",
       "    <tr style=\"text-align: right;\">\n",
       "      <th></th>\n",
       "      <th>n_viewed</th>\n",
       "      <th>n_discovered</th>\n",
       "      <th>n_passed</th>\n",
       "      <th>n_started_attempt</th>\n",
       "      <th>n_steps</th>\n",
       "      <th>n_correct</th>\n",
       "      <th>n_wrong</th>\n",
       "      <th>correct_ratio</th>\n",
       "    </tr>\n",
       "    <tr>\n",
       "      <th>user_id</th>\n",
       "      <th></th>\n",
       "      <th></th>\n",
       "      <th></th>\n",
       "      <th></th>\n",
       "      <th></th>\n",
       "      <th></th>\n",
       "      <th></th>\n",
       "      <th></th>\n",
       "    </tr>\n",
       "  </thead>\n",
       "  <tbody>\n",
       "    <tr>\n",
       "      <th>1</th>\n",
       "      <td>1.0</td>\n",
       "      <td>1.0</td>\n",
       "      <td>0.0</td>\n",
       "      <td>0.0</td>\n",
       "      <td>1</td>\n",
       "      <td>0.0</td>\n",
       "      <td>0.0</td>\n",
       "      <td>0.000000</td>\n",
       "    </tr>\n",
       "    <tr>\n",
       "      <th>2</th>\n",
       "      <td>9.0</td>\n",
       "      <td>9.0</td>\n",
       "      <td>9.0</td>\n",
       "      <td>2.0</td>\n",
       "      <td>9</td>\n",
       "      <td>2.0</td>\n",
       "      <td>0.0</td>\n",
       "      <td>1.000000</td>\n",
       "    </tr>\n",
       "    <tr>\n",
       "      <th>3</th>\n",
       "      <td>20.0</td>\n",
       "      <td>15.0</td>\n",
       "      <td>15.0</td>\n",
       "      <td>4.0</td>\n",
       "      <td>15</td>\n",
       "      <td>4.0</td>\n",
       "      <td>4.0</td>\n",
       "      <td>0.500000</td>\n",
       "    </tr>\n",
       "    <tr>\n",
       "      <th>5</th>\n",
       "      <td>1.0</td>\n",
       "      <td>1.0</td>\n",
       "      <td>1.0</td>\n",
       "      <td>0.0</td>\n",
       "      <td>1</td>\n",
       "      <td>0.0</td>\n",
       "      <td>0.0</td>\n",
       "      <td>0.000000</td>\n",
       "    </tr>\n",
       "    <tr>\n",
       "      <th>7</th>\n",
       "      <td>1.0</td>\n",
       "      <td>1.0</td>\n",
       "      <td>1.0</td>\n",
       "      <td>0.0</td>\n",
       "      <td>1</td>\n",
       "      <td>0.0</td>\n",
       "      <td>0.0</td>\n",
       "      <td>0.000000</td>\n",
       "    </tr>\n",
       "    <tr>\n",
       "      <th>...</th>\n",
       "      <td>...</td>\n",
       "      <td>...</td>\n",
       "      <td>...</td>\n",
       "      <td>...</td>\n",
       "      <td>...</td>\n",
       "      <td>...</td>\n",
       "      <td>...</td>\n",
       "      <td>...</td>\n",
       "    </tr>\n",
       "    <tr>\n",
       "      <th>26790</th>\n",
       "      <td>6.0</td>\n",
       "      <td>6.0</td>\n",
       "      <td>6.0</td>\n",
       "      <td>1.0</td>\n",
       "      <td>6</td>\n",
       "      <td>1.0</td>\n",
       "      <td>0.0</td>\n",
       "      <td>1.000000</td>\n",
       "    </tr>\n",
       "    <tr>\n",
       "      <th>26793</th>\n",
       "      <td>1.0</td>\n",
       "      <td>1.0</td>\n",
       "      <td>0.0</td>\n",
       "      <td>1.0</td>\n",
       "      <td>1</td>\n",
       "      <td>0.0</td>\n",
       "      <td>0.0</td>\n",
       "      <td>0.000000</td>\n",
       "    </tr>\n",
       "    <tr>\n",
       "      <th>26794</th>\n",
       "      <td>134.0</td>\n",
       "      <td>61.0</td>\n",
       "      <td>61.0</td>\n",
       "      <td>32.0</td>\n",
       "      <td>61</td>\n",
       "      <td>31.0</td>\n",
       "      <td>9.0</td>\n",
       "      <td>0.775000</td>\n",
       "    </tr>\n",
       "    <tr>\n",
       "      <th>26797</th>\n",
       "      <td>10.0</td>\n",
       "      <td>10.0</td>\n",
       "      <td>10.0</td>\n",
       "      <td>2.0</td>\n",
       "      <td>10</td>\n",
       "      <td>2.0</td>\n",
       "      <td>0.0</td>\n",
       "      <td>1.000000</td>\n",
       "    </tr>\n",
       "    <tr>\n",
       "      <th>26798</th>\n",
       "      <td>12.0</td>\n",
       "      <td>12.0</td>\n",
       "      <td>12.0</td>\n",
       "      <td>3.0</td>\n",
       "      <td>12</td>\n",
       "      <td>2.0</td>\n",
       "      <td>1.0</td>\n",
       "      <td>0.666667</td>\n",
       "    </tr>\n",
       "  </tbody>\n",
       "</table>\n",
       "<p>19234 rows × 8 columns</p>\n",
       "</div>"
      ],
      "text/plain": [
       "         n_viewed  n_discovered  n_passed  n_started_attempt  n_steps  \\\n",
       "user_id                                                                 \n",
       "1             1.0           1.0       0.0                0.0        1   \n",
       "2             9.0           9.0       9.0                2.0        9   \n",
       "3            20.0          15.0      15.0                4.0       15   \n",
       "5             1.0           1.0       1.0                0.0        1   \n",
       "7             1.0           1.0       1.0                0.0        1   \n",
       "...           ...           ...       ...                ...      ...   \n",
       "26790         6.0           6.0       6.0                1.0        6   \n",
       "26793         1.0           1.0       0.0                1.0        1   \n",
       "26794       134.0          61.0      61.0               32.0       61   \n",
       "26797        10.0          10.0      10.0                2.0       10   \n",
       "26798        12.0          12.0      12.0                3.0       12   \n",
       "\n",
       "         n_correct  n_wrong  correct_ratio  \n",
       "user_id                                     \n",
       "1              0.0      0.0       0.000000  \n",
       "2              2.0      0.0       1.000000  \n",
       "3              4.0      4.0       0.500000  \n",
       "5              0.0      0.0       0.000000  \n",
       "7              0.0      0.0       0.000000  \n",
       "...            ...      ...            ...  \n",
       "26790          1.0      0.0       1.000000  \n",
       "26793          0.0      0.0       0.000000  \n",
       "26794         31.0      9.0       0.775000  \n",
       "26797          2.0      0.0       1.000000  \n",
       "26798          2.0      1.0       0.666667  \n",
       "\n",
       "[19234 rows x 8 columns]"
      ]
     },
     "execution_count": 11,
     "metadata": {},
     "output_type": "execute_result"
    }
   ],
   "source": [
    "X_train = X_train.fillna(0)\n",
    "X_def = X_train.copy(deep=True)\n",
    "X_train"
   ]
  },
  {
   "cell_type": "markdown",
   "metadata": {},
   "source": [
    "### Делим данные на train и test выборки для уменьшения вероятности переобучения модели"
   ]
  },
  {
   "cell_type": "code",
   "execution_count": 12,
   "metadata": {},
   "outputs": [],
   "source": [
    "# разделение данных для обучения на train и test\n",
    "X_tr, X_tst, y_tr, y_tst = train_test_split(X_train, y_train, test_size=0.2)"
   ]
  },
  {
   "cell_type": "markdown",
   "metadata": {},
   "source": [
    "### Ищем оптимальные значения параметров для RandomForest с помощью перебора последних"
   ]
  },
  {
   "cell_type": "code",
   "execution_count": 13,
   "metadata": {
    "scrolled": true
   },
   "outputs": [
    {
     "name": "stdout",
     "output_type": "stream",
     "text": [
      "Wall time: 34.9 s\n"
     ]
    }
   ],
   "source": [
    "%%time\n",
    "rf = RandomForestClassifier()\n",
    "\n",
    "# Валидируемые параметры: \n",
    "params = {'n_estimators' : range(20, 100, 10), 'max_depth' : range(1, 5), 'min_samples_leaf' : range(1, 5)}\n",
    "\n",
    "# Осуществляем поиск оптимальной комбинации параметров по метрике roc_auc\n",
    "clf = GridSearchCV(rf, params, n_jobs = -1, cv = 3, scoring = 'roc_auc').fit(X_tr, y_tr.is_completed_course)"
   ]
  },
  {
   "cell_type": "markdown",
   "metadata": {},
   "source": [
    "#### Лучшие параметры:"
   ]
  },
  {
   "cell_type": "code",
   "execution_count": 14,
   "metadata": {
    "scrolled": true
   },
   "outputs": [
    {
     "data": {
      "text/plain": [
       "{'max_depth': 4, 'min_samples_leaf': 4, 'n_estimators': 60}"
      ]
     },
     "execution_count": 14,
     "metadata": {},
     "output_type": "execute_result"
    }
   ],
   "source": [
    "clf.best_params_"
   ]
  },
  {
   "cell_type": "markdown",
   "metadata": {},
   "source": [
    "### roc auc score на test выборке и на всем наборе данных "
   ]
  },
  {
   "cell_type": "code",
   "execution_count": 15,
   "metadata": {},
   "outputs": [
    {
     "data": {
      "text/plain": [
       "0.888102302897212"
      ]
     },
     "execution_count": 15,
     "metadata": {},
     "output_type": "execute_result"
    }
   ],
   "source": [
    "roc_auc_score(y_tst, clf.best_estimator_.predict_proba(X_tst)[:,1])"
   ]
  },
  {
   "cell_type": "code",
   "execution_count": 16,
   "metadata": {
    "scrolled": true
   },
   "outputs": [
    {
     "data": {
      "text/plain": [
       "0.8861894089019527"
      ]
     },
     "execution_count": 16,
     "metadata": {},
     "output_type": "execute_result"
    }
   ],
   "source": [
    "roc_auc_score(y_train, clf.best_estimator_.predict_proba(X_train)[:,1])"
   ]
  },
  {
   "cell_type": "markdown",
   "metadata": {},
   "source": [
    "### Значимость фичей:"
   ]
  },
  {
   "cell_type": "code",
   "execution_count": 17,
   "metadata": {},
   "outputs": [
    {
     "data": {
      "text/plain": [
       "array([0.09289185, 0.28723567, 0.19702066, 0.03552701, 0.15299939,\n",
       "       0.19585964, 0.01912366, 0.01934212])"
      ]
     },
     "execution_count": 17,
     "metadata": {},
     "output_type": "execute_result"
    }
   ],
   "source": [
    "clf.best_estimator_.feature_importances_"
   ]
  },
  {
   "cell_type": "markdown",
   "metadata": {},
   "source": [
    "### Попробуем удалить наименее значимые колонки ( Значимость которых меньше 0.1)"
   ]
  },
  {
   "cell_type": "markdown",
   "metadata": {},
   "source": [
    "#### Удаляем малозначимые колонки"
   ]
  },
  {
   "cell_type": "code",
   "execution_count": 18,
   "metadata": {},
   "outputs": [],
   "source": [
    "drop_columns = ['n_viewed', 'n_started_attempt', 'n_wrong', 'correct_ratio']"
   ]
  },
  {
   "cell_type": "code",
   "execution_count": 19,
   "metadata": {},
   "outputs": [],
   "source": [
    "X_train = X_train.drop(drop_columns, axis = 1)"
   ]
  },
  {
   "cell_type": "code",
   "execution_count": 20,
   "metadata": {},
   "outputs": [
    {
     "data": {
      "text/html": [
       "<div>\n",
       "<style scoped>\n",
       "    .dataframe tbody tr th:only-of-type {\n",
       "        vertical-align: middle;\n",
       "    }\n",
       "\n",
       "    .dataframe tbody tr th {\n",
       "        vertical-align: top;\n",
       "    }\n",
       "\n",
       "    .dataframe thead th {\n",
       "        text-align: right;\n",
       "    }\n",
       "</style>\n",
       "<table border=\"1\" class=\"dataframe\">\n",
       "  <thead>\n",
       "    <tr style=\"text-align: right;\">\n",
       "      <th></th>\n",
       "      <th>n_discovered</th>\n",
       "      <th>n_passed</th>\n",
       "      <th>n_steps</th>\n",
       "      <th>n_correct</th>\n",
       "    </tr>\n",
       "    <tr>\n",
       "      <th>user_id</th>\n",
       "      <th></th>\n",
       "      <th></th>\n",
       "      <th></th>\n",
       "      <th></th>\n",
       "    </tr>\n",
       "  </thead>\n",
       "  <tbody>\n",
       "    <tr>\n",
       "      <th>1</th>\n",
       "      <td>1.0</td>\n",
       "      <td>0.0</td>\n",
       "      <td>1</td>\n",
       "      <td>0.0</td>\n",
       "    </tr>\n",
       "    <tr>\n",
       "      <th>2</th>\n",
       "      <td>9.0</td>\n",
       "      <td>9.0</td>\n",
       "      <td>9</td>\n",
       "      <td>2.0</td>\n",
       "    </tr>\n",
       "    <tr>\n",
       "      <th>3</th>\n",
       "      <td>15.0</td>\n",
       "      <td>15.0</td>\n",
       "      <td>15</td>\n",
       "      <td>4.0</td>\n",
       "    </tr>\n",
       "    <tr>\n",
       "      <th>5</th>\n",
       "      <td>1.0</td>\n",
       "      <td>1.0</td>\n",
       "      <td>1</td>\n",
       "      <td>0.0</td>\n",
       "    </tr>\n",
       "    <tr>\n",
       "      <th>7</th>\n",
       "      <td>1.0</td>\n",
       "      <td>1.0</td>\n",
       "      <td>1</td>\n",
       "      <td>0.0</td>\n",
       "    </tr>\n",
       "    <tr>\n",
       "      <th>...</th>\n",
       "      <td>...</td>\n",
       "      <td>...</td>\n",
       "      <td>...</td>\n",
       "      <td>...</td>\n",
       "    </tr>\n",
       "    <tr>\n",
       "      <th>26790</th>\n",
       "      <td>6.0</td>\n",
       "      <td>6.0</td>\n",
       "      <td>6</td>\n",
       "      <td>1.0</td>\n",
       "    </tr>\n",
       "    <tr>\n",
       "      <th>26793</th>\n",
       "      <td>1.0</td>\n",
       "      <td>0.0</td>\n",
       "      <td>1</td>\n",
       "      <td>0.0</td>\n",
       "    </tr>\n",
       "    <tr>\n",
       "      <th>26794</th>\n",
       "      <td>61.0</td>\n",
       "      <td>61.0</td>\n",
       "      <td>61</td>\n",
       "      <td>31.0</td>\n",
       "    </tr>\n",
       "    <tr>\n",
       "      <th>26797</th>\n",
       "      <td>10.0</td>\n",
       "      <td>10.0</td>\n",
       "      <td>10</td>\n",
       "      <td>2.0</td>\n",
       "    </tr>\n",
       "    <tr>\n",
       "      <th>26798</th>\n",
       "      <td>12.0</td>\n",
       "      <td>12.0</td>\n",
       "      <td>12</td>\n",
       "      <td>2.0</td>\n",
       "    </tr>\n",
       "  </tbody>\n",
       "</table>\n",
       "<p>19234 rows × 4 columns</p>\n",
       "</div>"
      ],
      "text/plain": [
       "         n_discovered  n_passed  n_steps  n_correct\n",
       "user_id                                            \n",
       "1                 1.0       0.0        1        0.0\n",
       "2                 9.0       9.0        9        2.0\n",
       "3                15.0      15.0       15        4.0\n",
       "5                 1.0       1.0        1        0.0\n",
       "7                 1.0       1.0        1        0.0\n",
       "...               ...       ...      ...        ...\n",
       "26790             6.0       6.0        6        1.0\n",
       "26793             1.0       0.0        1        0.0\n",
       "26794            61.0      61.0       61       31.0\n",
       "26797            10.0      10.0       10        2.0\n",
       "26798            12.0      12.0       12        2.0\n",
       "\n",
       "[19234 rows x 4 columns]"
      ]
     },
     "execution_count": 20,
     "metadata": {},
     "output_type": "execute_result"
    }
   ],
   "source": [
    "X_train"
   ]
  },
  {
   "cell_type": "code",
   "execution_count": 21,
   "metadata": {},
   "outputs": [],
   "source": [
    "# разделение данных для обучения на train и test\n",
    "X_tr, X_tst, y_tr, y_tst = train_test_split(X_train, y_train, test_size=0.2)"
   ]
  },
  {
   "cell_type": "code",
   "execution_count": 22,
   "metadata": {},
   "outputs": [
    {
     "name": "stdout",
     "output_type": "stream",
     "text": [
      "Wall time: 33.8 s\n"
     ]
    }
   ],
   "source": [
    "%%time\n",
    "rf = RandomForestClassifier()\n",
    "\n",
    "# Валидируемые параметры: \n",
    "params = {'n_estimators' : range(20, 100, 10), 'max_depth' : range(1, 5), 'min_samples_leaf' : range(1, 5)}\n",
    "\n",
    "# Осуществляем поиск оптимальной комбинации параметров по метрике roc_auc\n",
    "clf = GridSearchCV(rf, params, n_jobs = -1, cv = 3, scoring = 'roc_auc').fit(X_tr, y_tr.is_completed_course)"
   ]
  },
  {
   "cell_type": "code",
   "execution_count": 23,
   "metadata": {
    "scrolled": true
   },
   "outputs": [
    {
     "data": {
      "text/plain": [
       "{'max_depth': 4, 'min_samples_leaf': 4, 'n_estimators': 70}"
      ]
     },
     "execution_count": 23,
     "metadata": {},
     "output_type": "execute_result"
    }
   ],
   "source": [
    "clf.best_params_"
   ]
  },
  {
   "cell_type": "code",
   "execution_count": 24,
   "metadata": {},
   "outputs": [
    {
     "data": {
      "text/plain": [
       "0.8883531963432676"
      ]
     },
     "execution_count": 24,
     "metadata": {},
     "output_type": "execute_result"
    }
   ],
   "source": [
    "roc_auc_score(y_tst, clf.best_estimator_.predict_proba(X_tst)[:,1])"
   ]
  },
  {
   "cell_type": "code",
   "execution_count": 25,
   "metadata": {
    "scrolled": true
   },
   "outputs": [
    {
     "data": {
      "text/plain": [
       "0.8846775082719502"
      ]
     },
     "execution_count": 25,
     "metadata": {},
     "output_type": "execute_result"
    }
   ],
   "source": [
    "roc_auc_score(y_train, clf.best_estimator_.predict_proba(X_train)[:,1])"
   ]
  },
  {
   "cell_type": "markdown",
   "metadata": {},
   "source": [
    "### Значимость фичей:"
   ]
  },
  {
   "cell_type": "code",
   "execution_count": 26,
   "metadata": {},
   "outputs": [
    {
     "data": {
      "text/plain": [
       "array([0.14090147, 0.43634039, 0.30087733, 0.1218808 ])"
      ]
     },
     "execution_count": 26,
     "metadata": {},
     "output_type": "execute_result"
    }
   ],
   "source": [
    "clf.best_estimator_.feature_importances_"
   ]
  },
  {
   "cell_type": "markdown",
   "metadata": {},
   "source": [
    "### Попробуем оставить 2 фичи: n_passed и correct_ratio"
   ]
  },
  {
   "cell_type": "code",
   "execution_count": 28,
   "metadata": {},
   "outputs": [],
   "source": [
    "X_train = X_def[['n_passed', 'correct_ratio']]"
   ]
  },
  {
   "cell_type": "code",
   "execution_count": 29,
   "metadata": {},
   "outputs": [],
   "source": [
    "# разделение данных для обучения на train и test\n",
    "X_tr, X_tst, y_tr, y_tst = train_test_split(X_train, y_train, test_size=0.2)"
   ]
  },
  {
   "cell_type": "code",
   "execution_count": 30,
   "metadata": {},
   "outputs": [
    {
     "name": "stdout",
     "output_type": "stream",
     "text": [
      "Wall time: 32.6 s\n"
     ]
    }
   ],
   "source": [
    "%%time\n",
    "rf = RandomForestClassifier()\n",
    "\n",
    "# Валидируемые параметры: \n",
    "params = {'n_estimators' : range(20, 100, 10), 'max_depth' : range(1, 5), 'min_samples_leaf' : range(1, 5)}\n",
    "\n",
    "# Осуществляем поиск оптимальной комбинации параметров по метрике roc_auc\n",
    "clf = GridSearchCV(rf, params, n_jobs = -1, cv = 3, scoring = 'roc_auc').fit(X_tr, y_tr.is_completed_course)"
   ]
  },
  {
   "cell_type": "code",
   "execution_count": 31,
   "metadata": {
    "scrolled": true
   },
   "outputs": [
    {
     "data": {
      "text/plain": [
       "{'max_depth': 4, 'min_samples_leaf': 3, 'n_estimators': 90}"
      ]
     },
     "execution_count": 31,
     "metadata": {},
     "output_type": "execute_result"
    }
   ],
   "source": [
    "clf.best_params_"
   ]
  },
  {
   "cell_type": "code",
   "execution_count": 32,
   "metadata": {},
   "outputs": [
    {
     "data": {
      "text/plain": [
       "0.8879901761639943"
      ]
     },
     "execution_count": 32,
     "metadata": {},
     "output_type": "execute_result"
    }
   ],
   "source": [
    "roc_auc_score(y_tst, clf.best_estimator_.predict_proba(X_tst)[:,1])"
   ]
  },
  {
   "cell_type": "code",
   "execution_count": 33,
   "metadata": {
    "scrolled": true
   },
   "outputs": [
    {
     "data": {
      "text/plain": [
       "0.8853160739425321"
      ]
     },
     "execution_count": 33,
     "metadata": {},
     "output_type": "execute_result"
    }
   ],
   "source": [
    "roc_auc_score(y_train, clf.best_estimator_.predict_proba(X_train)[:,1])"
   ]
  },
  {
   "cell_type": "markdown",
   "metadata": {},
   "source": [
    "### Значимость фичей:"
   ]
  },
  {
   "cell_type": "code",
   "execution_count": 34,
   "metadata": {},
   "outputs": [
    {
     "data": {
      "text/plain": [
       "array([0.6991558, 0.3008442])"
      ]
     },
     "execution_count": 34,
     "metadata": {},
     "output_type": "execute_result"
    }
   ],
   "source": [
    "clf.best_estimator_.feature_importances_"
   ]
  }
 ],
 "metadata": {
  "kernelspec": {
   "display_name": "Python 3",
   "language": "python",
   "name": "python3"
  },
  "language_info": {
   "codemirror_mode": {
    "name": "ipython",
    "version": 3
   },
   "file_extension": ".py",
   "mimetype": "text/x-python",
   "name": "python",
   "nbconvert_exporter": "python",
   "pygments_lexer": "ipython3",
   "version": "3.7.6"
  }
 },
 "nbformat": 4,
 "nbformat_minor": 4
}
