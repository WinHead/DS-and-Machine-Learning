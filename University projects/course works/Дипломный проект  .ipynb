{
 "cells": [
  {
   "cell_type": "markdown",
   "metadata": {},
   "source": [
    "## Подсистема мониторинга рекламных объявлений на уличных щитах с применением технологии программного анализа изображений в автоматизированной системе мониторинга выполнения обязательств поставщиков рекламных услуг"
   ]
  },
  {
   "cell_type": "markdown",
   "metadata": {},
   "source": [
    "### Задача - создать сервис для рекламного агенства, который бы позволял отбирать наиболее подходящие изображения для отчета."
   ]
  },
  {
   "cell_type": "code",
   "execution_count": 2,
   "metadata": {},
   "outputs": [],
   "source": [
    "import os"
   ]
  },
  {
   "cell_type": "code",
   "execution_count": 3,
   "metadata": {},
   "outputs": [],
   "source": [
    "import json\n",
    "import requests"
   ]
  },
  {
   "cell_type": "code",
   "execution_count": 4,
   "metadata": {},
   "outputs": [],
   "source": [
    "import moviepy.editor as mpy\n",
    "import cv2\n",
    "import numpy as np\n",
    "import glob"
   ]
  },
  {
   "cell_type": "code",
   "execution_count": 5,
   "metadata": {},
   "outputs": [],
   "source": [
    "def set_video(video_path: str):\n",
    "        '''\n",
    "        Получаем капчу по указанному пути\n",
    "        \n",
    "        Arguments:\n",
    "        video_path, str - Путь к видео файлу\n",
    "        \n",
    "        Returns:\n",
    "        capture, cv2.VideoCapture\n",
    "        '''\n",
    "        \n",
    "        # Получаем клип и его fps\n",
    "        video_clip = mpy.VideoFileClip(video_path)\n",
    "        # Запоминаем fps\n",
    "        fps = video_clip.fps\n",
    "        # Запоминаем длительность видео в секундах\n",
    "        duration = video_clip.duration\n",
    "        \n",
    "        # Запоминаем длину и ширину кадра в видео\n",
    "        frame_size = video_clip.size\n",
    "\n",
    "        # Получаем капчу клипа\n",
    "        cap = cv2.VideoCapture(video_path)\n",
    "        \n",
    "        return cap"
   ]
  },
  {
   "cell_type": "code",
   "execution_count": 6,
   "metadata": {},
   "outputs": [],
   "source": [
    "def viewImage(image, name_of_window = \"window\"):\n",
    "    '''Вывод изображения на экран(для отладки)\n",
    "    \n",
    "    Arguments:\n",
    "    image, numpy.ndarray - Изображение, полученное через cap.read()\n",
    "    '''\n",
    "    \n",
    "    ##cv2.namedWindow(name_of_window, cv2.WINDOW_NORMAL)\n",
    "    cv2.imshow(name_of_window, image)\n",
    "    cv2.waitKey(0)\n",
    "    \n",
    "    cv2.destroyAllWindows()"
   ]
  },
  {
   "cell_type": "code",
   "execution_count": 7,
   "metadata": {},
   "outputs": [],
   "source": [
    "def get_frame(cap):\n",
    "    '''\n",
    "    Получаем кадр из видео\n",
    "    \n",
    "    Arguments:\n",
    "    cap, cv2.VideoCapture - Капча видеофайла\n",
    "    \n",
    "    Returns:\n",
    "    frame, numpy.ndarray - кадр оригинального видеоролика\n",
    "    '''\n",
    "    #cap = set_video('to_diplom\\Originals\\Wrapped2021_1440x720_05_Manizha.mp4')\n",
    "\n",
    "    counter_of_frames = 0\n",
    "    \n",
    "    # Запускаем капчу\n",
    "    while(cap.isOpened()):\n",
    "        \n",
    "        # Временный отлмдачный механизм\n",
    "        if counter_of_frames > 3:\n",
    "            break\n",
    "            \n",
    "        ret, frame = cap.read() #ret - сообщ об отсуствии ошибок, frame - сам кадр\n",
    "        \n",
    "        # Инкрементируем счетчик кадров\n",
    "        counter_of_frames+=1\n",
    "            \n",
    "        #?\n",
    "        # Блок останваливает обработку в конце файла или при нажатии клавиши \"q\"\n",
    "        if cv2.waitKey(1) & 0xFF == ord('q') or ret == False:\n",
    "            last_frame = frame\n",
    "            break\n",
    "        \n",
    "    # \"Освобождаем\" капчу\n",
    "    cap.release()\n",
    "    cv2.destroyAllWindows()\n",
    "    \n",
    "    return frame"
   ]
  },
  {
   "cell_type": "code",
   "execution_count": 8,
   "metadata": {},
   "outputs": [],
   "source": [
    "#Функция вычисления хэша\n",
    "def CalcImageHash(image: np.ndarray):\n",
    "    '''\n",
    "    Вычисляем хеш для картинки\n",
    "    \n",
    "    Arguments:\n",
    "    image, numpy.ndarray - Капча видеофайла\n",
    "    \n",
    "    Returns:\n",
    "    _hash, str - хеш картинки\n",
    "    '''\n",
    "    #image = cv2.imread(FileName) #Прочитаем картинку\n",
    "    resized = cv2.resize(image, (8,8), interpolation = cv2.INTER_AREA) #Уменьшим картинку\n",
    "    gray_image = cv2.cvtColor(resized, cv2.COLOR_BGR2GRAY) #Переведем в формат градаций серего\n",
    "    \n",
    "    avg = gray_image.mean() #Среднее значение пикселя\n",
    "    ret, threshold_image = cv2.threshold(gray_image, avg, 255, 0) #Бинаризация по порогу\n",
    "    \n",
    "    #Рассчитаем хэш\n",
    "    _hash=\"\"\n",
    "    for x in range(8):\n",
    "        for y in range(8):\n",
    "            val=threshold_image[x,y]\n",
    "            if val==255:\n",
    "                _hash=_hash+\"1\"\n",
    "            else:\n",
    "                _hash=_hash+\"0\"\n",
    "            \n",
    "    return _hash\n",
    " \n",
    "def CompareHash(hash1: str, hash2: str):\n",
    "    '''\n",
    "    Сравнение 2х хешей\n",
    "    \n",
    "    Arguments:\n",
    "    hash1, str - хеш первого изображения\n",
    "    hash2, str - хеш второго изображения\n",
    "    \n",
    "    Returns:\n",
    "    count, int - мера различия хешей; 0 - хеши идентичны\n",
    "    '''\n",
    "    #l=len(hash1)\n",
    "    #i=0\n",
    "    count=0\n",
    "    for i in range(len(hash1)):\n",
    "        if hash1[i]!=hash2[i]:\n",
    "            count += 1\n",
    "    #while i<l:\n",
    "    #    if hash1[i]!=hash2[i]:\n",
    "    #        count += 1\n",
    "    #    i += 1\n",
    "    return count\n",
    "      \n",
    "#    return CompareHash(CalcImageHash(crop_img_1),CalcImageHash(crop_img_2))"
   ]
  },
  {
   "cell_type": "code",
   "execution_count": 9,
   "metadata": {},
   "outputs": [],
   "source": [
    "def read_images(file_path: str):\n",
    "    '''\n",
    "    Получает все картинки из папки\n",
    "    \n",
    "    Arguments:\n",
    "    file_path, str - относительный путь к папке с картинками\n",
    "    \n",
    "    returns:\n",
    "    array of images, (image: np.ndarray)\n",
    "    '''\n",
    "    \n",
    "    # Собираем из файла все названия картинок\n",
    "    names = [name for name in glob.glob( file_path + \"/*.jpg\")]\n",
    "    \n",
    "    images = []\n",
    "    \n",
    "    # Такая сложность из-за проблемы чтения русских символов библиотекой cv2\n",
    "    \n",
    "    # Для каждого пути получаем картинку\n",
    "    for name in names:\n",
    "        f = open(name, \"rb\")\n",
    "        chunk = f.read()\n",
    "        chunk_arr = np.frombuffer(chunk, dtype=np.uint8)\n",
    "        img = cv2.imdecode(chunk_arr, cv2.IMREAD_COLOR)\n",
    "        \n",
    "        images.append(img)\n",
    "        \n",
    "    return images"
   ]
  },
  {
   "cell_type": "code",
   "execution_count": 10,
   "metadata": {},
   "outputs": [],
   "source": [
    "def read_named_images(file_path: str):\n",
    "    '''\n",
    "    Получает все картинки из папки\n",
    "    \n",
    "    Arguments:\n",
    "    file_path, str - относительный путь к папке с картинками\n",
    "    \n",
    "    returns:\n",
    "    array of images dict\n",
    "    '''\n",
    "    \n",
    "    # Собираем из файла все названия картинок\n",
    "    names = [name for name in glob.glob( file_path + \"/*.jpg\")]\n",
    "    \n",
    "    images = []\n",
    "    \n",
    "    # Такая сложность из-за проблемы чтения русских символов библиотекой cv2\n",
    "    \n",
    "    # Для каждого пути получаем картинку\n",
    "    for name in names:\n",
    "        f = open(name, \"rb\")\n",
    "        chunk = f.read()\n",
    "        chunk_arr = np.frombuffer(chunk, dtype=np.uint8)\n",
    "        img = cv2.imdecode(chunk_arr, cv2.IMREAD_COLOR)\n",
    "        \n",
    "        images.append({'img': img, 'id': name.split('.')[0]})\n",
    "        \n",
    "    return images"
   ]
  },
  {
   "cell_type": "code",
   "execution_count": 11,
   "metadata": {},
   "outputs": [],
   "source": [
    "def get_most_similar_image(frame, images):\n",
    "    orig_hash = CalcImageHash(frame)\n",
    "    min_differences = CompareHash(orig_hash, CalcImageHash(images[0]))\n",
    "    most_similar_image = images[0]\n",
    "    \n",
    "    for x in images:\n",
    "        difference = CompareHash(orig_hash, CalcImageHash(x))\n",
    "        if difference < min_differences:\n",
    "            min_differences = difference\n",
    "            most_similar_image = x\n",
    "            print('.', end= '')\n",
    "            \n",
    "    return most_similar_image\n",
    "#viewImage(most_similar_image)"
   ]
  },
  {
   "cell_type": "code",
   "execution_count": 12,
   "metadata": {},
   "outputs": [],
   "source": [
    "def get_most_similar_named_image(frame, images):\n",
    "    \"\"\"\n",
    "    Поиск наиболее подходящего изображения\n",
    "    \n",
    "    Arguments:\n",
    "    frame, np.ndarray - оригинальное изображение\n",
    "    images, list - Список из словарей, где в каждом словаре хрянится id и само изображение в формате np.ndarray\n",
    "    \n",
    "    returns:\n",
    "    Словарь, где хранится наиболее похожее на оригинал изобраение и его id\n",
    "    \"\"\"\n",
    "    orig_hash = CalcImageHash(frame)\n",
    "    min_differences = CompareHash(orig_hash, CalcImageHash(images[0]['img']))\n",
    "    \n",
    "    most_similar_image = {'img': images[0]['img'], 'id': images[0]['id']}\n",
    "    \n",
    "    for x in images:\n",
    "        difference = CompareHash(orig_hash, CalcImageHash(x['img']))\n",
    "        if difference < min_differences:\n",
    "            min_differences = difference\n",
    "            most_similar_image = {'img': x['img'], 'id': x['id'].split('tmp\\\\')[1]}\n",
    "            print('.', end= '')\n",
    "            \n",
    "    return most_similar_image"
   ]
  },
  {
   "cell_type": "markdown",
   "metadata": {},
   "source": [
    "# Запускаем:"
   ]
  },
  {
   "cell_type": "markdown",
   "metadata": {},
   "source": [
    "%%time\n",
    "\n",
    "#capture = set_video('to_diplom\\Originals\\Wrapped2021_1440x720_05_Manizha.mp4')\n",
    "# Запуск\n",
    "capture = set_video('to_diplom\\Originals\\Wrapped2021_1440x720_05_Джарахов_Маркул.mp4')\n",
    "orig_image = get_frame(capture)\n",
    "images = read_images('to_diplom/Photo_reports/test1')\n",
    "result_image = get_most_similar_image(orig_image, images)\n",
    "\n",
    "#viewImage(result_image)"
   ]
  },
  {
   "cell_type": "code",
   "execution_count": null,
   "metadata": {},
   "outputs": [],
   "source": []
  },
  {
   "cell_type": "markdown",
   "metadata": {},
   "source": [
    "1. Считываем json, вычленяя оригиналы и фотографии (Стоит ли скачивать фотки??? Мб и нет)\n",
    "2. Бегаем по каждому оригиналу\n",
    "3. Для каждого оригинала ищем самую похожую фотку\n",
    "4. Создаем ответ: Отправляем json в котором массив Id фоток"
   ]
  },
  {
   "cell_type": "code",
   "execution_count": 13,
   "metadata": {},
   "outputs": [],
   "source": [
    "def get_json_data(path: str):\n",
    "    \"\"\"Возвращает данные из json объекта\"\"\"\n",
    "    \n",
    "    with open(path, 'r') as j:\n",
    "        json_data = json.load(j)\n",
    "        \n",
    "    return json_data"
   ]
  },
  {
   "cell_type": "code",
   "execution_count": 14,
   "metadata": {},
   "outputs": [],
   "source": [
    "def load_photos_to_directory(named_photos, directory_path = 'to_diplom\\Photo_reports\\\\tmp\\\\'):\n",
    "    \"\"\"Функция загрузки фотографий в папку из словаря с id и url фотографий\n",
    "    \n",
    "    Arguments:\n",
    "    named_photos, list - список фотографий, содержащий url и id каждой фотографии\n",
    "    directory_path, str - Путь к папке, куда необходимо скачать фотографии\n",
    "    \"\"\"\n",
    "    # Скачиваем весь массив фотографий в локальную папку\n",
    "    for img_dict in named_photos:\n",
    "        \n",
    "        p = requests.get(img_dict['url'])\n",
    "        output_filepath = directory_path + img_dict['pdf_id'] + '.jpg'\n",
    "        out = open(output_filepath, \"wb\")\n",
    "        out.write(p.content)\n",
    "        out.close()"
   ]
  },
  {
   "cell_type": "code",
   "execution_count": 15,
   "metadata": {},
   "outputs": [],
   "source": [
    "def remove_images(path = 'to_diplom/Photo_reports/tmp'):\n",
    "    \"\"\"Функция удаления содержимого папки\"\"\"\n",
    "    path = path + \"/*\"\n",
    "    files = glob.glob(path)\n",
    "    for f in files:\n",
    "        os.remove(f)"
   ]
  },
  {
   "cell_type": "markdown",
   "metadata": {},
   "source": [
    "### Запускаем"
   ]
  },
  {
   "cell_type": "code",
   "execution_count": 21,
   "metadata": {},
   "outputs": [],
   "source": [
    "# Получаем из json данные\n",
    "json_data = get_json_data('to_diplom\\jsons\\Spotify 1325894.json')\n",
    "\n",
    "# Запоминаем id отчета, пути к оригинальным видео, словарь фотографий и callback адрес\n",
    "report_id = json_data['pd_id']\n",
    "original_paths = json_data['originals']\n",
    "photos_dict = json_data['photos']\n",
    "result_url = json_data['callback']"
   ]
  },
  {
   "cell_type": "code",
   "execution_count": 22,
   "metadata": {},
   "outputs": [
    {
     "name": "stdout",
     "output_type": "stream",
     "text": [
      "Wall time: 52.7 s\n"
     ]
    }
   ],
   "source": [
    "%%time\n",
    "load_photos_to_directory(photos_dict)"
   ]
  },
  {
   "cell_type": "code",
   "execution_count": 23,
   "metadata": {
    "scrolled": true
   },
   "outputs": [
    {
     "name": "stdout",
     "output_type": "stream",
     "text": [
      ".....Код ответа: <Response [200]>\n",
      "{'pd_id': '1325894', 'photos': ['1528828', '1534736']}\n",
      "Wall time: 9.85 s\n"
     ]
    }
   ],
   "source": [
    "%%time\n",
    "\n",
    "# Перебираем каждый видеоролик оригианла\n",
    "result_images = []\n",
    "for capture in original_paths:\n",
    "    \n",
    "    # Осуществляем поиск наиболее похожего изображения\n",
    "    orig_image = get_frame(set_video(capture))\n",
    "    images = read_named_images('to_diplom/Photo_reports/tmp')\n",
    "    result_image = get_most_similar_named_image(orig_image, images)\n",
    "    \n",
    "    result_images.append(result_image)\n",
    "    \n",
    "# Удаляем фотографии из папки\n",
    "remove_images()\n",
    "\n",
    "# Отправляем результат\n",
    "result_id = [ x['id'] for x in result_images]\n",
    "response = requests.post(result_url, json={'pd_id': report_id, 'photos': result_id})\n",
    "print(\"Код ответа: \" + str(response))\n",
    "print({'pd_id': report_id, 'photos': result_id})\n"
   ]
  },
  {
   "cell_type": "code",
   "execution_count": 31,
   "metadata": {
    "scrolled": true
   },
   "outputs": [
    {
     "name": "stdout",
     "output_type": "stream",
     "text": [
      "(360, 640, 3)\n"
     ]
    }
   ],
   "source": [
    "print(images[0]['img'].shape)"
   ]
  },
  {
   "cell_type": "code",
   "execution_count": 26,
   "metadata": {},
   "outputs": [
    {
     "name": "stdout",
     "output_type": "stream",
     "text": [
      "1528828\n",
      "1534736\n"
     ]
    }
   ],
   "source": [
    "for res in result_images:\n",
    "    viewImage(res['img'])\n",
    "    print(res['id'])"
   ]
  }
 ],
 "metadata": {
  "kernelspec": {
   "display_name": "Python 3",
   "language": "python",
   "name": "python3"
  },
  "language_info": {
   "codemirror_mode": {
    "name": "ipython",
    "version": 3
   },
   "file_extension": ".py",
   "mimetype": "text/x-python",
   "name": "python",
   "nbconvert_exporter": "python",
   "pygments_lexer": "ipython3",
   "version": "3.7.6"
  }
 },
 "nbformat": 4,
 "nbformat_minor": 4
}
