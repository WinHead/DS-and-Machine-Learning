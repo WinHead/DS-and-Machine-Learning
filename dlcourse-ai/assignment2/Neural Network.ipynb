{
 "cells": [
  {
   "cell_type": "markdown",
   "metadata": {},
   "source": [
    "# Задание 2.1 - Нейронные сети\n",
    "\n",
    "В этом задании вы реализуете и натренируете настоящую нейроную сеть своими руками!\n",
    "\n",
    "В некотором смысле это будет расширением прошлого задания - нам нужно просто составить несколько линейных классификаторов вместе!\n",
    "\n",
    "<img src=\"https://i.redd.it/n9fgba8b0qr01.png\" alt=\"Stack_more_layers\" width=\"400px\"/>"
   ]
  },
  {
   "cell_type": "code",
   "execution_count": 1,
   "metadata": {},
   "outputs": [],
   "source": [
    "import numpy as np\n",
    "import matplotlib.pyplot as plt\n",
    "\n",
    "%matplotlib inline\n",
    "\n",
    "%load_ext autoreload\n",
    "%autoreload 2"
   ]
  },
  {
   "cell_type": "code",
   "execution_count": 2,
   "metadata": {},
   "outputs": [],
   "source": [
    "from dataset import load_svhn, random_split_train_val\n",
    "from gradient_check import check_layer_gradient, check_layer_param_gradient, check_model_gradient\n",
    "from layers import FullyConnectedLayer, ReLULayer\n",
    "from model import TwoLayerNet\n",
    "from trainer import Trainer, Dataset\n",
    "from optim import SGD, MomentumSGD\n",
    "from metrics import multiclass_accuracy"
   ]
  },
  {
   "cell_type": "markdown",
   "metadata": {},
   "source": [
    "# Загружаем данные\n",
    "\n",
    "И разделяем их на training и validation."
   ]
  },
  {
   "cell_type": "code",
   "execution_count": 3,
   "metadata": {},
   "outputs": [
    {
     "name": "stdout",
     "output_type": "stream",
     "text": [
      "(10000, 32, 32, 3)\n"
     ]
    },
    {
     "name": "stderr",
     "output_type": "stream",
     "text": [
      "D:\\Anaconda\\Anaconda\\lib\\site-packages\\ipykernel_launcher.py:3: DeprecationWarning: `np.float` is a deprecated alias for the builtin `float`. To silence this warning, use `float` by itself. Doing this will not modify any behavior and is safe. If you specifically wanted the numpy scalar type, use `np.float64` here.\n",
      "Deprecated in NumPy 1.20; for more details and guidance: https://numpy.org/devdocs/release/1.20.0-notes.html#deprecations\n",
      "  This is separate from the ipykernel package so we can avoid doing imports until\n",
      "D:\\Anaconda\\Anaconda\\lib\\site-packages\\ipykernel_launcher.py:4: DeprecationWarning: `np.float` is a deprecated alias for the builtin `float`. To silence this warning, use `float` by itself. Doing this will not modify any behavior and is safe. If you specifically wanted the numpy scalar type, use `np.float64` here.\n",
      "Deprecated in NumPy 1.20; for more details and guidance: https://numpy.org/devdocs/release/1.20.0-notes.html#deprecations\n",
      "  after removing the cwd from sys.path.\n"
     ]
    },
    {
     "name": "stdout",
     "output_type": "stream",
     "text": [
      "(10000, 3072)\n"
     ]
    }
   ],
   "source": [
    "def prepare_for_neural_network(train_X, test_X):\n",
    "    '''Преобразуем из формата (10000, 32, 32, 3) к формату (10000, 3072)'''\n",
    "    train_flat = train_X.reshape(train_X.shape[0], -1).astype(np.float) / 255.0\n",
    "    test_flat = test_X.reshape(test_X.shape[0], -1).astype(np.float) / 255.0\n",
    "    \n",
    "    # Subtract mean\n",
    "    mean_image = np.mean(train_flat, axis = 0)\n",
    "    train_flat -= mean_image\n",
    "    test_flat -= mean_image\n",
    "    \n",
    "    return train_flat, test_flat\n",
    "    \n",
    "train_X, train_y, test_X, test_y = load_svhn(\"data\", max_train=10000, max_test=1000)\n",
    "print(train_X.shape)\n",
    "train_X, test_X = prepare_for_neural_network(train_X, test_X)\n",
    "print(train_X.shape)\n",
    "# Split train into train and val\n",
    "train_X, train_y, val_X, val_y = random_split_train_val(train_X, train_y, num_val = 1000)"
   ]
  },
  {
   "cell_type": "markdown",
   "metadata": {},
   "source": [
    "# Как всегда, начинаем с кирпичиков\n",
    "\n",
    "Мы будем реализовывать необходимые нам слои по очереди. Каждый слой должен реализовать:\n",
    "- прямой проход (forward pass), который генерирует выход слоя по входу и запоминает необходимые данные\n",
    "- обратный проход (backward pass), который получает градиент по выходу слоя и вычисляет градиент по входу и по параметрам\n",
    "\n",
    "Начнем с ReLU, у которого параметров нет."
   ]
  },
  {
   "cell_type": "code",
   "execution_count": 4,
   "metadata": {
    "scrolled": false
   },
   "outputs": [
    {
     "name": "stdout",
     "output_type": "stream",
     "text": [
      "Gradient check passed!\n"
     ]
    }
   ],
   "source": [
    "# TODO: Implement ReLULayer layer in layers.py\n",
    "# Note: you'll need to copy implementation of the gradient_check function from the previous assignment\n",
    "\n",
    "X = np.array([[1, -2, 3],\n",
    "              [-1, 2, 0.1]])\n",
    "\n",
    "assert check_layer_gradient(ReLULayer(), X)"
   ]
  },
  {
   "cell_type": "markdown",
   "metadata": {},
   "source": [
    "А теперь реализуем полносвязный слой (fully connected layer), у которого будет два массива параметров: W (weights) и B (bias).\n",
    "\n",
    "Все параметры наши слои будут использовать для параметров специальный класс `Param`, в котором будут храниться значения параметров и градиенты этих параметров, вычисляемые во время обратного прохода.\n",
    "\n",
    "Это даст возможность аккумулировать (суммировать) градиенты из разных частей функции потерь, например, из cross-entropy loss и regularization loss."
   ]
  },
  {
   "cell_type": "code",
   "execution_count": 5,
   "metadata": {},
   "outputs": [
    {
     "name": "stdout",
     "output_type": "stream",
     "text": [
      "Gradient check passed!\n",
      "Gradient check passed!\n",
      "Gradient check passed!\n"
     ]
    }
   ],
   "source": [
    "# TODO: Implement FullyConnected layer forward and backward methods\n",
    "assert check_layer_gradient(FullyConnectedLayer(3, 4), X)\n",
    "# TODO: Implement storing gradients for W and B\n",
    "assert check_layer_param_gradient(FullyConnectedLayer(3, 4), X, 'W')\n",
    "assert check_layer_param_gradient(FullyConnectedLayer(3, 4), X, 'B')"
   ]
  },
  {
   "cell_type": "markdown",
   "metadata": {},
   "source": [
    "## Создаем нейронную сеть\n",
    "\n",
    "Теперь мы реализуем простейшую нейронную сеть с двумя полносвязным слоями и нелинейностью ReLU. Реализуйте функцию `compute_loss_and_gradients`, она должна запустить прямой и обратный проход через оба слоя для вычисления градиентов.\n",
    "\n",
    "Не забудьте реализовать очистку градиентов в начале функции."
   ]
  },
  {
   "cell_type": "code",
   "execution_count": 6,
   "metadata": {},
   "outputs": [
    {
     "name": "stdout",
     "output_type": "stream",
     "text": [
      "Checking gradient for W0\n",
      "Gradient check passed!\n",
      "Checking gradient for B0\n",
      "Gradient check passed!\n",
      "Checking gradient for W2\n",
      "Gradient check passed!\n",
      "Checking gradient for B2\n",
      "Gradient check passed!\n"
     ]
    },
    {
     "data": {
      "text/plain": [
       "True"
      ]
     },
     "execution_count": 6,
     "metadata": {},
     "output_type": "execute_result"
    }
   ],
   "source": [
    "# TODO: In model.py, implement compute_loss_and_gradients function\n",
    "model = TwoLayerNet(n_input = train_X.shape[1], n_output = 10, hidden_layer_size = 3, reg = 0)\n",
    "loss = model.compute_loss_and_gradients(train_X[:2], train_y[:2])\n",
    "\n",
    "# TODO Now implement backward pass and aggregate all of the params\n",
    "check_model_gradient(model, train_X[:2], train_y[:2])"
   ]
  },
  {
   "cell_type": "markdown",
   "metadata": {},
   "source": [
    "Теперь добавьте к модели регуляризацию - она должна прибавляться к loss и делать свой вклад в градиенты."
   ]
  },
  {
   "cell_type": "code",
   "execution_count": 7,
   "metadata": {},
   "outputs": [
    {
     "name": "stdout",
     "output_type": "stream",
     "text": [
      "Checking gradient for W0\n",
      "Gradient check passed!\n",
      "Checking gradient for B0\n",
      "Gradient check passed!\n",
      "Checking gradient for W2\n",
      "Gradient check passed!\n",
      "Checking gradient for B2\n",
      "Gradient check passed!\n"
     ]
    },
    {
     "data": {
      "text/plain": [
       "True"
      ]
     },
     "execution_count": 7,
     "metadata": {},
     "output_type": "execute_result"
    }
   ],
   "source": [
    "# TODO Now implement l2 regularization in the forward and backward pass\n",
    "model_with_reg = TwoLayerNet(n_input = train_X.shape[1], n_output = 10, hidden_layer_size = 3, reg = 1e1)\n",
    "loss_with_reg = model_with_reg.compute_loss_and_gradients(train_X[:2], train_y[:2])\n",
    "assert loss_with_reg > loss and not np.isclose(loss_with_reg, loss), \\\n",
    "    \"Loss with regularization (%2.4f) should be higher than without it (%2.4f)!\" % (loss, loss_with_reg)\n",
    "\n",
    "check_model_gradient(model_with_reg, train_X[:2], train_y[:2])"
   ]
  },
  {
   "cell_type": "markdown",
   "metadata": {},
   "source": [
    "Также реализуем функцию предсказания (вычисления значения) модели на новых данных.\n",
    "\n",
    "Какое значение точности мы ожидаем увидеть до начала тренировки?"
   ]
  },
  {
   "cell_type": "code",
   "execution_count": 8,
   "metadata": {},
   "outputs": [
    {
     "data": {
      "text/plain": [
       "0.1"
      ]
     },
     "execution_count": 8,
     "metadata": {},
     "output_type": "execute_result"
    }
   ],
   "source": [
    "# Finally, implement predict function!\n",
    "\n",
    "# TODO: Implement predict function\n",
    "# What would be the value we expect?\n",
    "multiclass_accuracy(model_with_reg.predict(train_X[:30]), train_y[:30]) "
   ]
  },
  {
   "cell_type": "markdown",
   "metadata": {},
   "source": [
    "# Допишем код для процесса тренировки\n",
    "\n",
    "Если все реализовано корректно, значение функции ошибки должно уменьшаться с каждой эпохой, пусть и медленно. Не беспокойтесь пока про validation accuracy."
   ]
  },
  {
   "cell_type": "code",
   "execution_count": 9,
   "metadata": {},
   "outputs": [
    {
     "name": "stdout",
     "output_type": "stream",
     "text": [
      "Loss: 2.302491, Train accuracy: 0.196667, val accuracy: 0.206000\n",
      "Loss: 2.302451, Train accuracy: 0.196667, val accuracy: 0.206000\n",
      "Loss: 2.302476, Train accuracy: 0.148222, val accuracy: 0.140000\n",
      "Loss: 2.302536, Train accuracy: 0.196667, val accuracy: 0.206000\n",
      "Loss: 2.302488, Train accuracy: 0.196667, val accuracy: 0.206000\n",
      "Loss: 2.302381, Train accuracy: 0.196667, val accuracy: 0.206000\n",
      "Loss: 2.302578, Train accuracy: 0.196667, val accuracy: 0.206000\n",
      "Loss: 2.302424, Train accuracy: 0.196667, val accuracy: 0.206000\n",
      "Loss: 2.302486, Train accuracy: 0.196667, val accuracy: 0.206000\n",
      "Loss: 2.302473, Train accuracy: 0.196667, val accuracy: 0.206000\n",
      "Loss: 2.302535, Train accuracy: 0.196667, val accuracy: 0.206000\n",
      "Loss: 2.302558, Train accuracy: 0.196667, val accuracy: 0.206000\n",
      "Loss: 2.302561, Train accuracy: 0.196667, val accuracy: 0.206000\n",
      "Loss: 2.302531, Train accuracy: 0.196667, val accuracy: 0.206000\n",
      "Loss: 2.302597, Train accuracy: 0.196667, val accuracy: 0.206000\n",
      "Loss: 2.302473, Train accuracy: 0.196667, val accuracy: 0.206000\n",
      "Loss: 2.302530, Train accuracy: 0.196667, val accuracy: 0.206000\n",
      "Loss: 2.302513, Train accuracy: 0.148222, val accuracy: 0.140000\n",
      "Loss: 2.302480, Train accuracy: 0.196667, val accuracy: 0.206000\n",
      "Loss: 2.302503, Train accuracy: 0.196667, val accuracy: 0.206000\n"
     ]
    }
   ],
   "source": [
    "model = TwoLayerNet(n_input = train_X.shape[1], n_output = 10, hidden_layer_size = 100, reg = 1e1)\n",
    "dataset = Dataset(train_X, train_y, val_X, val_y)\n",
    "trainer = Trainer(model, dataset, SGD(), learning_rate = 1e-2)\n",
    "\n",
    "# TODO Implement missing pieces in Trainer.fit function\n",
    "# You should expect loss to go down every epoch, even if it's slow\n",
    "loss_history, train_history, val_history = trainer.fit()"
   ]
  },
  {
   "cell_type": "code",
   "execution_count": 10,
   "metadata": {},
   "outputs": [
    {
     "data": {
      "text/plain": [
       "[<matplotlib.lines.Line2D at 0x2253649d188>]"
      ]
     },
     "execution_count": 10,
     "metadata": {},
     "output_type": "execute_result"
    },
    {
     "data": {
      "image/png": "[encoded data removed]",
      "text/plain": [
       "<Figure size 432x288 with 1 Axes>"
      ]
     },
     "metadata": {
      "needs_background": "light"
     },
     "output_type": "display_data"
    }
   ],
   "source": [
    "plt.plot(train_history)\n",
    "plt.plot(val_history)"
   ]
  },
  {
   "cell_type": "markdown",
   "metadata": {},
   "source": [
    "# Улучшаем процесс тренировки\n",
    "\n",
    "Мы реализуем несколько ключевых оптимизаций, необходимых для тренировки современных нейросетей."
   ]
  },
  {
   "cell_type": "markdown",
   "metadata": {},
   "source": [
    "## Уменьшение скорости обучения (learning rate decay)\n",
    "\n",
    "Одна из необходимых оптимизаций во время тренировки нейронных сетей - постепенное уменьшение скорости обучения по мере тренировки.\n",
    "\n",
    "Один из стандартных методов - уменьшение скорости обучения (learning rate) каждые N эпох на коэффициент d (часто называемый decay). Значения N и d, как всегда, являются гиперпараметрами и должны подбираться на основе эффективности на проверочных данных (validation data). \n",
    "\n",
    "В нашем случае N будет равным 1."
   ]
  },
  {
   "cell_type": "code",
   "execution_count": 11,
   "metadata": {},
   "outputs": [
    {
     "name": "stdout",
     "output_type": "stream",
     "text": [
      "Loss: 2.302239, Train accuracy: 0.196667, val accuracy: 0.206000\n",
      "Loss: 2.308332, Train accuracy: 0.196667, val accuracy: 0.206000\n",
      "Loss: 2.289100, Train accuracy: 0.196667, val accuracy: 0.206000\n",
      "Loss: 2.306072, Train accuracy: 0.196667, val accuracy: 0.206000\n",
      "Loss: 2.250868, Train accuracy: 0.196667, val accuracy: 0.206000\n",
      "Loss: 2.291086, Train accuracy: 0.196667, val accuracy: 0.206000\n",
      "Loss: 2.212819, Train accuracy: 0.196667, val accuracy: 0.206000\n",
      "Loss: 2.325159, Train accuracy: 0.196667, val accuracy: 0.206000\n",
      "Loss: 2.290994, Train accuracy: 0.196667, val accuracy: 0.206000\n",
      "Loss: 2.313145, Train accuracy: 0.196667, val accuracy: 0.206000\n",
      "Loss: 2.238692, Train accuracy: 0.196667, val accuracy: 0.206000\n",
      "Loss: 2.286604, Train accuracy: 0.196667, val accuracy: 0.206000\n",
      "Loss: 2.355889, Train accuracy: 0.196667, val accuracy: 0.206000\n",
      "Loss: 2.233891, Train accuracy: 0.196667, val accuracy: 0.206000\n",
      "Loss: 2.379898, Train accuracy: 0.196667, val accuracy: 0.206000\n",
      "Loss: 2.259309, Train accuracy: 0.196667, val accuracy: 0.206000\n",
      "Loss: 2.315171, Train accuracy: 0.196667, val accuracy: 0.206000\n",
      "Loss: 2.272651, Train accuracy: 0.196667, val accuracy: 0.206000\n",
      "Loss: 2.288477, Train accuracy: 0.196667, val accuracy: 0.206000\n",
      "Loss: 2.297109, Train accuracy: 0.196667, val accuracy: 0.206000\n"
     ]
    }
   ],
   "source": [
    "# TODO Implement learning rate decay inside Trainer.fit method\n",
    "# Decay should happen once per epoch\n",
    "\n",
    "model = TwoLayerNet(n_input = train_X.shape[1], n_output = 10, hidden_layer_size = 100, reg = 1e-1)\n",
    "dataset = Dataset(train_X, train_y, val_X, val_y)\n",
    "trainer = Trainer(model, dataset, SGD(), learning_rate_decay=0.99)\n",
    "\n",
    "initial_learning_rate = trainer.learning_rate\n",
    "loss_history, train_history, val_history = trainer.fit()\n",
    "\n",
    "assert trainer.learning_rate < initial_learning_rate, \"Learning rate should've been reduced\"\n",
    "assert trainer.learning_rate > 0.5*initial_learning_rate, \"Learning rate shouldn'tve been reduced that much!\""
   ]
  },
  {
   "cell_type": "markdown",
   "metadata": {},
   "source": [
    "# Накопление импульса (Momentum SGD)\n",
    "\n",
    "Другой большой класс оптимизаций - использование более эффективных методов градиентного спуска. Мы реализуем один из них - накопление импульса (Momentum SGD).\n",
    "\n",
    "Этот метод хранит скорость движения, использует градиент для ее изменения на каждом шаге, и изменяет веса пропорционально значению скорости.\n",
    "(Физическая аналогия: Вместо скорости градиенты теперь будут задавать ускорение, но будет присутствовать сила трения.)\n",
    "\n",
    "```\n",
    "velocity = momentum * velocity - learning_rate * gradient \n",
    "w = w + velocity\n",
    "```\n",
    "\n",
    "`momentum` здесь коэффициент затухания, который тоже является гиперпараметром (к счастью, для него часто есть хорошее значение по умолчанию, типичный диапазон -- 0.8-0.99).\n",
    "\n",
    "Несколько полезных ссылок, где метод разбирается более подробно:  \n",
    "http://cs231n.github.io/neural-networks-3/#sgd  \n",
    "https://distill.pub/2017/momentum/"
   ]
  },
  {
   "cell_type": "code",
   "execution_count": 15,
   "metadata": {
    "scrolled": false
   },
   "outputs": [
    {
     "name": "stdout",
     "output_type": "stream",
     "text": [
      "Loss: 2.326851, Train accuracy: 0.196667, val accuracy: 0.206000\n",
      "Loss: 2.323765, Train accuracy: 0.196667, val accuracy: 0.206000\n",
      "Loss: 2.320202, Train accuracy: 0.196667, val accuracy: 0.206000\n",
      "Loss: 2.317380, Train accuracy: 0.196667, val accuracy: 0.206000\n",
      "Loss: 2.310782, Train accuracy: 0.196667, val accuracy: 0.206000\n",
      "Loss: 2.310077, Train accuracy: 0.196667, val accuracy: 0.206000\n",
      "Loss: 2.310321, Train accuracy: 0.196667, val accuracy: 0.206000\n",
      "Loss: 2.310129, Train accuracy: 0.196667, val accuracy: 0.206000\n",
      "Loss: 2.299635, Train accuracy: 0.196667, val accuracy: 0.206000\n",
      "Loss: 2.303658, Train accuracy: 0.196667, val accuracy: 0.206000\n",
      "Loss: 2.303448, Train accuracy: 0.196667, val accuracy: 0.206000\n",
      "Loss: 2.301828, Train accuracy: 0.196667, val accuracy: 0.206000\n",
      "Loss: 2.304094, Train accuracy: 0.196667, val accuracy: 0.206000\n",
      "Loss: 2.295025, Train accuracy: 0.196667, val accuracy: 0.206000\n",
      "Loss: 2.297597, Train accuracy: 0.196667, val accuracy: 0.206000\n",
      "Loss: 2.301222, Train accuracy: 0.196667, val accuracy: 0.206000\n",
      "Loss: 2.298780, Train accuracy: 0.196667, val accuracy: 0.206000\n",
      "Loss: 2.306012, Train accuracy: 0.196667, val accuracy: 0.206000\n",
      "Loss: 2.310605, Train accuracy: 0.196667, val accuracy: 0.206000\n",
      "Loss: 2.299936, Train accuracy: 0.196667, val accuracy: 0.206000\n"
     ]
    }
   ],
   "source": [
    "# TODO: Implement MomentumSGD.update function in optim.py\n",
    "\n",
    "model = TwoLayerNet(n_input = train_X.shape[1], n_output = 10, hidden_layer_size = 100, reg = 1e-1)\n",
    "dataset = Dataset(train_X, train_y, val_X, val_y)\n",
    "trainer = Trainer(model, dataset, MomentumSGD(), learning_rate=1e-4, learning_rate_decay=0.99)\n",
    "\n",
    "# You should see even better results than before!\n",
    "loss_history, train_history, val_history = trainer.fit()"
   ]
  },
  {
   "cell_type": "markdown",
   "metadata": {},
   "source": [
    "# Ну что, давайте уже тренировать сеть!"
   ]
  },
  {
   "cell_type": "markdown",
   "metadata": {},
   "source": [
    "## Последний тест - переобучимся (overfit) на маленьком наборе данных\n",
    "\n",
    "Хороший способ проверить, все ли реализовано корректно - переобучить сеть на маленьком наборе данных.  \n",
    "Наша модель обладает достаточной мощностью, чтобы приблизить маленький набор данных идеально, поэтому мы ожидаем, что на нем мы быстро дойдем до 100% точности на тренировочном наборе. \n",
    "\n",
    "Если этого не происходит, то где-то была допущена ошибка!"
   ]
  },
  {
   "cell_type": "code",
   "execution_count": 16,
   "metadata": {},
   "outputs": [
    {
     "name": "stdout",
     "output_type": "stream",
     "text": [
      "Loss: 2.332659, Train accuracy: 0.200000, val accuracy: 0.133333\n",
      "Loss: 2.320654, Train accuracy: 0.200000, val accuracy: 0.133333\n",
      "Loss: 2.316591, Train accuracy: 0.200000, val accuracy: 0.133333\n",
      "Loss: 2.307646, Train accuracy: 0.200000, val accuracy: 0.133333\n",
      "Loss: 2.298919, Train accuracy: 0.200000, val accuracy: 0.133333\n",
      "Loss: 2.315117, Train accuracy: 0.266667, val accuracy: 0.000000\n",
      "Loss: 2.332061, Train accuracy: 0.266667, val accuracy: 0.000000\n",
      "Loss: 2.213304, Train accuracy: 0.400000, val accuracy: 0.000000\n",
      "Loss: 2.141930, Train accuracy: 0.400000, val accuracy: 0.000000\n",
      "Loss: 2.397668, Train accuracy: 0.400000, val accuracy: 0.000000\n",
      "Loss: 2.019383, Train accuracy: 0.400000, val accuracy: 0.000000\n",
      "Loss: 1.795529, Train accuracy: 0.333333, val accuracy: 0.000000\n",
      "Loss: 1.794872, Train accuracy: 0.333333, val accuracy: 0.000000\n",
      "Loss: 2.334074, Train accuracy: 0.333333, val accuracy: 0.000000\n",
      "Loss: 1.661606, Train accuracy: 0.333333, val accuracy: 0.000000\n",
      "Loss: 1.894075, Train accuracy: 0.333333, val accuracy: 0.000000\n",
      "Loss: 1.593427, Train accuracy: 0.333333, val accuracy: 0.000000\n",
      "Loss: 1.876888, Train accuracy: 0.333333, val accuracy: 0.000000\n",
      "Loss: 1.386762, Train accuracy: 0.333333, val accuracy: 0.000000\n",
      "Loss: 1.516839, Train accuracy: 0.333333, val accuracy: 0.000000\n",
      "Loss: 1.695119, Train accuracy: 0.333333, val accuracy: 0.000000\n",
      "Loss: 2.217653, Train accuracy: 0.333333, val accuracy: 0.000000\n",
      "Loss: 1.959587, Train accuracy: 0.333333, val accuracy: 0.000000\n",
      "Loss: 1.755459, Train accuracy: 0.333333, val accuracy: 0.000000\n",
      "Loss: 1.621241, Train accuracy: 0.333333, val accuracy: 0.000000\n",
      "Loss: 2.155760, Train accuracy: 0.400000, val accuracy: 0.000000\n",
      "Loss: 1.494188, Train accuracy: 0.400000, val accuracy: 0.000000\n",
      "Loss: 1.794310, Train accuracy: 0.466667, val accuracy: 0.000000\n",
      "Loss: 1.751272, Train accuracy: 0.466667, val accuracy: 0.000000\n",
      "Loss: 1.983444, Train accuracy: 0.466667, val accuracy: 0.000000\n",
      "Loss: 1.854124, Train accuracy: 0.466667, val accuracy: 0.000000\n",
      "Loss: 1.572896, Train accuracy: 0.466667, val accuracy: 0.000000\n",
      "Loss: 1.502378, Train accuracy: 0.533333, val accuracy: 0.000000\n",
      "Loss: 1.628522, Train accuracy: 0.600000, val accuracy: 0.000000\n",
      "Loss: 2.126322, Train accuracy: 0.533333, val accuracy: 0.000000\n",
      "Loss: 1.798158, Train accuracy: 0.600000, val accuracy: 0.000000\n",
      "Loss: 1.659588, Train accuracy: 0.600000, val accuracy: 0.000000\n",
      "Loss: 1.866197, Train accuracy: 0.600000, val accuracy: 0.000000\n",
      "Loss: 1.610556, Train accuracy: 0.533333, val accuracy: 0.000000\n",
      "Loss: 1.265415, Train accuracy: 0.600000, val accuracy: 0.000000\n",
      "Loss: 1.352114, Train accuracy: 0.600000, val accuracy: 0.000000\n",
      "Loss: 1.219128, Train accuracy: 0.533333, val accuracy: 0.000000\n",
      "Loss: 1.408481, Train accuracy: 0.600000, val accuracy: 0.000000\n",
      "Loss: 1.642229, Train accuracy: 0.533333, val accuracy: 0.000000\n",
      "Loss: 2.539890, Train accuracy: 0.600000, val accuracy: 0.066667\n",
      "Loss: 1.373389, Train accuracy: 0.600000, val accuracy: 0.000000\n",
      "Loss: 0.932799, Train accuracy: 0.600000, val accuracy: 0.000000\n",
      "Loss: 1.796809, Train accuracy: 0.600000, val accuracy: 0.000000\n",
      "Loss: 1.248235, Train accuracy: 0.600000, val accuracy: 0.000000\n",
      "Loss: 1.684955, Train accuracy: 0.600000, val accuracy: 0.000000\n",
      "Loss: 1.118642, Train accuracy: 0.666667, val accuracy: 0.000000\n",
      "Loss: 1.900531, Train accuracy: 0.666667, val accuracy: 0.000000\n",
      "Loss: 1.910910, Train accuracy: 0.733333, val accuracy: 0.066667\n",
      "Loss: 1.743773, Train accuracy: 0.733333, val accuracy: 0.066667\n",
      "Loss: 1.395442, Train accuracy: 0.666667, val accuracy: 0.000000\n",
      "Loss: 1.485509, Train accuracy: 0.733333, val accuracy: 0.000000\n",
      "Loss: 1.377134, Train accuracy: 0.666667, val accuracy: 0.000000\n",
      "Loss: 1.998509, Train accuracy: 0.733333, val accuracy: 0.000000\n",
      "Loss: 1.886019, Train accuracy: 0.733333, val accuracy: 0.000000\n",
      "Loss: 1.636037, Train accuracy: 0.733333, val accuracy: 0.066667\n",
      "Loss: 1.265902, Train accuracy: 0.733333, val accuracy: 0.133333\n",
      "Loss: 1.713010, Train accuracy: 0.733333, val accuracy: 0.000000\n",
      "Loss: 1.441776, Train accuracy: 0.733333, val accuracy: 0.000000\n",
      "Loss: 0.894832, Train accuracy: 0.733333, val accuracy: 0.066667\n",
      "Loss: 1.705851, Train accuracy: 0.733333, val accuracy: 0.000000\n",
      "Loss: 1.204814, Train accuracy: 0.733333, val accuracy: 0.066667\n",
      "Loss: 1.374489, Train accuracy: 0.733333, val accuracy: 0.000000\n",
      "Loss: 1.515751, Train accuracy: 0.733333, val accuracy: 0.000000\n",
      "Loss: 2.125655, Train accuracy: 0.733333, val accuracy: 0.066667\n",
      "Loss: 1.745616, Train accuracy: 0.800000, val accuracy: 0.066667\n",
      "Loss: 1.751479, Train accuracy: 0.800000, val accuracy: 0.066667\n",
      "Loss: 0.914418, Train accuracy: 0.800000, val accuracy: 0.066667\n",
      "Loss: 1.252949, Train accuracy: 0.800000, val accuracy: 0.066667\n",
      "Loss: 1.736012, Train accuracy: 0.800000, val accuracy: 0.066667\n",
      "Loss: 0.933451, Train accuracy: 0.800000, val accuracy: 0.066667\n",
      "Loss: 1.694973, Train accuracy: 0.800000, val accuracy: 0.000000\n",
      "Loss: 1.203609, Train accuracy: 0.800000, val accuracy: 0.000000\n",
      "Loss: 1.631733, Train accuracy: 0.800000, val accuracy: 0.066667\n",
      "Loss: 1.217709, Train accuracy: 0.800000, val accuracy: 0.066667\n",
      "Loss: 1.537684, Train accuracy: 0.800000, val accuracy: 0.066667\n",
      "Loss: 1.055719, Train accuracy: 0.800000, val accuracy: 0.066667\n",
      "Loss: 1.345678, Train accuracy: 0.800000, val accuracy: 0.066667\n",
      "Loss: 1.136720, Train accuracy: 0.800000, val accuracy: 0.066667\n",
      "Loss: 1.649830, Train accuracy: 0.800000, val accuracy: 0.066667\n",
      "Loss: 0.964741, Train accuracy: 0.800000, val accuracy: 0.000000\n",
      "Loss: 1.161490, Train accuracy: 0.800000, val accuracy: 0.066667\n",
      "Loss: 1.618876, Train accuracy: 0.800000, val accuracy: 0.066667\n",
      "Loss: 1.328491, Train accuracy: 0.800000, val accuracy: 0.066667\n",
      "Loss: 1.234248, Train accuracy: 0.800000, val accuracy: 0.066667\n",
      "Loss: 1.483184, Train accuracy: 0.800000, val accuracy: 0.066667\n",
      "Loss: 0.906738, Train accuracy: 0.800000, val accuracy: 0.066667\n",
      "Loss: 1.233851, Train accuracy: 0.800000, val accuracy: 0.066667\n",
      "Loss: 1.728042, Train accuracy: 0.800000, val accuracy: 0.066667\n",
      "Loss: 1.085022, Train accuracy: 0.800000, val accuracy: 0.066667\n",
      "Loss: 1.604440, Train accuracy: 0.800000, val accuracy: 0.066667\n",
      "Loss: 1.195631, Train accuracy: 0.800000, val accuracy: 0.066667\n",
      "Loss: 1.761702, Train accuracy: 0.800000, val accuracy: 0.066667\n",
      "Loss: 1.366265, Train accuracy: 0.800000, val accuracy: 0.066667\n",
      "Loss: 1.323249, Train accuracy: 0.800000, val accuracy: 0.066667\n",
      "Loss: 1.235557, Train accuracy: 0.800000, val accuracy: 0.066667\n",
      "Loss: 1.114773, Train accuracy: 0.800000, val accuracy: 0.066667\n",
      "Loss: 1.356634, Train accuracy: 0.800000, val accuracy: 0.066667\n",
      "Loss: 1.023601, Train accuracy: 0.800000, val accuracy: 0.000000\n",
      "Loss: 1.418635, Train accuracy: 0.800000, val accuracy: 0.000000\n",
      "Loss: 1.522706, Train accuracy: 0.800000, val accuracy: 0.000000\n",
      "Loss: 1.457749, Train accuracy: 0.800000, val accuracy: 0.000000\n",
      "Loss: 1.195847, Train accuracy: 0.800000, val accuracy: 0.000000\n",
      "Loss: 1.475089, Train accuracy: 0.800000, val accuracy: 0.000000\n",
      "Loss: 1.284328, Train accuracy: 0.800000, val accuracy: 0.000000\n",
      "Loss: 1.415093, Train accuracy: 0.800000, val accuracy: 0.000000\n",
      "Loss: 1.517462, Train accuracy: 0.800000, val accuracy: 0.000000\n",
      "Loss: 1.307618, Train accuracy: 0.800000, val accuracy: 0.000000\n",
      "Loss: 1.501152, Train accuracy: 0.866667, val accuracy: 0.000000\n",
      "Loss: 1.028198, Train accuracy: 0.800000, val accuracy: 0.000000\n",
      "Loss: 1.037008, Train accuracy: 0.800000, val accuracy: 0.000000\n",
      "Loss: 1.337517, Train accuracy: 0.933333, val accuracy: 0.000000\n",
      "Loss: 1.851082, Train accuracy: 0.933333, val accuracy: 0.000000\n",
      "Loss: 1.040124, Train accuracy: 0.933333, val accuracy: 0.000000\n",
      "Loss: 1.216635, Train accuracy: 0.933333, val accuracy: 0.000000\n",
      "Loss: 1.644289, Train accuracy: 0.933333, val accuracy: 0.000000\n",
      "Loss: 1.334734, Train accuracy: 0.866667, val accuracy: 0.000000\n",
      "Loss: 1.154689, Train accuracy: 0.933333, val accuracy: 0.000000\n",
      "Loss: 1.691087, Train accuracy: 0.933333, val accuracy: 0.000000\n",
      "Loss: 1.440445, Train accuracy: 0.933333, val accuracy: 0.000000\n",
      "Loss: 1.366651, Train accuracy: 0.933333, val accuracy: 0.000000\n",
      "Loss: 1.252728, Train accuracy: 0.933333, val accuracy: 0.000000\n",
      "Loss: 1.247640, Train accuracy: 0.933333, val accuracy: 0.000000\n",
      "Loss: 1.149206, Train accuracy: 0.933333, val accuracy: 0.000000\n"
     ]
    },
    {
     "name": "stdout",
     "output_type": "stream",
     "text": [
      "Loss: 1.090733, Train accuracy: 1.000000, val accuracy: 0.000000\n",
      "Loss: 1.260180, Train accuracy: 1.000000, val accuracy: 0.000000\n",
      "Loss: 1.328047, Train accuracy: 1.000000, val accuracy: 0.000000\n",
      "Loss: 1.663104, Train accuracy: 1.000000, val accuracy: 0.000000\n",
      "Loss: 1.143311, Train accuracy: 1.000000, val accuracy: 0.000000\n",
      "Loss: 1.418343, Train accuracy: 1.000000, val accuracy: 0.000000\n",
      "Loss: 1.186035, Train accuracy: 1.000000, val accuracy: 0.000000\n",
      "Loss: 1.336263, Train accuracy: 1.000000, val accuracy: 0.000000\n",
      "Loss: 1.234124, Train accuracy: 1.000000, val accuracy: 0.000000\n",
      "Loss: 1.157546, Train accuracy: 1.000000, val accuracy: 0.000000\n",
      "Loss: 1.130327, Train accuracy: 1.000000, val accuracy: 0.000000\n",
      "Loss: 1.267953, Train accuracy: 1.000000, val accuracy: 0.000000\n",
      "Loss: 1.352805, Train accuracy: 1.000000, val accuracy: 0.000000\n",
      "Loss: 1.412685, Train accuracy: 1.000000, val accuracy: 0.000000\n",
      "Loss: 1.494522, Train accuracy: 1.000000, val accuracy: 0.000000\n",
      "Loss: 1.156408, Train accuracy: 1.000000, val accuracy: 0.000000\n",
      "Loss: 1.080276, Train accuracy: 1.000000, val accuracy: 0.000000\n",
      "Loss: 1.383042, Train accuracy: 1.000000, val accuracy: 0.000000\n",
      "Loss: 1.223159, Train accuracy: 1.000000, val accuracy: 0.000000\n",
      "Loss: 1.135988, Train accuracy: 1.000000, val accuracy: 0.000000\n",
      "Loss: 1.669811, Train accuracy: 1.000000, val accuracy: 0.000000\n",
      "Loss: 1.241175, Train accuracy: 1.000000, val accuracy: 0.000000\n"
     ]
    }
   ],
   "source": [
    "data_size = 15\n",
    "model = TwoLayerNet(n_input = train_X.shape[1], n_output = 10, hidden_layer_size = 100, reg = 1e-1)\n",
    "dataset = Dataset(train_X[:data_size], train_y[:data_size], val_X[:data_size], val_y[:data_size])\n",
    "trainer = Trainer(model, dataset, SGD(), learning_rate=1e-1, num_epochs=150, batch_size=5)\n",
    "\n",
    "# You should expect this to reach 1.0 training accuracy \n",
    "loss_history, train_history, val_history = trainer.fit()"
   ]
  },
  {
   "cell_type": "markdown",
   "metadata": {},
   "source": [
    "Теперь найдем гипепараметры, для которых этот процесс сходится быстрее.\n",
    "Если все реализовано корректно, то существуют параметры, при которых процесс сходится в **20** эпох или еще быстрее.\n",
    "Найдите их!"
   ]
  },
  {
   "cell_type": "code",
   "execution_count": 50,
   "metadata": {},
   "outputs": [
    {
     "name": "stdout",
     "output_type": "stream",
     "text": [
      "Loss: 2.303423, Train accuracy: 0.133333, val accuracy: 0.200000\n",
      "Loss: 2.295304, Train accuracy: 0.333333, val accuracy: 0.066667\n",
      "Loss: 2.238574, Train accuracy: 0.200000, val accuracy: 0.066667\n",
      "Loss: 2.247726, Train accuracy: 0.400000, val accuracy: 0.000000\n",
      "Loss: 1.998393, Train accuracy: 0.400000, val accuracy: 0.000000\n",
      "Loss: 1.530958, Train accuracy: 0.333333, val accuracy: 0.000000\n",
      "Loss: 1.727517, Train accuracy: 0.400000, val accuracy: 0.000000\n",
      "Loss: 1.398534, Train accuracy: 0.600000, val accuracy: 0.066667\n",
      "Loss: 1.047773, Train accuracy: 0.600000, val accuracy: 0.000000\n",
      "Loss: 1.796587, Train accuracy: 0.666667, val accuracy: 0.000000\n",
      "Loss: 0.272198, Train accuracy: 0.733333, val accuracy: 0.066667\n",
      "Loss: 0.564092, Train accuracy: 0.933333, val accuracy: 0.000000\n",
      "Loss: 0.598633, Train accuracy: 0.933333, val accuracy: 0.000000\n",
      "Loss: 0.110563, Train accuracy: 1.000000, val accuracy: 0.000000\n",
      "Loss: 0.036671, Train accuracy: 1.000000, val accuracy: 0.000000\n",
      "Loss: 0.017620, Train accuracy: 1.000000, val accuracy: 0.000000\n",
      "Loss: 0.008206, Train accuracy: 1.000000, val accuracy: 0.000000\n",
      "Loss: 0.003738, Train accuracy: 1.000000, val accuracy: 0.000000\n",
      "Loss: 0.000767, Train accuracy: 1.000000, val accuracy: 0.000000\n",
      "Loss: 0.002086, Train accuracy: 1.000000, val accuracy: 0.000000\n"
     ]
    }
   ],
   "source": [
    "# Now, tweak some hyper parameters and make it train to 1.0 accuracy in 20 epochs or less\n",
    "\n",
    "model = TwoLayerNet(n_input = train_X.shape[1], n_output = 10, hidden_layer_size = 100, reg = 1e-5)\n",
    "dataset = Dataset(train_X[:data_size], train_y[:data_size], val_X[:data_size], val_y[:data_size])\n",
    "# TODO: Change any hyperparamers or optimizators to reach training accuracy in 20 epochs\n",
    "trainer = Trainer(model, dataset, MomentumSGD(), learning_rate=1e-1, num_epochs=20, batch_size=5)\n",
    "\n",
    "loss_history, train_history, val_history = trainer.fit()"
   ]
  },
  {
   "cell_type": "markdown",
   "metadata": {},
   "source": [
    "# Итак, основное мероприятие!\n",
    "\n",
    "Натренируйте лучшую нейросеть! Можно добавлять и изменять параметры, менять количество нейронов в слоях сети и как угодно экспериментировать. \n",
    "\n",
    "Добейтесь точности лучше **60%** на validation set."
   ]
  },
  {
   "cell_type": "code",
   "execution_count": 58,
   "metadata": {
    "scrolled": true
   },
   "outputs": [
    {
     "name": "stdout",
     "output_type": "stream",
     "text": [
      "1Loss: 2.300656, Train accuracy: 0.196667, val accuracy: 0.206000\n",
      "Loss: 2.224313, Train accuracy: 0.196667, val accuracy: 0.206000\n",
      "Loss: 2.080531, Train accuracy: 0.204111, val accuracy: 0.219000\n",
      "Loss: 2.210086, Train accuracy: 0.274778, val accuracy: 0.282000\n",
      "Loss: 1.968999, Train accuracy: 0.333444, val accuracy: 0.332000\n",
      "Loss: 1.722418, Train accuracy: 0.437556, val accuracy: 0.453000\n",
      "Loss: 1.705657, Train accuracy: 0.515333, val accuracy: 0.511000\n",
      "Loss: 1.229122, Train accuracy: 0.576222, val accuracy: 0.545000\n",
      "Loss: 1.496955, Train accuracy: 0.620667, val accuracy: 0.607000\n",
      "Loss: 1.366560, Train accuracy: 0.628222, val accuracy: 0.621000\n",
      "Loss: 1.231446, Train accuracy: 0.663333, val accuracy: 0.651000\n",
      "Loss: 0.972106, Train accuracy: 0.691000, val accuracy: 0.679000\n",
      "Loss: 1.297479, Train accuracy: 0.711333, val accuracy: 0.685000\n",
      "Loss: 1.159124, Train accuracy: 0.713111, val accuracy: 0.677000\n",
      "Loss: 1.331404, Train accuracy: 0.717778, val accuracy: 0.678000\n",
      "Loss: 1.140957, Train accuracy: 0.738333, val accuracy: 0.694000\n",
      "Loss: 1.092409, Train accuracy: 0.748889, val accuracy: 0.702000\n",
      "Loss: 0.847438, Train accuracy: 0.758889, val accuracy: 0.712000\n",
      "Loss: 0.965588, Train accuracy: 0.767444, val accuracy: 0.708000\n",
      "Loss: 0.964208, Train accuracy: 0.772667, val accuracy: 0.723000\n",
      "Loss: 0.886739, Train accuracy: 0.785222, val accuracy: 0.721000\n",
      "Loss: 0.933648, Train accuracy: 0.794222, val accuracy: 0.720000\n",
      "Loss: 0.838739, Train accuracy: 0.797444, val accuracy: 0.725000\n",
      "Loss: 0.941020, Train accuracy: 0.794333, val accuracy: 0.725000\n",
      "Loss: 0.859407, Train accuracy: 0.810667, val accuracy: 0.723000\n",
      "Loss: 0.804109, Train accuracy: 0.801333, val accuracy: 0.714000\n",
      "Loss: 1.114463, Train accuracy: 0.824778, val accuracy: 0.742000\n",
      "Loss: 0.862127, Train accuracy: 0.821667, val accuracy: 0.729000\n",
      "Loss: 0.952625, Train accuracy: 0.826667, val accuracy: 0.737000\n",
      "Loss: 0.965113, Train accuracy: 0.837889, val accuracy: 0.745000\n",
      "Loss: 0.809880, Train accuracy: 0.831333, val accuracy: 0.732000\n",
      "Loss: 0.731742, Train accuracy: 0.838444, val accuracy: 0.741000\n",
      "Loss: 0.907627, Train accuracy: 0.849000, val accuracy: 0.749000\n",
      "Loss: 0.753254, Train accuracy: 0.837111, val accuracy: 0.735000\n",
      "Loss: 0.759854, Train accuracy: 0.854111, val accuracy: 0.759000\n",
      "Loss: 0.732003, Train accuracy: 0.856444, val accuracy: 0.755000\n",
      "Loss: 1.039979, Train accuracy: 0.858778, val accuracy: 0.743000\n",
      "Loss: 0.691214, Train accuracy: 0.860556, val accuracy: 0.743000\n",
      "Loss: 0.792238, Train accuracy: 0.867556, val accuracy: 0.755000\n",
      "Loss: 0.794170, Train accuracy: 0.843222, val accuracy: 0.733000\n",
      "Loss: 0.809634, Train accuracy: 0.871222, val accuracy: 0.757000\n",
      "Loss: 0.876035, Train accuracy: 0.871778, val accuracy: 0.755000\n",
      "Loss: 0.727468, Train accuracy: 0.871222, val accuracy: 0.757000\n",
      "Loss: 0.747919, Train accuracy: 0.877111, val accuracy: 0.747000\n",
      "Loss: 0.748959, Train accuracy: 0.884889, val accuracy: 0.766000\n",
      "Loss: 1.002711, Train accuracy: 0.885222, val accuracy: 0.763000\n",
      "Loss: 0.883956, Train accuracy: 0.886556, val accuracy: 0.772000\n",
      "Loss: 0.960066, Train accuracy: 0.880222, val accuracy: 0.747000\n",
      "Loss: 0.991335, Train accuracy: 0.877778, val accuracy: 0.758000\n",
      "Loss: 0.689316, Train accuracy: 0.882111, val accuracy: 0.769000\n",
      "Loss: 0.777253, Train accuracy: 0.883444, val accuracy: 0.755000\n",
      "Loss: 0.808632, Train accuracy: 0.894889, val accuracy: 0.769000\n",
      "Loss: 0.816969, Train accuracy: 0.895111, val accuracy: 0.764000\n",
      "Loss: 0.716008, Train accuracy: 0.901000, val accuracy: 0.778000\n",
      "Loss: 0.877589, Train accuracy: 0.895556, val accuracy: 0.771000\n",
      "Loss: 0.757949, Train accuracy: 0.901444, val accuracy: 0.754000\n",
      "Loss: 0.766579, Train accuracy: 0.880222, val accuracy: 0.766000\n",
      "Loss: 0.629387, Train accuracy: 0.892111, val accuracy: 0.755000\n",
      "Loss: 0.900311, Train accuracy: 0.863000, val accuracy: 0.746000\n",
      "Loss: 0.748244, Train accuracy: 0.906111, val accuracy: 0.777000\n",
      "Loss: 0.769776, Train accuracy: 0.898000, val accuracy: 0.767000\n",
      "Loss: 0.924162, Train accuracy: 0.895333, val accuracy: 0.761000\n",
      "Loss: 0.859577, Train accuracy: 0.898889, val accuracy: 0.759000\n",
      "Loss: 0.716982, Train accuracy: 0.910556, val accuracy: 0.760000\n",
      "Loss: 0.867562, Train accuracy: 0.899556, val accuracy: 0.760000\n",
      "Loss: 0.721353, Train accuracy: 0.896000, val accuracy: 0.758000\n",
      "Loss: 0.607166, Train accuracy: 0.904889, val accuracy: 0.765000\n",
      "Loss: 0.684798, Train accuracy: 0.914444, val accuracy: 0.780000\n",
      "Loss: 0.848541, Train accuracy: 0.912222, val accuracy: 0.767000\n",
      "Loss: 0.650960, Train accuracy: 0.900778, val accuracy: 0.758000\n",
      "Loss: 0.660868, Train accuracy: 0.918556, val accuracy: 0.774000\n",
      "Loss: 0.668399, Train accuracy: 0.923333, val accuracy: 0.781000\n",
      "Loss: 0.841260, Train accuracy: 0.887000, val accuracy: 0.758000\n",
      "Loss: 0.739938, Train accuracy: 0.920000, val accuracy: 0.775000\n",
      "Loss: 0.866086, Train accuracy: 0.911667, val accuracy: 0.764000\n",
      "Loss: 0.832586, Train accuracy: 0.903222, val accuracy: 0.766000\n",
      "Loss: 0.785451, Train accuracy: 0.902667, val accuracy: 0.757000\n",
      "Loss: 0.702840, Train accuracy: 0.911111, val accuracy: 0.771000\n",
      "Loss: 0.783532, Train accuracy: 0.912222, val accuracy: 0.772000\n",
      "Loss: 0.738486, Train accuracy: 0.912111, val accuracy: 0.768000\n",
      "Loss: 0.821378, Train accuracy: 0.914889, val accuracy: 0.769000\n",
      "Loss: 0.753628, Train accuracy: 0.920000, val accuracy: 0.774000\n",
      "Loss: 0.581807, Train accuracy: 0.912667, val accuracy: 0.767000\n",
      "Loss: 0.781776, Train accuracy: 0.908889, val accuracy: 0.767000\n",
      "Loss: 0.988144, Train accuracy: 0.910333, val accuracy: 0.771000\n",
      "Loss: 0.893947, Train accuracy: 0.927000, val accuracy: 0.765000\n",
      "Loss: 0.787863, Train accuracy: 0.917444, val accuracy: 0.777000\n",
      "Loss: 0.752751, Train accuracy: 0.907444, val accuracy: 0.761000\n",
      "Loss: 0.847025, Train accuracy: 0.922667, val accuracy: 0.781000\n",
      "Loss: 0.789849, Train accuracy: 0.910222, val accuracy: 0.770000\n",
      "Loss: 0.763206, Train accuracy: 0.915556, val accuracy: 0.765000\n",
      "Loss: 0.605235, Train accuracy: 0.928889, val accuracy: 0.775000\n",
      "Loss: 0.599812, Train accuracy: 0.929000, val accuracy: 0.770000\n",
      "Loss: 0.589612, Train accuracy: 0.923000, val accuracy: 0.777000\n",
      "Loss: 0.912259, Train accuracy: 0.911667, val accuracy: 0.761000\n",
      "Loss: 0.778970, Train accuracy: 0.928333, val accuracy: 0.764000\n",
      "Loss: 0.765460, Train accuracy: 0.919000, val accuracy: 0.772000\n",
      "Loss: 0.785925, Train accuracy: 0.923444, val accuracy: 0.776000\n",
      "Loss: 0.666912, Train accuracy: 0.935333, val accuracy: 0.777000\n",
      "Loss: 0.769865, Train accuracy: 0.922111, val accuracy: 0.779000\n",
      "best validation accuracy achieved: 0.779000\n",
      "Wall time: 14min 9s\n"
     ]
    }
   ],
   "source": [
    "%%time\n",
    "# Let's train the best one-hidden-layer network we can\n",
    "\n",
    "learning_rates = [1e-2]\n",
    "reg_strength = [1e-3]\n",
    "learning_rate_decay = [0.999]\n",
    "hidden_layer_size = [150]\n",
    "num_epochs = 100\n",
    "batch_size = [60]\n",
    "\n",
    "best_classifier = None\n",
    "best_val_accuracy = 0\n",
    "\n",
    "loss_history = []\n",
    "train_history = []\n",
    "val_history = []\n",
    "\n",
    "# TODO find the best hyperparameters to train the network\n",
    "# Don't hesitate to add new values to the arrays above, perform experiments, use any tricks you want\n",
    "# You should expect to get to at least 40% of valudation accuracy\n",
    "# Save loss/train/history of the best classifier to the variables above\n",
    "\n",
    "for lr in learning_rates:\n",
    "    for reg in reg_strength:\n",
    "        for lr_decay in learning_rate_decay:\n",
    "            for hl_size in hidden_layer_size:\n",
    "                for b_size in batch_size:\n",
    "                    print(\"1\", end='')\n",
    "                    model = TwoLayerNet(n_input = train_X.shape[1], n_output = 10, hidden_layer_size = hl_size, \n",
    "                                        reg = reg)\n",
    "                    dataset = Dataset(train_X, train_y, val_X, val_y)\n",
    "                    trainer = Trainer(model, dataset, MomentumSGD(), learning_rate=lr, num_epochs=num_epochs, batch_size=b_size)\n",
    "                    loss_history_curr, train_history_curr, val_history_curr = trainer.fit()\n",
    "                    if val_history_curr[-1] > best_val_accuracy:\n",
    "                        best_val_accuracy = val_history_curr[-1]\n",
    "                        best_classifier = model\n",
    "                        loss_history = loss_history_curr\n",
    "                        train_history = train_history_curr\n",
    "                        val_history = val_history_curr\n",
    "                    #clear_output()\n",
    "\n",
    "\n",
    "\n",
    "print('best validation accuracy achieved: %f' % best_val_accuracy)"
   ]
  },
  {
   "cell_type": "code",
   "execution_count": 59,
   "metadata": {
    "scrolled": true
   },
   "outputs": [
    {
     "data": {
      "text/plain": [
       "[<matplotlib.lines.Line2D at 0x22538080348>]"
      ]
     },
     "execution_count": 59,
     "metadata": {},
     "output_type": "execute_result"
    },
    {
     "data": {
      "image/png": "[encoded data removed]",
      "text/plain": [
       "<Figure size 1080x504 with 2 Axes>"
      ]
     },
     "metadata": {
      "needs_background": "light"
     },
     "output_type": "display_data"
    }
   ],
   "source": [
    "plt.figure(figsize=(15, 7))\n",
    "plt.subplot(211)\n",
    "plt.title(\"Loss\")\n",
    "plt.plot(loss_history)\n",
    "plt.subplot(212)\n",
    "plt.title(\"Train/validation accuracy\")\n",
    "plt.plot(train_history)\n",
    "plt.plot(val_history)"
   ]
  },
  {
   "cell_type": "markdown",
   "metadata": {},
   "source": [
    "# Как обычно, посмотрим, как наша лучшая модель работает на тестовых данных"
   ]
  },
  {
   "cell_type": "code",
   "execution_count": 61,
   "metadata": {},
   "outputs": [
    {
     "name": "stdout",
     "output_type": "stream",
     "text": [
      "Neural net test set accuracy: 0.763000\n"
     ]
    }
   ],
   "source": [
    "test_pred = best_classifier.predict(test_X)\n",
    "test_accuracy = multiclass_accuracy(test_pred, test_y)\n",
    "print('Neural net test set accuracy: %f' % (test_accuracy, ))"
   ]
  }
 ],
 "metadata": {
  "kernelspec": {
   "display_name": "Python 3",
   "language": "python",
   "name": "python3"
  },
  "language_info": {
   "codemirror_mode": {
    "name": "ipython",
    "version": 3
   },
   "file_extension": ".py",
   "mimetype": "text/x-python",
   "name": "python",
   "nbconvert_exporter": "python",
   "pygments_lexer": "ipython3",
   "version": "3.7.6"
  }
 },
 "nbformat": 4,
 "nbformat_minor": 2
}
