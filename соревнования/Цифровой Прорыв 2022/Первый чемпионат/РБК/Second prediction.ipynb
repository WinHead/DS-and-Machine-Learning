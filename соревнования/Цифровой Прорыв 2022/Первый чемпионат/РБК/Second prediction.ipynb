{
 "cells": [
  {
   "cell_type": "markdown",
   "metadata": {
    "id": "94nW2454wc8x"
   },
   "source": [
    "## Загрузим нужные библиотеки"
   ]
  },
  {
   "cell_type": "markdown",
   "metadata": {},
   "source": [
    "Идеи:\n",
    "~~1) Переменная - количество авторов. ~~\n",
    "2) OneHotEncoder - авторов в число (автор чувствует статью)\n",
    "~~3) Отдельно выделить без авторов?~~\n",
    "4) Определить популярность слов в теге, используя гугл трендс за период --> Интересно, но сложно\n",
    "\n",
    "5) Определять выходные (например). => Поиграться с датой (мб часы утренние/вечерние)\n",
    "\n",
    "6) Заменить категорию, сессию, автора (и/или) на среднее значение по frp (например)\n",
    "\n",
    "7) Аналогично с тегами (Узнать че за теги (изи) + популярность)\n",
    "\n",
    "8) Распарсить сайт для поиска авторов и посчитать их среднюю популярность тип. (За 10 статей, например)\n",
    "\n",
    "9) Получить длину слов в статье (Влияет как минимум на процент читателей полность проситавших статью)\n",
    "\n",
    "10) Предсказать на основе View и Depth frp"
   ]
  },
  {
   "cell_type": "code",
   "execution_count": 120,
   "metadata": {
    "id": "yd1BP24w3ZTO"
   },
   "outputs": [],
   "source": [
    "import pandas as pd\n",
    "from sklearn.metrics import r2_score\n",
    "from sklearn.model_selection import train_test_split\n",
    "from sklearn.ensemble import RandomForestRegressor\n",
    "from sklearn.datasets import make_regression"
   ]
  },
  {
   "cell_type": "code",
   "execution_count": 121,
   "metadata": {},
   "outputs": [],
   "source": [
    "import numpy as np\n",
    "import xgboost as xg"
   ]
  },
  {
   "cell_type": "markdown",
   "metadata": {
    "id": "9OIyUVsswusW"
   },
   "source": [
    "Выполним загрузу датсета"
   ]
  },
  {
   "cell_type": "code",
   "execution_count": 122,
   "metadata": {
    "id": "gwTarAzQj56l"
   },
   "outputs": [],
   "source": [
    "df_train = pd.read_csv(\"content/train_dataset_train.csv\", index_col= 0)\n",
    "df_test = pd.read_csv(\"content/test_dataset_test.csv\", index_col= 0)"
   ]
  },
  {
   "cell_type": "code",
   "execution_count": 123,
   "metadata": {},
   "outputs": [],
   "source": [
    "import pandas as pd\n",
    "from sklearn.metrics import r2_score\n",
    "from sklearn.model_selection import train_test_split\n",
    "from sklearn.ensemble import RandomForestRegressor\n",
    "from sklearn.datasets import make_regression\n",
    "\n",
    "import numpy as np\n",
    "import xgboost as xg"
   ]
  },
  {
   "cell_type": "markdown",
   "metadata": {},
   "source": [
    "Выполним загрузу датсета"
   ]
  },
  {
   "cell_type": "code",
   "execution_count": 124,
   "metadata": {},
   "outputs": [],
   "source": [
    "df_train = pd.read_csv(\"content/train_dataset_train.csv\", index_col= 0)\n",
    "df_test = pd.read_csv(\"content/test_dataset_test.csv\", index_col= 0)"
   ]
  },
  {
   "cell_type": "code",
   "execution_count": 126,
   "metadata": {},
   "outputs": [
    {
     "data": {
      "text/html": [
       "<div>\n",
       "<style scoped>\n",
       "    .dataframe tbody tr th:only-of-type {\n",
       "        vertical-align: middle;\n",
       "    }\n",
       "\n",
       "    .dataframe tbody tr th {\n",
       "        vertical-align: top;\n",
       "    }\n",
       "\n",
       "    .dataframe thead th {\n",
       "        text-align: right;\n",
       "    }\n",
       "</style>\n",
       "<table border=\"1\" class=\"dataframe\">\n",
       "  <thead>\n",
       "    <tr style=\"text-align: right;\">\n",
       "      <th></th>\n",
       "      <th>title</th>\n",
       "      <th>publish_date</th>\n",
       "      <th>session</th>\n",
       "      <th>authors</th>\n",
       "      <th>ctr</th>\n",
       "      <th>category</th>\n",
       "      <th>tags</th>\n",
       "      <th>views</th>\n",
       "      <th>depth</th>\n",
       "      <th>full_reads_percent</th>\n",
       "    </tr>\n",
       "    <tr>\n",
       "      <th>document_id</th>\n",
       "      <th></th>\n",
       "      <th></th>\n",
       "      <th></th>\n",
       "      <th></th>\n",
       "      <th></th>\n",
       "      <th></th>\n",
       "      <th></th>\n",
       "      <th></th>\n",
       "      <th></th>\n",
       "      <th></th>\n",
       "    </tr>\n",
       "  </thead>\n",
       "  <tbody>\n",
       "    <tr>\n",
       "      <th>624ac09c9a7947db3d80c98eIDE7mtH4RBqGn-8MXfGffQ</th>\n",
       "      <td>Европейский банк развития приостановил доступ ...</td>\n",
       "      <td>2022-04-04 10:29:44</td>\n",
       "      <td>IDE7mtH4RBqGn-8MXfGffQ</td>\n",
       "      <td>[]</td>\n",
       "      <td>1.580</td>\n",
       "      <td>5409f11ce063da9c8b588a18</td>\n",
       "      <td>['55928d339a794751dc8303d6', '542d1e28cbb20f86...</td>\n",
       "      <td>20460</td>\n",
       "      <td>1.134</td>\n",
       "      <td>35.850</td>\n",
       "    </tr>\n",
       "    <tr>\n",
       "      <th>620f6b899a7947701cf489e1KtVJsteHStO5oditt3Uvzw</th>\n",
       "      <td>Кремль назвал регулярным процессом учебные зап...</td>\n",
       "      <td>2022-02-18 10:00:39</td>\n",
       "      <td>KtVJsteHStO5oditt3Uvzw</td>\n",
       "      <td>['54244e01cbb20f03076b236d','5878a2ec9a7947e53...</td>\n",
       "      <td>1.853</td>\n",
       "      <td>5409f11ce063da9c8b588a12</td>\n",
       "      <td>['549d25df9a794775979561d2', '58abcf539a7947f1...</td>\n",
       "      <td>19038</td>\n",
       "      <td>1.142</td>\n",
       "      <td>38.355</td>\n",
       "    </tr>\n",
       "    <tr>\n",
       "      <th>620730cf9a7947ab96a44e27hk7puWJwSziw0m3sfTkKWA</th>\n",
       "      <td>Госсекретарь Швеции заявила о нежелании вступа...</td>\n",
       "      <td>2022-02-12 04:24:02</td>\n",
       "      <td>hk7puWJwSziw0m3sfTkKWA</td>\n",
       "      <td>[]</td>\n",
       "      <td>0.000</td>\n",
       "      <td>5409f11ce063da9c8b588a12</td>\n",
       "      <td>['5430f451cbb20f73931ecd05', '5409f15de063daa0...</td>\n",
       "      <td>51151</td>\n",
       "      <td>1.185</td>\n",
       "      <td>36.424</td>\n",
       "    </tr>\n",
       "  </tbody>\n",
       "</table>\n",
       "</div>"
      ],
      "text/plain": [
       "                                                                                            title  \\\n",
       "document_id                                                                                         \n",
       "624ac09c9a7947db3d80c98eIDE7mtH4RBqGn-8MXfGffQ  Европейский банк развития приостановил доступ ...   \n",
       "620f6b899a7947701cf489e1KtVJsteHStO5oditt3Uvzw  Кремль назвал регулярным процессом учебные зап...   \n",
       "620730cf9a7947ab96a44e27hk7puWJwSziw0m3sfTkKWA  Госсекретарь Швеции заявила о нежелании вступа...   \n",
       "\n",
       "                                                       publish_date  \\\n",
       "document_id                                                           \n",
       "624ac09c9a7947db3d80c98eIDE7mtH4RBqGn-8MXfGffQ  2022-04-04 10:29:44   \n",
       "620f6b899a7947701cf489e1KtVJsteHStO5oditt3Uvzw  2022-02-18 10:00:39   \n",
       "620730cf9a7947ab96a44e27hk7puWJwSziw0m3sfTkKWA  2022-02-12 04:24:02   \n",
       "\n",
       "                                                               session  \\\n",
       "document_id                                                              \n",
       "624ac09c9a7947db3d80c98eIDE7mtH4RBqGn-8MXfGffQ  IDE7mtH4RBqGn-8MXfGffQ   \n",
       "620f6b899a7947701cf489e1KtVJsteHStO5oditt3Uvzw  KtVJsteHStO5oditt3Uvzw   \n",
       "620730cf9a7947ab96a44e27hk7puWJwSziw0m3sfTkKWA  hk7puWJwSziw0m3sfTkKWA   \n",
       "\n",
       "                                                                                          authors  \\\n",
       "document_id                                                                                         \n",
       "624ac09c9a7947db3d80c98eIDE7mtH4RBqGn-8MXfGffQ                                                 []   \n",
       "620f6b899a7947701cf489e1KtVJsteHStO5oditt3Uvzw  ['54244e01cbb20f03076b236d','5878a2ec9a7947e53...   \n",
       "620730cf9a7947ab96a44e27hk7puWJwSziw0m3sfTkKWA                                                 []   \n",
       "\n",
       "                                                  ctr  \\\n",
       "document_id                                             \n",
       "624ac09c9a7947db3d80c98eIDE7mtH4RBqGn-8MXfGffQ  1.580   \n",
       "620f6b899a7947701cf489e1KtVJsteHStO5oditt3Uvzw  1.853   \n",
       "620730cf9a7947ab96a44e27hk7puWJwSziw0m3sfTkKWA  0.000   \n",
       "\n",
       "                                                                category  \\\n",
       "document_id                                                                \n",
       "624ac09c9a7947db3d80c98eIDE7mtH4RBqGn-8MXfGffQ  5409f11ce063da9c8b588a18   \n",
       "620f6b899a7947701cf489e1KtVJsteHStO5oditt3Uvzw  5409f11ce063da9c8b588a12   \n",
       "620730cf9a7947ab96a44e27hk7puWJwSziw0m3sfTkKWA  5409f11ce063da9c8b588a12   \n",
       "\n",
       "                                                                                             tags  \\\n",
       "document_id                                                                                         \n",
       "624ac09c9a7947db3d80c98eIDE7mtH4RBqGn-8MXfGffQ  ['55928d339a794751dc8303d6', '542d1e28cbb20f86...   \n",
       "620f6b899a7947701cf489e1KtVJsteHStO5oditt3Uvzw  ['549d25df9a794775979561d2', '58abcf539a7947f1...   \n",
       "620730cf9a7947ab96a44e27hk7puWJwSziw0m3sfTkKWA  ['5430f451cbb20f73931ecd05', '5409f15de063daa0...   \n",
       "\n",
       "                                                views  depth  \\\n",
       "document_id                                                    \n",
       "624ac09c9a7947db3d80c98eIDE7mtH4RBqGn-8MXfGffQ  20460  1.134   \n",
       "620f6b899a7947701cf489e1KtVJsteHStO5oditt3Uvzw  19038  1.142   \n",
       "620730cf9a7947ab96a44e27hk7puWJwSziw0m3sfTkKWA  51151  1.185   \n",
       "\n",
       "                                                full_reads_percent  \n",
       "document_id                                                         \n",
       "624ac09c9a7947db3d80c98eIDE7mtH4RBqGn-8MXfGffQ              35.850  \n",
       "620f6b899a7947701cf489e1KtVJsteHStO5oditt3Uvzw              38.355  \n",
       "620730cf9a7947ab96a44e27hk7puWJwSziw0m3sfTkKWA              36.424  "
      ]
     },
     "execution_count": 126,
     "metadata": {},
     "output_type": "execute_result"
    }
   ],
   "source": [
    "df_train.head(3)"
   ]
  },
  {
   "cell_type": "code",
   "execution_count": 127,
   "metadata": {},
   "outputs": [],
   "source": [
    "sample = pd.read_csv(\"content/sample_solution.csv\", index_col= 0)"
   ]
  },
  {
   "cell_type": "markdown",
   "metadata": {},
   "source": [
    "### Замена данных (Дата, session, authors,  category, tags, authors)"
   ]
  },
  {
   "cell_type": "markdown",
   "metadata": {},
   "source": [
    "Создаем объединенный датафрейм трейна и теста. Заменим там перемнные и разобьем его обратно"
   ]
  },
  {
   "cell_type": "code",
   "execution_count": 128,
   "metadata": {},
   "outputs": [],
   "source": [
    "# , \"tags\"\n",
    "frames = [df_train[[\"category\", \"session\", \"authors\"]], df_test[[\"category\", \"session\", \"authors\"]]]\n",
    "df_temp = pd.concat(frames)"
   ]
  },
  {
   "cell_type": "code",
   "execution_count": 129,
   "metadata": {
    "scrolled": true
   },
   "outputs": [
    {
     "data": {
      "text/html": [
       "<div>\n",
       "<style scoped>\n",
       "    .dataframe tbody tr th:only-of-type {\n",
       "        vertical-align: middle;\n",
       "    }\n",
       "\n",
       "    .dataframe tbody tr th {\n",
       "        vertical-align: top;\n",
       "    }\n",
       "\n",
       "    .dataframe thead th {\n",
       "        text-align: right;\n",
       "    }\n",
       "</style>\n",
       "<table border=\"1\" class=\"dataframe\">\n",
       "  <thead>\n",
       "    <tr style=\"text-align: right;\">\n",
       "      <th></th>\n",
       "      <th>category</th>\n",
       "      <th>session</th>\n",
       "      <th>authors</th>\n",
       "    </tr>\n",
       "    <tr>\n",
       "      <th>document_id</th>\n",
       "      <th></th>\n",
       "      <th></th>\n",
       "      <th></th>\n",
       "    </tr>\n",
       "  </thead>\n",
       "  <tbody>\n",
       "    <tr>\n",
       "      <th>624ac09c9a7947db3d80c98eIDE7mtH4RBqGn-8MXfGffQ</th>\n",
       "      <td>5409f11ce063da9c8b588a18</td>\n",
       "      <td>IDE7mtH4RBqGn-8MXfGffQ</td>\n",
       "      <td>[]</td>\n",
       "    </tr>\n",
       "    <tr>\n",
       "      <th>620f6b899a7947701cf489e1KtVJsteHStO5oditt3Uvzw</th>\n",
       "      <td>5409f11ce063da9c8b588a12</td>\n",
       "      <td>KtVJsteHStO5oditt3Uvzw</td>\n",
       "      <td>['54244e01cbb20f03076b236d','5878a2ec9a7947e53...</td>\n",
       "    </tr>\n",
       "    <tr>\n",
       "      <th>620730cf9a7947ab96a44e27hk7puWJwSziw0m3sfTkKWA</th>\n",
       "      <td>5409f11ce063da9c8b588a12</td>\n",
       "      <td>hk7puWJwSziw0m3sfTkKWA</td>\n",
       "      <td>[]</td>\n",
       "    </tr>\n",
       "    <tr>\n",
       "      <th>6262a5889a79470b78c9ca307UKY2SSZTjCcjhwBzxw37w</th>\n",
       "      <td>5409f11ce063da9c8b588a12</td>\n",
       "      <td>7UKY2SSZTjCcjhwBzxw37w</td>\n",
       "      <td>[]</td>\n",
       "    </tr>\n",
       "    <tr>\n",
       "      <th>626678929a79477ca0101568wuMYES90REuV5YhrN75IXg</th>\n",
       "      <td>5433e5decbb20f277b20eca9</td>\n",
       "      <td>wuMYES90REuV5YhrN75IXg</td>\n",
       "      <td>[]</td>\n",
       "    </tr>\n",
       "  </tbody>\n",
       "</table>\n",
       "</div>"
      ],
      "text/plain": [
       "                                                                category  \\\n",
       "document_id                                                                \n",
       "624ac09c9a7947db3d80c98eIDE7mtH4RBqGn-8MXfGffQ  5409f11ce063da9c8b588a18   \n",
       "620f6b899a7947701cf489e1KtVJsteHStO5oditt3Uvzw  5409f11ce063da9c8b588a12   \n",
       "620730cf9a7947ab96a44e27hk7puWJwSziw0m3sfTkKWA  5409f11ce063da9c8b588a12   \n",
       "6262a5889a79470b78c9ca307UKY2SSZTjCcjhwBzxw37w  5409f11ce063da9c8b588a12   \n",
       "626678929a79477ca0101568wuMYES90REuV5YhrN75IXg  5433e5decbb20f277b20eca9   \n",
       "\n",
       "                                                               session  \\\n",
       "document_id                                                              \n",
       "624ac09c9a7947db3d80c98eIDE7mtH4RBqGn-8MXfGffQ  IDE7mtH4RBqGn-8MXfGffQ   \n",
       "620f6b899a7947701cf489e1KtVJsteHStO5oditt3Uvzw  KtVJsteHStO5oditt3Uvzw   \n",
       "620730cf9a7947ab96a44e27hk7puWJwSziw0m3sfTkKWA  hk7puWJwSziw0m3sfTkKWA   \n",
       "6262a5889a79470b78c9ca307UKY2SSZTjCcjhwBzxw37w  7UKY2SSZTjCcjhwBzxw37w   \n",
       "626678929a79477ca0101568wuMYES90REuV5YhrN75IXg  wuMYES90REuV5YhrN75IXg   \n",
       "\n",
       "                                                                                          authors  \n",
       "document_id                                                                                        \n",
       "624ac09c9a7947db3d80c98eIDE7mtH4RBqGn-8MXfGffQ                                                 []  \n",
       "620f6b899a7947701cf489e1KtVJsteHStO5oditt3Uvzw  ['54244e01cbb20f03076b236d','5878a2ec9a7947e53...  \n",
       "620730cf9a7947ab96a44e27hk7puWJwSziw0m3sfTkKWA                                                 []  \n",
       "6262a5889a79470b78c9ca307UKY2SSZTjCcjhwBzxw37w                                                 []  \n",
       "626678929a79477ca0101568wuMYES90REuV5YhrN75IXg                                                 []  "
      ]
     },
     "execution_count": 129,
     "metadata": {},
     "output_type": "execute_result"
    }
   ],
   "source": [
    "df_temp.head()"
   ]
  },
  {
   "cell_type": "code",
   "execution_count": 130,
   "metadata": {},
   "outputs": [],
   "source": [
    "df_temp[\"category\"] = df_temp[\"category\"].astype('category')\n",
    "df_temp[\"category\"] = df_temp[\"category\"].cat.codes\n",
    "df_temp[\"category\"] = df_temp[\"category\"].astype('int')\n",
    "\n",
    "df_temp[\"authors\"] = df_temp[\"authors\"].astype('category')\n",
    "df_temp[\"authors\"] = df_temp[\"authors\"].cat.codes\n",
    "df_temp[\"authors\"] = df_temp[\"authors\"].astype('int')\n",
    "\n",
    "df_temp[\"session\"] = df_temp[\"session\"].astype('category')\n",
    "df_temp[\"session\"] = df_temp[\"session\"].cat.codes\n",
    "df_temp[\"session\"] = df_temp[\"session\"].astype('int')\n",
    "\n",
    "#df_temp[\"tags\"] = df_temp[\"tags\"].astype('category')\n",
    "#df_temp[\"tags\"] = df_temp[\"tags\"].cat.codes\n",
    "#df_temp[\"tags\"] = df_temp[\"tags\"].astype('int')"
   ]
  },
  {
   "cell_type": "code",
   "execution_count": 131,
   "metadata": {},
   "outputs": [],
   "source": [
    "\n",
    "df_train = pd.merge(\n",
    "    df_train,\n",
    "    df_temp,\n",
    "    how=\"left\",\n",
    "    left_index=True,\n",
    "    right_index=True,\n",
    "    sort=False,\n",
    "    suffixes=(\"\", \"_code\"),\n",
    "    copy=True,\n",
    "    indicator=False,\n",
    "    validate=None,\n",
    ")\n",
    "\n",
    "df_test = pd.merge(\n",
    "    df_test,\n",
    "    df_temp,\n",
    "    how=\"left\",\n",
    "    left_index=True,\n",
    "    right_index=True,\n",
    "    sort=False,\n",
    "    suffixes=(\"\", \"_code\"),\n",
    "    copy=True,\n",
    "    indicator=False,\n",
    "    validate=None,\n",
    ")"
   ]
  },
  {
   "cell_type": "markdown",
   "metadata": {},
   "source": [
    "### Добавляем фичи"
   ]
  },
  {
   "cell_type": "markdown",
   "metadata": {},
   "source": [
    "Добавим число тегов и авторов"
   ]
  },
  {
   "cell_type": "code",
   "execution_count": 132,
   "metadata": {},
   "outputs": [],
   "source": [
    "for dataset in [df_train, df_test]:\n",
    "    dataset['n_authors'] = dataset['authors'].map(lambda x: 0 if x.split(',') == ['[]'] else len(x.split(',')) )\n",
    "    dataset['n_tags'] = dataset['tags'].map(lambda x: 0 if x.split(',') == ['[]'] else len(x.split(',')) )"
   ]
  },
  {
   "cell_type": "markdown",
   "metadata": {},
   "source": [
    "Добавим день, меся, год"
   ]
  },
  {
   "cell_type": "code",
   "execution_count": 133,
   "metadata": {},
   "outputs": [],
   "source": [
    "for dataset in [df_train, df_test]:\n",
    "    dataset['day'] = pd.to_datetime(dataset['publish_date']).dt.strftime(\"%d\").astype(int)\n",
    "    dataset['mounth'] = pd.to_datetime(dataset['publish_date']).dt.strftime(\"%m\").astype(int)\n",
    "    dataset['year'] = pd.to_datetime(dataset['publish_date']).dt.strftime(\"%y\").astype(int)"
   ]
  },
  {
   "cell_type": "code",
   "execution_count": 134,
   "metadata": {
    "colab": {
     "base_uri": "https://localhost:8080/",
     "height": 464
    },
    "id": "zt8MAx0Cj5_V",
    "outputId": "7bc0d7a5-0ea0-4c38-b2dc-2f24c0828244",
    "scrolled": false
   },
   "outputs": [
    {
     "data": {
      "text/html": [
       "<div>\n",
       "<style scoped>\n",
       "    .dataframe tbody tr th:only-of-type {\n",
       "        vertical-align: middle;\n",
       "    }\n",
       "\n",
       "    .dataframe tbody tr th {\n",
       "        vertical-align: top;\n",
       "    }\n",
       "\n",
       "    .dataframe thead th {\n",
       "        text-align: right;\n",
       "    }\n",
       "</style>\n",
       "<table border=\"1\" class=\"dataframe\">\n",
       "  <thead>\n",
       "    <tr style=\"text-align: right;\">\n",
       "      <th></th>\n",
       "      <th>title</th>\n",
       "      <th>publish_date</th>\n",
       "      <th>session</th>\n",
       "      <th>authors</th>\n",
       "      <th>ctr</th>\n",
       "      <th>category</th>\n",
       "      <th>tags</th>\n",
       "      <th>views</th>\n",
       "      <th>depth</th>\n",
       "      <th>full_reads_percent</th>\n",
       "      <th>category_code</th>\n",
       "      <th>session_code</th>\n",
       "      <th>authors_code</th>\n",
       "      <th>n_authors</th>\n",
       "      <th>n_tags</th>\n",
       "      <th>day</th>\n",
       "      <th>mounth</th>\n",
       "      <th>year</th>\n",
       "    </tr>\n",
       "    <tr>\n",
       "      <th>document_id</th>\n",
       "      <th></th>\n",
       "      <th></th>\n",
       "      <th></th>\n",
       "      <th></th>\n",
       "      <th></th>\n",
       "      <th></th>\n",
       "      <th></th>\n",
       "      <th></th>\n",
       "      <th></th>\n",
       "      <th></th>\n",
       "      <th></th>\n",
       "      <th></th>\n",
       "      <th></th>\n",
       "      <th></th>\n",
       "      <th></th>\n",
       "      <th></th>\n",
       "      <th></th>\n",
       "      <th></th>\n",
       "    </tr>\n",
       "  </thead>\n",
       "  <tbody>\n",
       "    <tr>\n",
       "      <th>624ac09c9a7947db3d80c98eIDE7mtH4RBqGn-8MXfGffQ</th>\n",
       "      <td>Европейский банк развития приостановил доступ ...</td>\n",
       "      <td>2022-04-04 10:29:44</td>\n",
       "      <td>IDE7mtH4RBqGn-8MXfGffQ</td>\n",
       "      <td>[]</td>\n",
       "      <td>1.580</td>\n",
       "      <td>5409f11ce063da9c8b588a18</td>\n",
       "      <td>['55928d339a794751dc8303d6', '542d1e28cbb20f86...</td>\n",
       "      <td>20460</td>\n",
       "      <td>1.134</td>\n",
       "      <td>35.850</td>\n",
       "      <td>2</td>\n",
       "      <td>2405</td>\n",
       "      <td>739</td>\n",
       "      <td>0</td>\n",
       "      <td>4</td>\n",
       "      <td>4</td>\n",
       "      <td>4</td>\n",
       "      <td>22</td>\n",
       "    </tr>\n",
       "    <tr>\n",
       "      <th>620f6b899a7947701cf489e1KtVJsteHStO5oditt3Uvzw</th>\n",
       "      <td>Кремль назвал регулярным процессом учебные зап...</td>\n",
       "      <td>2022-02-18 10:00:39</td>\n",
       "      <td>KtVJsteHStO5oditt3Uvzw</td>\n",
       "      <td>['54244e01cbb20f03076b236d','5878a2ec9a7947e53...</td>\n",
       "      <td>1.853</td>\n",
       "      <td>5409f11ce063da9c8b588a12</td>\n",
       "      <td>['549d25df9a794775979561d2', '58abcf539a7947f1...</td>\n",
       "      <td>19038</td>\n",
       "      <td>1.142</td>\n",
       "      <td>38.355</td>\n",
       "      <td>0</td>\n",
       "      <td>2724</td>\n",
       "      <td>46</td>\n",
       "      <td>2</td>\n",
       "      <td>3</td>\n",
       "      <td>18</td>\n",
       "      <td>2</td>\n",
       "      <td>22</td>\n",
       "    </tr>\n",
       "    <tr>\n",
       "      <th>620730cf9a7947ab96a44e27hk7puWJwSziw0m3sfTkKWA</th>\n",
       "      <td>Госсекретарь Швеции заявила о нежелании вступа...</td>\n",
       "      <td>2022-02-12 04:24:02</td>\n",
       "      <td>hk7puWJwSziw0m3sfTkKWA</td>\n",
       "      <td>[]</td>\n",
       "      <td>0.000</td>\n",
       "      <td>5409f11ce063da9c8b588a12</td>\n",
       "      <td>['5430f451cbb20f73931ecd05', '5409f15de063daa0...</td>\n",
       "      <td>51151</td>\n",
       "      <td>1.185</td>\n",
       "      <td>36.424</td>\n",
       "      <td>0</td>\n",
       "      <td>5741</td>\n",
       "      <td>739</td>\n",
       "      <td>0</td>\n",
       "      <td>3</td>\n",
       "      <td>12</td>\n",
       "      <td>2</td>\n",
       "      <td>22</td>\n",
       "    </tr>\n",
       "  </tbody>\n",
       "</table>\n",
       "</div>"
      ],
      "text/plain": [
       "                                                                                            title  \\\n",
       "document_id                                                                                         \n",
       "624ac09c9a7947db3d80c98eIDE7mtH4RBqGn-8MXfGffQ  Европейский банк развития приостановил доступ ...   \n",
       "620f6b899a7947701cf489e1KtVJsteHStO5oditt3Uvzw  Кремль назвал регулярным процессом учебные зап...   \n",
       "620730cf9a7947ab96a44e27hk7puWJwSziw0m3sfTkKWA  Госсекретарь Швеции заявила о нежелании вступа...   \n",
       "\n",
       "                                                       publish_date  \\\n",
       "document_id                                                           \n",
       "624ac09c9a7947db3d80c98eIDE7mtH4RBqGn-8MXfGffQ  2022-04-04 10:29:44   \n",
       "620f6b899a7947701cf489e1KtVJsteHStO5oditt3Uvzw  2022-02-18 10:00:39   \n",
       "620730cf9a7947ab96a44e27hk7puWJwSziw0m3sfTkKWA  2022-02-12 04:24:02   \n",
       "\n",
       "                                                               session  \\\n",
       "document_id                                                              \n",
       "624ac09c9a7947db3d80c98eIDE7mtH4RBqGn-8MXfGffQ  IDE7mtH4RBqGn-8MXfGffQ   \n",
       "620f6b899a7947701cf489e1KtVJsteHStO5oditt3Uvzw  KtVJsteHStO5oditt3Uvzw   \n",
       "620730cf9a7947ab96a44e27hk7puWJwSziw0m3sfTkKWA  hk7puWJwSziw0m3sfTkKWA   \n",
       "\n",
       "                                                                                          authors  \\\n",
       "document_id                                                                                         \n",
       "624ac09c9a7947db3d80c98eIDE7mtH4RBqGn-8MXfGffQ                                                 []   \n",
       "620f6b899a7947701cf489e1KtVJsteHStO5oditt3Uvzw  ['54244e01cbb20f03076b236d','5878a2ec9a7947e53...   \n",
       "620730cf9a7947ab96a44e27hk7puWJwSziw0m3sfTkKWA                                                 []   \n",
       "\n",
       "                                                  ctr  \\\n",
       "document_id                                             \n",
       "624ac09c9a7947db3d80c98eIDE7mtH4RBqGn-8MXfGffQ  1.580   \n",
       "620f6b899a7947701cf489e1KtVJsteHStO5oditt3Uvzw  1.853   \n",
       "620730cf9a7947ab96a44e27hk7puWJwSziw0m3sfTkKWA  0.000   \n",
       "\n",
       "                                                                category  \\\n",
       "document_id                                                                \n",
       "624ac09c9a7947db3d80c98eIDE7mtH4RBqGn-8MXfGffQ  5409f11ce063da9c8b588a18   \n",
       "620f6b899a7947701cf489e1KtVJsteHStO5oditt3Uvzw  5409f11ce063da9c8b588a12   \n",
       "620730cf9a7947ab96a44e27hk7puWJwSziw0m3sfTkKWA  5409f11ce063da9c8b588a12   \n",
       "\n",
       "                                                                                             tags  \\\n",
       "document_id                                                                                         \n",
       "624ac09c9a7947db3d80c98eIDE7mtH4RBqGn-8MXfGffQ  ['55928d339a794751dc8303d6', '542d1e28cbb20f86...   \n",
       "620f6b899a7947701cf489e1KtVJsteHStO5oditt3Uvzw  ['549d25df9a794775979561d2', '58abcf539a7947f1...   \n",
       "620730cf9a7947ab96a44e27hk7puWJwSziw0m3sfTkKWA  ['5430f451cbb20f73931ecd05', '5409f15de063daa0...   \n",
       "\n",
       "                                                views  depth  \\\n",
       "document_id                                                    \n",
       "624ac09c9a7947db3d80c98eIDE7mtH4RBqGn-8MXfGffQ  20460  1.134   \n",
       "620f6b899a7947701cf489e1KtVJsteHStO5oditt3Uvzw  19038  1.142   \n",
       "620730cf9a7947ab96a44e27hk7puWJwSziw0m3sfTkKWA  51151  1.185   \n",
       "\n",
       "                                                full_reads_percent  \\\n",
       "document_id                                                          \n",
       "624ac09c9a7947db3d80c98eIDE7mtH4RBqGn-8MXfGffQ              35.850   \n",
       "620f6b899a7947701cf489e1KtVJsteHStO5oditt3Uvzw              38.355   \n",
       "620730cf9a7947ab96a44e27hk7puWJwSziw0m3sfTkKWA              36.424   \n",
       "\n",
       "                                                category_code  session_code  \\\n",
       "document_id                                                                   \n",
       "624ac09c9a7947db3d80c98eIDE7mtH4RBqGn-8MXfGffQ              2          2405   \n",
       "620f6b899a7947701cf489e1KtVJsteHStO5oditt3Uvzw              0          2724   \n",
       "620730cf9a7947ab96a44e27hk7puWJwSziw0m3sfTkKWA              0          5741   \n",
       "\n",
       "                                                authors_code  n_authors  \\\n",
       "document_id                                                               \n",
       "624ac09c9a7947db3d80c98eIDE7mtH4RBqGn-8MXfGffQ           739          0   \n",
       "620f6b899a7947701cf489e1KtVJsteHStO5oditt3Uvzw            46          2   \n",
       "620730cf9a7947ab96a44e27hk7puWJwSziw0m3sfTkKWA           739          0   \n",
       "\n",
       "                                                n_tags  day  mounth  year  \n",
       "document_id                                                                \n",
       "624ac09c9a7947db3d80c98eIDE7mtH4RBqGn-8MXfGffQ       4    4       4    22  \n",
       "620f6b899a7947701cf489e1KtVJsteHStO5oditt3Uvzw       3   18       2    22  \n",
       "620730cf9a7947ab96a44e27hk7puWJwSziw0m3sfTkKWA       3   12       2    22  "
      ]
     },
     "execution_count": 134,
     "metadata": {},
     "output_type": "execute_result"
    }
   ],
   "source": [
    "df_train.head(3)"
   ]
  },
  {
   "cell_type": "code",
   "execution_count": 174,
   "metadata": {},
   "outputs": [
    {
     "data": {
      "text/plain": [
       "\"['55928d339a794751dc8303d6', '542d1e28cbb20f862ac2c1f6', '5409f140e063daa0f408ad1d', '55797e339a794789759c64a1']\""
      ]
     },
     "execution_count": 174,
     "metadata": {},
     "output_type": "execute_result"
    }
   ],
   "source": [
    "df_train.tags[0]"
   ]
  },
  {
   "cell_type": "code",
   "execution_count": 135,
   "metadata": {
    "scrolled": true
   },
   "outputs": [
    {
     "data": {
      "text/html": [
       "<div>\n",
       "<style scoped>\n",
       "    .dataframe tbody tr th:only-of-type {\n",
       "        vertical-align: middle;\n",
       "    }\n",
       "\n",
       "    .dataframe tbody tr th {\n",
       "        vertical-align: top;\n",
       "    }\n",
       "\n",
       "    .dataframe thead th {\n",
       "        text-align: right;\n",
       "    }\n",
       "</style>\n",
       "<table border=\"1\" class=\"dataframe\">\n",
       "  <thead>\n",
       "    <tr style=\"text-align: right;\">\n",
       "      <th></th>\n",
       "      <th>title</th>\n",
       "      <th>publish_date</th>\n",
       "      <th>session</th>\n",
       "      <th>authors</th>\n",
       "      <th>ctr</th>\n",
       "      <th>category</th>\n",
       "      <th>tags</th>\n",
       "      <th>category_code</th>\n",
       "      <th>session_code</th>\n",
       "      <th>authors_code</th>\n",
       "      <th>n_authors</th>\n",
       "      <th>n_tags</th>\n",
       "      <th>day</th>\n",
       "      <th>mounth</th>\n",
       "      <th>year</th>\n",
       "    </tr>\n",
       "    <tr>\n",
       "      <th>document_id</th>\n",
       "      <th></th>\n",
       "      <th></th>\n",
       "      <th></th>\n",
       "      <th></th>\n",
       "      <th></th>\n",
       "      <th></th>\n",
       "      <th></th>\n",
       "      <th></th>\n",
       "      <th></th>\n",
       "      <th></th>\n",
       "      <th></th>\n",
       "      <th></th>\n",
       "      <th></th>\n",
       "      <th></th>\n",
       "      <th></th>\n",
       "    </tr>\n",
       "  </thead>\n",
       "  <tbody>\n",
       "    <tr>\n",
       "      <th>61f9569a9a794794245a82abJ0AvX96vTAaQCiWVbzoMdw</th>\n",
       "      <td>«Крайне провокационная тема»: как Россия и США...</td>\n",
       "      <td>2022-02-01 17:02:44</td>\n",
       "      <td>J0AvX96vTAaQCiWVbzoMdw</td>\n",
       "      <td>[]</td>\n",
       "      <td>0.000</td>\n",
       "      <td>5409f11ce063da9c8b588a12</td>\n",
       "      <td>['58ca77679a794700b1e37f0a', '5409f1b7e063daa0...</td>\n",
       "      <td>0</td>\n",
       "      <td>2510</td>\n",
       "      <td>739</td>\n",
       "      <td>0</td>\n",
       "      <td>5</td>\n",
       "      <td>1</td>\n",
       "      <td>2</td>\n",
       "      <td>22</td>\n",
       "    </tr>\n",
       "    <tr>\n",
       "      <th>628c22b89a79470e553f594bQS5CqzXYRnmDdR2LaSreEw</th>\n",
       "      <td>Власти Херсонской области пообещали сделать ру...</td>\n",
       "      <td>2022-05-24 00:50:55</td>\n",
       "      <td>QS5CqzXYRnmDdR2LaSreEw</td>\n",
       "      <td>[]</td>\n",
       "      <td>1.598</td>\n",
       "      <td>5409f11ce063da9c8b588a12</td>\n",
       "      <td>['5433603acbb20f6e5def0cc5', '5409f420e063daa0...</td>\n",
       "      <td>0</td>\n",
       "      <td>3427</td>\n",
       "      <td>739</td>\n",
       "      <td>0</td>\n",
       "      <td>4</td>\n",
       "      <td>24</td>\n",
       "      <td>5</td>\n",
       "      <td>22</td>\n",
       "    </tr>\n",
       "    <tr>\n",
       "      <th>627cb3249a7947ebdd752865XVsoyrUOT8OJJg2_finJhw</th>\n",
       "      <td>Премьер и президент Финляндии призвали срочно ...</td>\n",
       "      <td>2022-05-12 07:11:51</td>\n",
       "      <td>XVsoyrUOT8OJJg2_finJhw</td>\n",
       "      <td>[]</td>\n",
       "      <td>2.006</td>\n",
       "      <td>5409f11ce063da9c8b588a12</td>\n",
       "      <td>['5409f270e063daa0f408b0a7', '5409f196e063daa0...</td>\n",
       "      <td>0</td>\n",
       "      <td>4312</td>\n",
       "      <td>739</td>\n",
       "      <td>0</td>\n",
       "      <td>3</td>\n",
       "      <td>12</td>\n",
       "      <td>5</td>\n",
       "      <td>22</td>\n",
       "    </tr>\n",
       "  </tbody>\n",
       "</table>\n",
       "</div>"
      ],
      "text/plain": [
       "                                                                                            title  \\\n",
       "document_id                                                                                         \n",
       "61f9569a9a794794245a82abJ0AvX96vTAaQCiWVbzoMdw  «Крайне провокационная тема»: как Россия и США...   \n",
       "628c22b89a79470e553f594bQS5CqzXYRnmDdR2LaSreEw  Власти Херсонской области пообещали сделать ру...   \n",
       "627cb3249a7947ebdd752865XVsoyrUOT8OJJg2_finJhw  Премьер и президент Финляндии призвали срочно ...   \n",
       "\n",
       "                                                       publish_date  \\\n",
       "document_id                                                           \n",
       "61f9569a9a794794245a82abJ0AvX96vTAaQCiWVbzoMdw  2022-02-01 17:02:44   \n",
       "628c22b89a79470e553f594bQS5CqzXYRnmDdR2LaSreEw  2022-05-24 00:50:55   \n",
       "627cb3249a7947ebdd752865XVsoyrUOT8OJJg2_finJhw  2022-05-12 07:11:51   \n",
       "\n",
       "                                                               session  \\\n",
       "document_id                                                              \n",
       "61f9569a9a794794245a82abJ0AvX96vTAaQCiWVbzoMdw  J0AvX96vTAaQCiWVbzoMdw   \n",
       "628c22b89a79470e553f594bQS5CqzXYRnmDdR2LaSreEw  QS5CqzXYRnmDdR2LaSreEw   \n",
       "627cb3249a7947ebdd752865XVsoyrUOT8OJJg2_finJhw  XVsoyrUOT8OJJg2_finJhw   \n",
       "\n",
       "                                               authors    ctr  \\\n",
       "document_id                                                     \n",
       "61f9569a9a794794245a82abJ0AvX96vTAaQCiWVbzoMdw      []  0.000   \n",
       "628c22b89a79470e553f594bQS5CqzXYRnmDdR2LaSreEw      []  1.598   \n",
       "627cb3249a7947ebdd752865XVsoyrUOT8OJJg2_finJhw      []  2.006   \n",
       "\n",
       "                                                                category  \\\n",
       "document_id                                                                \n",
       "61f9569a9a794794245a82abJ0AvX96vTAaQCiWVbzoMdw  5409f11ce063da9c8b588a12   \n",
       "628c22b89a79470e553f594bQS5CqzXYRnmDdR2LaSreEw  5409f11ce063da9c8b588a12   \n",
       "627cb3249a7947ebdd752865XVsoyrUOT8OJJg2_finJhw  5409f11ce063da9c8b588a12   \n",
       "\n",
       "                                                                                             tags  \\\n",
       "document_id                                                                                         \n",
       "61f9569a9a794794245a82abJ0AvX96vTAaQCiWVbzoMdw  ['58ca77679a794700b1e37f0a', '5409f1b7e063daa0...   \n",
       "628c22b89a79470e553f594bQS5CqzXYRnmDdR2LaSreEw  ['5433603acbb20f6e5def0cc5', '5409f420e063daa0...   \n",
       "627cb3249a7947ebdd752865XVsoyrUOT8OJJg2_finJhw  ['5409f270e063daa0f408b0a7', '5409f196e063daa0...   \n",
       "\n",
       "                                                category_code  session_code  \\\n",
       "document_id                                                                   \n",
       "61f9569a9a794794245a82abJ0AvX96vTAaQCiWVbzoMdw              0          2510   \n",
       "628c22b89a79470e553f594bQS5CqzXYRnmDdR2LaSreEw              0          3427   \n",
       "627cb3249a7947ebdd752865XVsoyrUOT8OJJg2_finJhw              0          4312   \n",
       "\n",
       "                                                authors_code  n_authors  \\\n",
       "document_id                                                               \n",
       "61f9569a9a794794245a82abJ0AvX96vTAaQCiWVbzoMdw           739          0   \n",
       "628c22b89a79470e553f594bQS5CqzXYRnmDdR2LaSreEw           739          0   \n",
       "627cb3249a7947ebdd752865XVsoyrUOT8OJJg2_finJhw           739          0   \n",
       "\n",
       "                                                n_tags  day  mounth  year  \n",
       "document_id                                                                \n",
       "61f9569a9a794794245a82abJ0AvX96vTAaQCiWVbzoMdw       5    1       2    22  \n",
       "628c22b89a79470e553f594bQS5CqzXYRnmDdR2LaSreEw       4   24       5    22  \n",
       "627cb3249a7947ebdd752865XVsoyrUOT8OJJg2_finJhw       3   12       5    22  "
      ]
     },
     "execution_count": 135,
     "metadata": {},
     "output_type": "execute_result"
    }
   ],
   "source": [
    "df_test.head(3)"
   ]
  },
  {
   "cell_type": "code",
   "execution_count": 177,
   "metadata": {},
   "outputs": [
    {
     "data": {
      "text/plain": [
       "1     3457\n",
       "0     2900\n",
       "2      547\n",
       "3       65\n",
       "14      13\n",
       "4       10\n",
       "5        8\n",
       "Name: n_authors, dtype: int64"
      ]
     },
     "execution_count": 177,
     "metadata": {},
     "output_type": "execute_result"
    }
   ],
   "source": [
    "df_train.n_authors.value_counts()"
   ]
  },
  {
   "cell_type": "markdown",
   "metadata": {
    "id": "qwtIb2FZ15TH"
   },
   "source": [
    "## Выделим выборки"
   ]
  },
  {
   "cell_type": "markdown",
   "metadata": {},
   "source": [
    "#### Код сессии - ?"
   ]
  },
  {
   "cell_type": "code",
   "execution_count": 136,
   "metadata": {
    "id": "juqrwMlFj6GS"
   },
   "outputs": [],
   "source": [
    "y = df_train[[\"views\",\"depth\",\"full_reads_percent\"]]\n",
    "\n",
    "\n",
    "X = df_train.drop([\"views\",\"depth\",\"full_reads_percent\", \n",
    "                   \"title\",\"publish_date\", \"session\", \"tags\",\n",
    "                   \"authors\", \"category\"], axis = 1)\n",
    "test_df = df_test.drop([\"title\", \"publish_date\", \"session\", \"tags\", \"authors\", \"category\"], axis = 1)"
   ]
  },
  {
   "cell_type": "code",
   "execution_count": 137,
   "metadata": {
    "colab": {
     "base_uri": "https://localhost:8080/",
     "height": 237
    },
    "id": "H_5wgOc_2NOe",
    "outputId": "de454dda-bbee-4a0d-912d-44fd56d21cae"
   },
   "outputs": [
    {
     "data": {
      "text/html": [
       "<div>\n",
       "<style scoped>\n",
       "    .dataframe tbody tr th:only-of-type {\n",
       "        vertical-align: middle;\n",
       "    }\n",
       "\n",
       "    .dataframe tbody tr th {\n",
       "        vertical-align: top;\n",
       "    }\n",
       "\n",
       "    .dataframe thead th {\n",
       "        text-align: right;\n",
       "    }\n",
       "</style>\n",
       "<table border=\"1\" class=\"dataframe\">\n",
       "  <thead>\n",
       "    <tr style=\"text-align: right;\">\n",
       "      <th></th>\n",
       "      <th>ctr</th>\n",
       "      <th>category_code</th>\n",
       "      <th>session_code</th>\n",
       "      <th>authors_code</th>\n",
       "      <th>n_authors</th>\n",
       "      <th>n_tags</th>\n",
       "      <th>day</th>\n",
       "      <th>mounth</th>\n",
       "      <th>year</th>\n",
       "    </tr>\n",
       "    <tr>\n",
       "      <th>document_id</th>\n",
       "      <th></th>\n",
       "      <th></th>\n",
       "      <th></th>\n",
       "      <th></th>\n",
       "      <th></th>\n",
       "      <th></th>\n",
       "      <th></th>\n",
       "      <th></th>\n",
       "      <th></th>\n",
       "    </tr>\n",
       "  </thead>\n",
       "  <tbody>\n",
       "    <tr>\n",
       "      <th>624ac09c9a7947db3d80c98eIDE7mtH4RBqGn-8MXfGffQ</th>\n",
       "      <td>1.580</td>\n",
       "      <td>2</td>\n",
       "      <td>2405</td>\n",
       "      <td>739</td>\n",
       "      <td>0</td>\n",
       "      <td>4</td>\n",
       "      <td>4</td>\n",
       "      <td>4</td>\n",
       "      <td>22</td>\n",
       "    </tr>\n",
       "    <tr>\n",
       "      <th>620f6b899a7947701cf489e1KtVJsteHStO5oditt3Uvzw</th>\n",
       "      <td>1.853</td>\n",
       "      <td>0</td>\n",
       "      <td>2724</td>\n",
       "      <td>46</td>\n",
       "      <td>2</td>\n",
       "      <td>3</td>\n",
       "      <td>18</td>\n",
       "      <td>2</td>\n",
       "      <td>22</td>\n",
       "    </tr>\n",
       "    <tr>\n",
       "      <th>620730cf9a7947ab96a44e27hk7puWJwSziw0m3sfTkKWA</th>\n",
       "      <td>0.000</td>\n",
       "      <td>0</td>\n",
       "      <td>5741</td>\n",
       "      <td>739</td>\n",
       "      <td>0</td>\n",
       "      <td>3</td>\n",
       "      <td>12</td>\n",
       "      <td>2</td>\n",
       "      <td>22</td>\n",
       "    </tr>\n",
       "    <tr>\n",
       "      <th>6262a5889a79470b78c9ca307UKY2SSZTjCcjhwBzxw37w</th>\n",
       "      <td>0.000</td>\n",
       "      <td>0</td>\n",
       "      <td>1049</td>\n",
       "      <td>739</td>\n",
       "      <td>0</td>\n",
       "      <td>5</td>\n",
       "      <td>22</td>\n",
       "      <td>4</td>\n",
       "      <td>22</td>\n",
       "    </tr>\n",
       "    <tr>\n",
       "      <th>626678929a79477ca0101568wuMYES90REuV5YhrN75IXg</th>\n",
       "      <td>0.000</td>\n",
       "      <td>5</td>\n",
       "      <td>7665</td>\n",
       "      <td>739</td>\n",
       "      <td>0</td>\n",
       "      <td>6</td>\n",
       "      <td>25</td>\n",
       "      <td>4</td>\n",
       "      <td>22</td>\n",
       "    </tr>\n",
       "  </tbody>\n",
       "</table>\n",
       "</div>"
      ],
      "text/plain": [
       "                                                  ctr  category_code  \\\n",
       "document_id                                                            \n",
       "624ac09c9a7947db3d80c98eIDE7mtH4RBqGn-8MXfGffQ  1.580              2   \n",
       "620f6b899a7947701cf489e1KtVJsteHStO5oditt3Uvzw  1.853              0   \n",
       "620730cf9a7947ab96a44e27hk7puWJwSziw0m3sfTkKWA  0.000              0   \n",
       "6262a5889a79470b78c9ca307UKY2SSZTjCcjhwBzxw37w  0.000              0   \n",
       "626678929a79477ca0101568wuMYES90REuV5YhrN75IXg  0.000              5   \n",
       "\n",
       "                                                session_code  authors_code  \\\n",
       "document_id                                                                  \n",
       "624ac09c9a7947db3d80c98eIDE7mtH4RBqGn-8MXfGffQ          2405           739   \n",
       "620f6b899a7947701cf489e1KtVJsteHStO5oditt3Uvzw          2724            46   \n",
       "620730cf9a7947ab96a44e27hk7puWJwSziw0m3sfTkKWA          5741           739   \n",
       "6262a5889a79470b78c9ca307UKY2SSZTjCcjhwBzxw37w          1049           739   \n",
       "626678929a79477ca0101568wuMYES90REuV5YhrN75IXg          7665           739   \n",
       "\n",
       "                                                n_authors  n_tags  day  \\\n",
       "document_id                                                              \n",
       "624ac09c9a7947db3d80c98eIDE7mtH4RBqGn-8MXfGffQ          0       4    4   \n",
       "620f6b899a7947701cf489e1KtVJsteHStO5oditt3Uvzw          2       3   18   \n",
       "620730cf9a7947ab96a44e27hk7puWJwSziw0m3sfTkKWA          0       3   12   \n",
       "6262a5889a79470b78c9ca307UKY2SSZTjCcjhwBzxw37w          0       5   22   \n",
       "626678929a79477ca0101568wuMYES90REuV5YhrN75IXg          0       6   25   \n",
       "\n",
       "                                                mounth  year  \n",
       "document_id                                                   \n",
       "624ac09c9a7947db3d80c98eIDE7mtH4RBqGn-8MXfGffQ       4    22  \n",
       "620f6b899a7947701cf489e1KtVJsteHStO5oditt3Uvzw       2    22  \n",
       "620730cf9a7947ab96a44e27hk7puWJwSziw0m3sfTkKWA       2    22  \n",
       "6262a5889a79470b78c9ca307UKY2SSZTjCcjhwBzxw37w       4    22  \n",
       "626678929a79477ca0101568wuMYES90REuV5YhrN75IXg       4    22  "
      ]
     },
     "execution_count": 137,
     "metadata": {},
     "output_type": "execute_result"
    }
   ],
   "source": [
    "X.head()"
   ]
  },
  {
   "cell_type": "code",
   "execution_count": 138,
   "metadata": {},
   "outputs": [
    {
     "data": {
      "text/html": [
       "<div>\n",
       "<style scoped>\n",
       "    .dataframe tbody tr th:only-of-type {\n",
       "        vertical-align: middle;\n",
       "    }\n",
       "\n",
       "    .dataframe tbody tr th {\n",
       "        vertical-align: top;\n",
       "    }\n",
       "\n",
       "    .dataframe thead th {\n",
       "        text-align: right;\n",
       "    }\n",
       "</style>\n",
       "<table border=\"1\" class=\"dataframe\">\n",
       "  <thead>\n",
       "    <tr style=\"text-align: right;\">\n",
       "      <th></th>\n",
       "      <th>ctr</th>\n",
       "      <th>category_code</th>\n",
       "      <th>session_code</th>\n",
       "      <th>authors_code</th>\n",
       "      <th>n_authors</th>\n",
       "      <th>n_tags</th>\n",
       "      <th>day</th>\n",
       "      <th>mounth</th>\n",
       "      <th>year</th>\n",
       "    </tr>\n",
       "    <tr>\n",
       "      <th>document_id</th>\n",
       "      <th></th>\n",
       "      <th></th>\n",
       "      <th></th>\n",
       "      <th></th>\n",
       "      <th></th>\n",
       "      <th></th>\n",
       "      <th></th>\n",
       "      <th></th>\n",
       "      <th></th>\n",
       "    </tr>\n",
       "  </thead>\n",
       "  <tbody>\n",
       "    <tr>\n",
       "      <th>61f9569a9a794794245a82abJ0AvX96vTAaQCiWVbzoMdw</th>\n",
       "      <td>0.000</td>\n",
       "      <td>0</td>\n",
       "      <td>2510</td>\n",
       "      <td>739</td>\n",
       "      <td>0</td>\n",
       "      <td>5</td>\n",
       "      <td>1</td>\n",
       "      <td>2</td>\n",
       "      <td>22</td>\n",
       "    </tr>\n",
       "    <tr>\n",
       "      <th>628c22b89a79470e553f594bQS5CqzXYRnmDdR2LaSreEw</th>\n",
       "      <td>1.598</td>\n",
       "      <td>0</td>\n",
       "      <td>3427</td>\n",
       "      <td>739</td>\n",
       "      <td>0</td>\n",
       "      <td>4</td>\n",
       "      <td>24</td>\n",
       "      <td>5</td>\n",
       "      <td>22</td>\n",
       "    </tr>\n",
       "    <tr>\n",
       "      <th>627cb3249a7947ebdd752865XVsoyrUOT8OJJg2_finJhw</th>\n",
       "      <td>2.006</td>\n",
       "      <td>0</td>\n",
       "      <td>4312</td>\n",
       "      <td>739</td>\n",
       "      <td>0</td>\n",
       "      <td>3</td>\n",
       "      <td>12</td>\n",
       "      <td>5</td>\n",
       "      <td>22</td>\n",
       "    </tr>\n",
       "    <tr>\n",
       "      <th>628618629a7947d4927eb812upfii3whSSuMXCqcqF8VbQ</th>\n",
       "      <td>0.000</td>\n",
       "      <td>0</td>\n",
       "      <td>7405</td>\n",
       "      <td>739</td>\n",
       "      <td>0</td>\n",
       "      <td>4</td>\n",
       "      <td>19</td>\n",
       "      <td>5</td>\n",
       "      <td>22</td>\n",
       "    </tr>\n",
       "    <tr>\n",
       "      <th>620e76109a7947235623695b5hzCiIHdSYKQIr8WAM18bw</th>\n",
       "      <td>9.136</td>\n",
       "      <td>0</td>\n",
       "      <td>852</td>\n",
       "      <td>494</td>\n",
       "      <td>1</td>\n",
       "      <td>3</td>\n",
       "      <td>17</td>\n",
       "      <td>2</td>\n",
       "      <td>22</td>\n",
       "    </tr>\n",
       "  </tbody>\n",
       "</table>\n",
       "</div>"
      ],
      "text/plain": [
       "                                                  ctr  category_code  \\\n",
       "document_id                                                            \n",
       "61f9569a9a794794245a82abJ0AvX96vTAaQCiWVbzoMdw  0.000              0   \n",
       "628c22b89a79470e553f594bQS5CqzXYRnmDdR2LaSreEw  1.598              0   \n",
       "627cb3249a7947ebdd752865XVsoyrUOT8OJJg2_finJhw  2.006              0   \n",
       "628618629a7947d4927eb812upfii3whSSuMXCqcqF8VbQ  0.000              0   \n",
       "620e76109a7947235623695b5hzCiIHdSYKQIr8WAM18bw  9.136              0   \n",
       "\n",
       "                                                session_code  authors_code  \\\n",
       "document_id                                                                  \n",
       "61f9569a9a794794245a82abJ0AvX96vTAaQCiWVbzoMdw          2510           739   \n",
       "628c22b89a79470e553f594bQS5CqzXYRnmDdR2LaSreEw          3427           739   \n",
       "627cb3249a7947ebdd752865XVsoyrUOT8OJJg2_finJhw          4312           739   \n",
       "628618629a7947d4927eb812upfii3whSSuMXCqcqF8VbQ          7405           739   \n",
       "620e76109a7947235623695b5hzCiIHdSYKQIr8WAM18bw           852           494   \n",
       "\n",
       "                                                n_authors  n_tags  day  \\\n",
       "document_id                                                              \n",
       "61f9569a9a794794245a82abJ0AvX96vTAaQCiWVbzoMdw          0       5    1   \n",
       "628c22b89a79470e553f594bQS5CqzXYRnmDdR2LaSreEw          0       4   24   \n",
       "627cb3249a7947ebdd752865XVsoyrUOT8OJJg2_finJhw          0       3   12   \n",
       "628618629a7947d4927eb812upfii3whSSuMXCqcqF8VbQ          0       4   19   \n",
       "620e76109a7947235623695b5hzCiIHdSYKQIr8WAM18bw          1       3   17   \n",
       "\n",
       "                                                mounth  year  \n",
       "document_id                                                   \n",
       "61f9569a9a794794245a82abJ0AvX96vTAaQCiWVbzoMdw       2    22  \n",
       "628c22b89a79470e553f594bQS5CqzXYRnmDdR2LaSreEw       5    22  \n",
       "627cb3249a7947ebdd752865XVsoyrUOT8OJJg2_finJhw       5    22  \n",
       "628618629a7947d4927eb812upfii3whSSuMXCqcqF8VbQ       5    22  \n",
       "620e76109a7947235623695b5hzCiIHdSYKQIr8WAM18bw       2    22  "
      ]
     },
     "execution_count": 138,
     "metadata": {},
     "output_type": "execute_result"
    }
   ],
   "source": [
    "test_df.head()"
   ]
  },
  {
   "cell_type": "code",
   "execution_count": 139,
   "metadata": {
    "id": "HZC1QLKs2Gjb"
   },
   "outputs": [],
   "source": [
    "X_train, X_test, y_train, y_test = train_test_split(X, y, test_size=0.3, random_state=42)"
   ]
  },
  {
   "cell_type": "markdown",
   "metadata": {
    "id": "aatiawbb2woH"
   },
   "source": [
    "## Подбор модели"
   ]
  },
  {
   "cell_type": "code",
   "execution_count": 140,
   "metadata": {
    "id": "pZJ3HmJJ2GlS"
   },
   "outputs": [
    {
     "name": "stdout",
     "output_type": "stream",
     "text": [
      "Wall time: 1.01 ms\n"
     ]
    }
   ],
   "source": [
    "%%time\n",
    "#regr = RandomForestRegressor(random_state=0)\n",
    "model_views = xg.XGBRegressor()\n",
    "model_depth = xg.XGBRegressor()\n",
    "model_full_reads_percent = xg.XGBRegressor()"
   ]
  },
  {
   "cell_type": "markdown",
   "metadata": {
    "id": "UjwuR7jL4PhZ"
   },
   "source": [
    "Обучим модели"
   ]
  },
  {
   "cell_type": "code",
   "execution_count": 141,
   "metadata": {
    "colab": {
     "base_uri": "https://localhost:8080/"
    },
    "id": "rb7oNSzT3Nrd",
    "outputId": "8016cacc-0a1c-49d0-d4f4-8c0b9cda3374",
    "scrolled": false
   },
   "outputs": [
    {
     "name": "stdout",
     "output_type": "stream",
     "text": [
      "Wall time: 1.18 s\n"
     ]
    },
    {
     "data": {
      "text/plain": [
       "XGBRegressor(base_score=0.5, booster='gbtree', colsample_bylevel=1,\n",
       "             colsample_bynode=1, colsample_bytree=1, enable_categorical=False,\n",
       "             gamma=0, gpu_id=-1, importance_type=None,\n",
       "             interaction_constraints='', learning_rate=0.300000012,\n",
       "             max_delta_step=0, max_depth=6, min_child_weight=1, missing=nan,\n",
       "             monotone_constraints='()', n_estimators=100, n_jobs=8,\n",
       "             num_parallel_tree=1, objective='reg:squarederror',\n",
       "             predictor='auto', random_state=0, reg_alpha=0, reg_lambda=1,\n",
       "             scale_pos_weight=1, subsample=1, tree_method='exact',\n",
       "             validate_parameters=1, verbosity=None)"
      ]
     },
     "execution_count": 141,
     "metadata": {},
     "output_type": "execute_result"
    }
   ],
   "source": [
    "%%time\n",
    "model_views.fit(X_train, y_train['views'])\n",
    "model_depth.fit(X_train, y_train['depth'])\n",
    "model_full_reads_percent.fit(X_train, y_train['full_reads_percent'])"
   ]
  },
  {
   "cell_type": "code",
   "execution_count": 142,
   "metadata": {},
   "outputs": [
    {
     "data": {
      "text/plain": [
       "Index(['ctr', 'category_code', 'session_code', 'authors_code', 'n_authors',\n",
       "       'n_tags', 'day', 'mounth', 'year'],\n",
       "      dtype='object')"
      ]
     },
     "execution_count": 142,
     "metadata": {},
     "output_type": "execute_result"
    }
   ],
   "source": [
    "X_train.columns"
   ]
  },
  {
   "cell_type": "code",
   "execution_count": 143,
   "metadata": {},
   "outputs": [
    {
     "name": "stdout",
     "output_type": "stream",
     "text": [
      "ctr  :  0.3129409\n",
      "category_code  :  0.021954479\n",
      "session_code  :  0.04105967\n",
      "authors_code  :  0.12347884\n",
      "n_authors  :  0.1555383\n",
      "n_tags  :  0.09105722\n",
      "day  :  0.045967158\n",
      "mounth  :  0.20587336\n",
      "year  :  0.0021301094\n",
      "\n",
      "ctr  :  0.037546743\n",
      "category_code  :  0.012065717\n",
      "session_code  :  0.014281995\n",
      "authors_code  :  0.019523881\n",
      "n_authors  :  0.23899378\n",
      "n_tags  :  0.02290242\n",
      "day  :  0.06551053\n",
      "mounth  :  0.5830466\n",
      "year  :  0.0061284187\n",
      "\n",
      "ctr  :  0.13743685\n",
      "category_code  :  0.09633574\n",
      "session_code  :  0.074334964\n",
      "authors_code  :  0.2037579\n",
      "n_authors  :  0.091038495\n",
      "n_tags  :  0.1557441\n",
      "day  :  0.08187926\n",
      "mounth  :  0.11059478\n",
      "year  :  0.048877906\n",
      "\n"
     ]
    }
   ],
   "source": [
    "for model in [model_views, model_depth, model_full_reads_percent]:\n",
    "    for i in range(len(X_train.columns)):\n",
    "        print(X_train.columns[i], ' : ', model.feature_importances_[i])\n",
    "    print()"
   ]
  },
  {
   "cell_type": "markdown",
   "metadata": {},
   "source": [
    "year - нафиг\n"
   ]
  },
  {
   "cell_type": "markdown",
   "metadata": {
    "id": "gzQh5CPA4TF1"
   },
   "source": [
    "Предскажем значения"
   ]
  },
  {
   "cell_type": "code",
   "execution_count": 144,
   "metadata": {
    "id": "xwqb5Ed02GnX"
   },
   "outputs": [],
   "source": [
    "pred_views = model_views.predict(X_test)\n",
    "pred_depth = model_depth.predict(X_test)\n",
    "pred_full_reads_percent = model_full_reads_percent.predict(X_test)"
   ]
  },
  {
   "cell_type": "markdown",
   "metadata": {
    "id": "V2lh7BHR3iha"
   },
   "source": [
    "## Оценка точности"
   ]
  },
  {
   "cell_type": "code",
   "execution_count": 145,
   "metadata": {
    "id": "DBBI6BO73fWh"
   },
   "outputs": [
    {
     "name": "stdout",
     "output_type": "stream",
     "text": [
      "score_views =  0.5859565955710757\n",
      "score_depth =  0.7572098890615138\n",
      "score_frp =  0.2734344431352733\n"
     ]
    }
   ],
   "source": [
    "#score_views = r2_score(y_test[\"views\"], pred[:,0])\n",
    "#score_depth = r2_score(y_test[\"depth\"], pred[:,1])\n",
    "#score_frp = r2_score(y_test[\"full_reads_percent\"], pred[:,2])\n",
    "score_views = r2_score(y_test[\"views\"], pred_views)\n",
    "print('score_views = ', score_views)\n",
    "score_depth = r2_score(y_test[\"depth\"], pred_depth)\n",
    "print('score_depth = ', score_depth)\n",
    "score_frp = r2_score(y_test[\"full_reads_percent\"], pred_full_reads_percent)\n",
    "print('score_frp = ', score_frp)"
   ]
  },
  {
   "cell_type": "code",
   "execution_count": 146,
   "metadata": {
    "colab": {
     "base_uri": "https://localhost:8080/"
    },
    "id": "pSyWi8zk4Ge-",
    "outputId": "fa0aa484-0997-4aea-bfa3-33c61c52c4f0"
   },
   "outputs": [
    {
     "name": "stdout",
     "output_type": "stream",
     "text": [
      "0.5435759378874665\n"
     ]
    }
   ],
   "source": [
    "score = 0.4 * score_views + 0.3 * score_depth + 0.3 * score_frp\n",
    "\n",
    "print(score)"
   ]
  },
  {
   "cell_type": "markdown",
   "metadata": {},
   "source": [
    "### Исследуем модель для views"
   ]
  },
  {
   "cell_type": "code",
   "execution_count": 147,
   "metadata": {
    "scrolled": true
   },
   "outputs": [
    {
     "name": "stdout",
     "output_type": "stream",
     "text": [
      "Используя все фичи:  0.4994086596049425\n",
      "Без  category_code : 0.49595772685940903\n",
      "Без  year : 0.49666517466100546\n",
      "Без  day : 0.414306881850883\n",
      "Без  n_tags : 0.600797813944905\n",
      "Без  session_code : 0.4937568889859902\n",
      "Wall time: 15.1 s\n"
     ]
    }
   ],
   "source": [
    "%%time\n",
    "model_1 = xg.XGBRegressor()\n",
    "scores_v = cross_validate(model_1, X, y['views'], cv=5, scoring='r2')\n",
    "print('Используя все фичи: ', scores_v['test_score'].mean())\n",
    "\n",
    "for fiature in ['category_code', 'year', 'day', 'n_tags', 'session_code']:\n",
    "    model_1 = xg.XGBRegressor()\n",
    "    scores_v = cross_validate(model_1, \n",
    "                              X.drop(fiature, axis = 1),\n",
    "                              y['views'], cv=5, scoring='r2')\n",
    "    print('Без ',fiature,':', scores_v['test_score'].mean())"
   ]
  },
  {
   "cell_type": "markdown",
   "metadata": {},
   "source": [
    "Вывод - можно попробовать убрать n_tags"
   ]
  },
  {
   "cell_type": "code",
   "execution_count": 148,
   "metadata": {},
   "outputs": [],
   "source": [
    "X_local = X.drop(['n_tags'],axis = 1)"
   ]
  },
  {
   "cell_type": "code",
   "execution_count": 149,
   "metadata": {},
   "outputs": [
    {
     "name": "stdout",
     "output_type": "stream",
     "text": [
      "Используя все фичи (без n_tags):  0.600797813944905\n",
      "Без  category_code : 0.6013165969631211\n",
      "Без  year : 0.6072801893772356\n",
      "Без  day : 0.49151522179096707\n",
      "Без  session_code : 0.6080099763707765\n",
      "Wall time: 11.9 s\n"
     ]
    }
   ],
   "source": [
    "%%time\n",
    "model_1 = xg.XGBRegressor()\n",
    "scores_v = cross_validate(model_1, X_local, y['views'], cv=5, scoring='r2')\n",
    "print('Используя все фичи (без n_tags): ', scores_v['test_score'].mean())\n",
    "\n",
    "for fiature in ['category_code', 'year', 'day', 'session_code']:\n",
    "    model_1 = xg.XGBRegressor()\n",
    "    scores_v = cross_validate(model_1, \n",
    "                              X_local.drop(fiature, axis = 1),\n",
    "                              y['views'], cv=5, scoring='r2')\n",
    "    print('Без ',fiature,':', scores_v['test_score'].mean())"
   ]
  },
  {
   "cell_type": "markdown",
   "metadata": {},
   "source": [
    "Вывод: Оставляем как есть"
   ]
  },
  {
   "cell_type": "markdown",
   "metadata": {},
   "source": [
    "### Исследуем модель для depth"
   ]
  },
  {
   "cell_type": "code",
   "execution_count": 151,
   "metadata": {},
   "outputs": [
    {
     "name": "stdout",
     "output_type": "stream",
     "text": [
      "Используя все фичи:  0.7446408562221991\n",
      "Без  ctr : 0.6674495811502488\n",
      "Без  category_code : 0.7399560876455669\n",
      "Без  authors_code : 0.7450997014173566\n",
      "Без  session_code : 0.7598758977060135\n",
      "Без  n_tags : 0.7472426476689918\n",
      "Без  day : 0.5645818425099799\n",
      "Без  year : 0.7409824837124159\n",
      "Wall time: 19.7 s\n"
     ]
    }
   ],
   "source": [
    "%%time\n",
    "model_1 = xg.XGBRegressor()\n",
    "scores_v = cross_validate(model_1, X, y['depth'], cv=5, scoring='r2')\n",
    "print('Используя все фичи: ', scores_v['test_score'].mean())\n",
    "\n",
    "for fiature in ['ctr', 'category_code', 'authors_code','session_code', 'n_tags', 'day', 'year']:\n",
    "    model_1 = xg.XGBRegressor()\n",
    "    scores_v = cross_validate(model_1, \n",
    "                              X.drop(fiature, axis = 1),\n",
    "                              y['depth'], cv=5, scoring='r2')\n",
    "    print('Без ',fiature,':', scores_v['test_score'].mean())"
   ]
  },
  {
   "cell_type": "markdown",
   "metadata": {},
   "source": [
    "Вывод - Можно попробоавть без session_code"
   ]
  },
  {
   "cell_type": "code",
   "execution_count": 152,
   "metadata": {},
   "outputs": [],
   "source": [
    "X_local = X.drop(['session_code'],axis = 1)"
   ]
  },
  {
   "cell_type": "code",
   "execution_count": 154,
   "metadata": {},
   "outputs": [
    {
     "name": "stdout",
     "output_type": "stream",
     "text": [
      "Используя все фичи (без n_tags):  0.7598758977060135\n",
      "Без  ctr : 0.6662839368887956\n",
      "Без  category_code : 0.7502730828427224\n",
      "Без  authors_code : 0.7562386411062835\n",
      "Без  n_tags : 0.7604317411242724\n",
      "Без  day : 0.5559119417771552\n",
      "Без  year : 0.75562371263018\n",
      "Wall time: 13.3 s\n"
     ]
    }
   ],
   "source": [
    "%%time\n",
    "model_1 = xg.XGBRegressor()\n",
    "scores_v = cross_validate(model_1, X_local, y['depth'], cv=5, scoring='r2')\n",
    "print('Используя все фичи (без n_tags): ', scores_v['test_score'].mean())\n",
    "\n",
    "for fiature in ['ctr', 'category_code', 'authors_code', 'n_tags', 'day', 'year']:\n",
    "    model_1 = xg.XGBRegressor()\n",
    "    scores_v = cross_validate(model_1, \n",
    "                              X_local.drop(fiature, axis = 1),\n",
    "                              y['depth'], cv=5, scoring='r2')\n",
    "    print('Без ',fiature,':', scores_v['test_score'].mean())"
   ]
  },
  {
   "cell_type": "markdown",
   "metadata": {},
   "source": [
    "Оставляем как есть"
   ]
  },
  {
   "cell_type": "markdown",
   "metadata": {},
   "source": [
    "### Исследуем модель для full_reads_percent"
   ]
  },
  {
   "cell_type": "code",
   "execution_count": 155,
   "metadata": {},
   "outputs": [
    {
     "name": "stdout",
     "output_type": "stream",
     "text": [
      "Используя все фичи:  0.2839795983016149\n",
      "Без  n_authors : 0.270021519212669\n",
      "Без  year : 0.2799510756570229\n",
      "Без  day : 0.27346359169074785\n",
      "Без  authors_code : 0.22156885990451344\n",
      "Без  session_code : 0.29297282678640857\n",
      "Wall time: 14.7 s\n"
     ]
    }
   ],
   "source": [
    "%%time\n",
    "model_1 = xg.XGBRegressor()\n",
    "scores_v = cross_validate(model_1, X, y['full_reads_percent'], cv=5, scoring='r2')\n",
    "print('Используя все фичи: ', scores_v['test_score'].mean())\n",
    "\n",
    "for fiature in ['n_authors', 'year', 'day', 'authors_code', 'session_code']:\n",
    "    model_1 = xg.XGBRegressor()\n",
    "    scores_v = cross_validate(model_1, \n",
    "                              X.drop(fiature, axis = 1),\n",
    "                              y['full_reads_percent'], cv=5, scoring='r2')\n",
    "    print('Без ',fiature,':', scores_v['test_score'].mean())"
   ]
  },
  {
   "cell_type": "markdown",
   "metadata": {},
   "source": [
    "Вывод - Можно попробовать убрать Session_code"
   ]
  },
  {
   "cell_type": "code",
   "execution_count": 156,
   "metadata": {},
   "outputs": [],
   "source": [
    "X_local = X.drop(['session_code'],axis = 1)"
   ]
  },
  {
   "cell_type": "code",
   "execution_count": 157,
   "metadata": {},
   "outputs": [
    {
     "name": "stdout",
     "output_type": "stream",
     "text": [
      "Используя все фичи (без n_tags):  0.29297282678640857\n",
      "Без  n_authors : 0.2866297819020302\n",
      "Без  year : 0.29167972693280636\n",
      "Без  day : 0.28331400121488953\n",
      "Без  authors_code : 0.23355125426520792\n",
      "Wall time: 9.73 s\n"
     ]
    }
   ],
   "source": [
    "%%time\n",
    "model_1 = xg.XGBRegressor()\n",
    "scores_v = cross_validate(model_1, X_local, y['full_reads_percent'], cv=5, scoring='r2')\n",
    "print('Используя все фичи (без n_tags): ', scores_v['test_score'].mean())\n",
    "\n",
    "for fiature in ['n_authors', 'year', 'day', 'authors_code']:\n",
    "    model_1 = xg.XGBRegressor()\n",
    "    scores_v = cross_validate(model_1, \n",
    "                              X_local.drop(fiature, axis = 1),\n",
    "                              y['full_reads_percent'], cv=5, scoring='r2')\n",
    "    print('Без ',fiature,':', scores_v['test_score'].mean())"
   ]
  },
  {
   "cell_type": "markdown",
   "metadata": {},
   "source": [
    "Вывод: Оставляем как есть"
   ]
  },
  {
   "cell_type": "markdown",
   "metadata": {},
   "source": [
    "### Итог: Для View - n_tags; Для двух других - Session_code"
   ]
  },
  {
   "cell_type": "markdown",
   "metadata": {},
   "source": [
    "#### Фигачим ответ"
   ]
  },
  {
   "cell_type": "code",
   "execution_count": 158,
   "metadata": {},
   "outputs": [
    {
     "data": {
      "text/html": [
       "<div>\n",
       "<style scoped>\n",
       "    .dataframe tbody tr th:only-of-type {\n",
       "        vertical-align: middle;\n",
       "    }\n",
       "\n",
       "    .dataframe tbody tr th {\n",
       "        vertical-align: top;\n",
       "    }\n",
       "\n",
       "    .dataframe thead th {\n",
       "        text-align: right;\n",
       "    }\n",
       "</style>\n",
       "<table border=\"1\" class=\"dataframe\">\n",
       "  <thead>\n",
       "    <tr style=\"text-align: right;\">\n",
       "      <th></th>\n",
       "      <th>ctr</th>\n",
       "      <th>category_code</th>\n",
       "      <th>session_code</th>\n",
       "      <th>authors_code</th>\n",
       "      <th>n_authors</th>\n",
       "      <th>n_tags</th>\n",
       "      <th>day</th>\n",
       "      <th>mounth</th>\n",
       "      <th>year</th>\n",
       "    </tr>\n",
       "    <tr>\n",
       "      <th>document_id</th>\n",
       "      <th></th>\n",
       "      <th></th>\n",
       "      <th></th>\n",
       "      <th></th>\n",
       "      <th></th>\n",
       "      <th></th>\n",
       "      <th></th>\n",
       "      <th></th>\n",
       "      <th></th>\n",
       "    </tr>\n",
       "  </thead>\n",
       "  <tbody>\n",
       "    <tr>\n",
       "      <th>624ac09c9a7947db3d80c98eIDE7mtH4RBqGn-8MXfGffQ</th>\n",
       "      <td>1.580</td>\n",
       "      <td>2</td>\n",
       "      <td>2405</td>\n",
       "      <td>739</td>\n",
       "      <td>0</td>\n",
       "      <td>4</td>\n",
       "      <td>4</td>\n",
       "      <td>4</td>\n",
       "      <td>22</td>\n",
       "    </tr>\n",
       "    <tr>\n",
       "      <th>620f6b899a7947701cf489e1KtVJsteHStO5oditt3Uvzw</th>\n",
       "      <td>1.853</td>\n",
       "      <td>0</td>\n",
       "      <td>2724</td>\n",
       "      <td>46</td>\n",
       "      <td>2</td>\n",
       "      <td>3</td>\n",
       "      <td>18</td>\n",
       "      <td>2</td>\n",
       "      <td>22</td>\n",
       "    </tr>\n",
       "    <tr>\n",
       "      <th>620730cf9a7947ab96a44e27hk7puWJwSziw0m3sfTkKWA</th>\n",
       "      <td>0.000</td>\n",
       "      <td>0</td>\n",
       "      <td>5741</td>\n",
       "      <td>739</td>\n",
       "      <td>0</td>\n",
       "      <td>3</td>\n",
       "      <td>12</td>\n",
       "      <td>2</td>\n",
       "      <td>22</td>\n",
       "    </tr>\n",
       "    <tr>\n",
       "      <th>6262a5889a79470b78c9ca307UKY2SSZTjCcjhwBzxw37w</th>\n",
       "      <td>0.000</td>\n",
       "      <td>0</td>\n",
       "      <td>1049</td>\n",
       "      <td>739</td>\n",
       "      <td>0</td>\n",
       "      <td>5</td>\n",
       "      <td>22</td>\n",
       "      <td>4</td>\n",
       "      <td>22</td>\n",
       "    </tr>\n",
       "    <tr>\n",
       "      <th>626678929a79477ca0101568wuMYES90REuV5YhrN75IXg</th>\n",
       "      <td>0.000</td>\n",
       "      <td>5</td>\n",
       "      <td>7665</td>\n",
       "      <td>739</td>\n",
       "      <td>0</td>\n",
       "      <td>6</td>\n",
       "      <td>25</td>\n",
       "      <td>4</td>\n",
       "      <td>22</td>\n",
       "    </tr>\n",
       "    <tr>\n",
       "      <th>...</th>\n",
       "      <td>...</td>\n",
       "      <td>...</td>\n",
       "      <td>...</td>\n",
       "      <td>...</td>\n",
       "      <td>...</td>\n",
       "      <td>...</td>\n",
       "      <td>...</td>\n",
       "      <td>...</td>\n",
       "      <td>...</td>\n",
       "    </tr>\n",
       "    <tr>\n",
       "      <th>61fd479c9a7947848183694751RC_1i5QlGuv7B2FzwTjw</th>\n",
       "      <td>2.354</td>\n",
       "      <td>5</td>\n",
       "      <td>763</td>\n",
       "      <td>173</td>\n",
       "      <td>1</td>\n",
       "      <td>8</td>\n",
       "      <td>4</td>\n",
       "      <td>2</td>\n",
       "      <td>22</td>\n",
       "    </tr>\n",
       "    <tr>\n",
       "      <th>628a8f1c9a79478c64a7dae450tIkSGVSf2O8XQgk_uaHQ</th>\n",
       "      <td>4.112</td>\n",
       "      <td>3</td>\n",
       "      <td>762</td>\n",
       "      <td>569</td>\n",
       "      <td>2</td>\n",
       "      <td>3</td>\n",
       "      <td>22</td>\n",
       "      <td>5</td>\n",
       "      <td>22</td>\n",
       "    </tr>\n",
       "    <tr>\n",
       "      <th>6244cf5e9a79479099346b26tKlqoxQYSmij0ZBrGzebug</th>\n",
       "      <td>5.125</td>\n",
       "      <td>5</td>\n",
       "      <td>7228</td>\n",
       "      <td>739</td>\n",
       "      <td>0</td>\n",
       "      <td>4</td>\n",
       "      <td>30</td>\n",
       "      <td>3</td>\n",
       "      <td>22</td>\n",
       "    </tr>\n",
       "    <tr>\n",
       "      <th>627303699a794749b8116abc12JX_3ZDTDu2XHF3k2eJVg</th>\n",
       "      <td>0.000</td>\n",
       "      <td>1</td>\n",
       "      <td>258</td>\n",
       "      <td>739</td>\n",
       "      <td>0</td>\n",
       "      <td>4</td>\n",
       "      <td>4</td>\n",
       "      <td>5</td>\n",
       "      <td>22</td>\n",
       "    </tr>\n",
       "    <tr>\n",
       "      <th>627f1c089a794743b070ff73hVvdVmFxS2SlZ2_lECDEow</th>\n",
       "      <td>2.937</td>\n",
       "      <td>0</td>\n",
       "      <td>5706</td>\n",
       "      <td>437</td>\n",
       "      <td>1</td>\n",
       "      <td>3</td>\n",
       "      <td>14</td>\n",
       "      <td>5</td>\n",
       "      <td>22</td>\n",
       "    </tr>\n",
       "  </tbody>\n",
       "</table>\n",
       "<p>7000 rows × 9 columns</p>\n",
       "</div>"
      ],
      "text/plain": [
       "                                                  ctr  category_code  \\\n",
       "document_id                                                            \n",
       "624ac09c9a7947db3d80c98eIDE7mtH4RBqGn-8MXfGffQ  1.580              2   \n",
       "620f6b899a7947701cf489e1KtVJsteHStO5oditt3Uvzw  1.853              0   \n",
       "620730cf9a7947ab96a44e27hk7puWJwSziw0m3sfTkKWA  0.000              0   \n",
       "6262a5889a79470b78c9ca307UKY2SSZTjCcjhwBzxw37w  0.000              0   \n",
       "626678929a79477ca0101568wuMYES90REuV5YhrN75IXg  0.000              5   \n",
       "...                                               ...            ...   \n",
       "61fd479c9a7947848183694751RC_1i5QlGuv7B2FzwTjw  2.354              5   \n",
       "628a8f1c9a79478c64a7dae450tIkSGVSf2O8XQgk_uaHQ  4.112              3   \n",
       "6244cf5e9a79479099346b26tKlqoxQYSmij0ZBrGzebug  5.125              5   \n",
       "627303699a794749b8116abc12JX_3ZDTDu2XHF3k2eJVg  0.000              1   \n",
       "627f1c089a794743b070ff73hVvdVmFxS2SlZ2_lECDEow  2.937              0   \n",
       "\n",
       "                                                session_code  authors_code  \\\n",
       "document_id                                                                  \n",
       "624ac09c9a7947db3d80c98eIDE7mtH4RBqGn-8MXfGffQ          2405           739   \n",
       "620f6b899a7947701cf489e1KtVJsteHStO5oditt3Uvzw          2724            46   \n",
       "620730cf9a7947ab96a44e27hk7puWJwSziw0m3sfTkKWA          5741           739   \n",
       "6262a5889a79470b78c9ca307UKY2SSZTjCcjhwBzxw37w          1049           739   \n",
       "626678929a79477ca0101568wuMYES90REuV5YhrN75IXg          7665           739   \n",
       "...                                                      ...           ...   \n",
       "61fd479c9a7947848183694751RC_1i5QlGuv7B2FzwTjw           763           173   \n",
       "628a8f1c9a79478c64a7dae450tIkSGVSf2O8XQgk_uaHQ           762           569   \n",
       "6244cf5e9a79479099346b26tKlqoxQYSmij0ZBrGzebug          7228           739   \n",
       "627303699a794749b8116abc12JX_3ZDTDu2XHF3k2eJVg           258           739   \n",
       "627f1c089a794743b070ff73hVvdVmFxS2SlZ2_lECDEow          5706           437   \n",
       "\n",
       "                                                n_authors  n_tags  day  \\\n",
       "document_id                                                              \n",
       "624ac09c9a7947db3d80c98eIDE7mtH4RBqGn-8MXfGffQ          0       4    4   \n",
       "620f6b899a7947701cf489e1KtVJsteHStO5oditt3Uvzw          2       3   18   \n",
       "620730cf9a7947ab96a44e27hk7puWJwSziw0m3sfTkKWA          0       3   12   \n",
       "6262a5889a79470b78c9ca307UKY2SSZTjCcjhwBzxw37w          0       5   22   \n",
       "626678929a79477ca0101568wuMYES90REuV5YhrN75IXg          0       6   25   \n",
       "...                                                   ...     ...  ...   \n",
       "61fd479c9a7947848183694751RC_1i5QlGuv7B2FzwTjw          1       8    4   \n",
       "628a8f1c9a79478c64a7dae450tIkSGVSf2O8XQgk_uaHQ          2       3   22   \n",
       "6244cf5e9a79479099346b26tKlqoxQYSmij0ZBrGzebug          0       4   30   \n",
       "627303699a794749b8116abc12JX_3ZDTDu2XHF3k2eJVg          0       4    4   \n",
       "627f1c089a794743b070ff73hVvdVmFxS2SlZ2_lECDEow          1       3   14   \n",
       "\n",
       "                                                mounth  year  \n",
       "document_id                                                   \n",
       "624ac09c9a7947db3d80c98eIDE7mtH4RBqGn-8MXfGffQ       4    22  \n",
       "620f6b899a7947701cf489e1KtVJsteHStO5oditt3Uvzw       2    22  \n",
       "620730cf9a7947ab96a44e27hk7puWJwSziw0m3sfTkKWA       2    22  \n",
       "6262a5889a79470b78c9ca307UKY2SSZTjCcjhwBzxw37w       4    22  \n",
       "626678929a79477ca0101568wuMYES90REuV5YhrN75IXg       4    22  \n",
       "...                                                ...   ...  \n",
       "61fd479c9a7947848183694751RC_1i5QlGuv7B2FzwTjw       2    22  \n",
       "628a8f1c9a79478c64a7dae450tIkSGVSf2O8XQgk_uaHQ       5    22  \n",
       "6244cf5e9a79479099346b26tKlqoxQYSmij0ZBrGzebug       3    22  \n",
       "627303699a794749b8116abc12JX_3ZDTDu2XHF3k2eJVg       5    22  \n",
       "627f1c089a794743b070ff73hVvdVmFxS2SlZ2_lECDEow       5    22  \n",
       "\n",
       "[7000 rows x 9 columns]"
      ]
     },
     "execution_count": 158,
     "metadata": {},
     "output_type": "execute_result"
    }
   ],
   "source": [
    "X"
   ]
  },
  {
   "cell_type": "code",
   "execution_count": 159,
   "metadata": {},
   "outputs": [
    {
     "data": {
      "text/html": [
       "<div>\n",
       "<style scoped>\n",
       "    .dataframe tbody tr th:only-of-type {\n",
       "        vertical-align: middle;\n",
       "    }\n",
       "\n",
       "    .dataframe tbody tr th {\n",
       "        vertical-align: top;\n",
       "    }\n",
       "\n",
       "    .dataframe thead th {\n",
       "        text-align: right;\n",
       "    }\n",
       "</style>\n",
       "<table border=\"1\" class=\"dataframe\">\n",
       "  <thead>\n",
       "    <tr style=\"text-align: right;\">\n",
       "      <th></th>\n",
       "      <th>ctr</th>\n",
       "      <th>category_code</th>\n",
       "      <th>session_code</th>\n",
       "      <th>authors_code</th>\n",
       "      <th>n_authors</th>\n",
       "      <th>n_tags</th>\n",
       "      <th>day</th>\n",
       "      <th>mounth</th>\n",
       "      <th>year</th>\n",
       "    </tr>\n",
       "    <tr>\n",
       "      <th>document_id</th>\n",
       "      <th></th>\n",
       "      <th></th>\n",
       "      <th></th>\n",
       "      <th></th>\n",
       "      <th></th>\n",
       "      <th></th>\n",
       "      <th></th>\n",
       "      <th></th>\n",
       "      <th></th>\n",
       "    </tr>\n",
       "  </thead>\n",
       "  <tbody>\n",
       "    <tr>\n",
       "      <th>61f9569a9a794794245a82abJ0AvX96vTAaQCiWVbzoMdw</th>\n",
       "      <td>0.000</td>\n",
       "      <td>0</td>\n",
       "      <td>2510</td>\n",
       "      <td>739</td>\n",
       "      <td>0</td>\n",
       "      <td>5</td>\n",
       "      <td>1</td>\n",
       "      <td>2</td>\n",
       "      <td>22</td>\n",
       "    </tr>\n",
       "    <tr>\n",
       "      <th>628c22b89a79470e553f594bQS5CqzXYRnmDdR2LaSreEw</th>\n",
       "      <td>1.598</td>\n",
       "      <td>0</td>\n",
       "      <td>3427</td>\n",
       "      <td>739</td>\n",
       "      <td>0</td>\n",
       "      <td>4</td>\n",
       "      <td>24</td>\n",
       "      <td>5</td>\n",
       "      <td>22</td>\n",
       "    </tr>\n",
       "    <tr>\n",
       "      <th>627cb3249a7947ebdd752865XVsoyrUOT8OJJg2_finJhw</th>\n",
       "      <td>2.006</td>\n",
       "      <td>0</td>\n",
       "      <td>4312</td>\n",
       "      <td>739</td>\n",
       "      <td>0</td>\n",
       "      <td>3</td>\n",
       "      <td>12</td>\n",
       "      <td>5</td>\n",
       "      <td>22</td>\n",
       "    </tr>\n",
       "    <tr>\n",
       "      <th>628618629a7947d4927eb812upfii3whSSuMXCqcqF8VbQ</th>\n",
       "      <td>0.000</td>\n",
       "      <td>0</td>\n",
       "      <td>7405</td>\n",
       "      <td>739</td>\n",
       "      <td>0</td>\n",
       "      <td>4</td>\n",
       "      <td>19</td>\n",
       "      <td>5</td>\n",
       "      <td>22</td>\n",
       "    </tr>\n",
       "    <tr>\n",
       "      <th>620e76109a7947235623695b5hzCiIHdSYKQIr8WAM18bw</th>\n",
       "      <td>9.136</td>\n",
       "      <td>0</td>\n",
       "      <td>852</td>\n",
       "      <td>494</td>\n",
       "      <td>1</td>\n",
       "      <td>3</td>\n",
       "      <td>17</td>\n",
       "      <td>2</td>\n",
       "      <td>22</td>\n",
       "    </tr>\n",
       "    <tr>\n",
       "      <th>...</th>\n",
       "      <td>...</td>\n",
       "      <td>...</td>\n",
       "      <td>...</td>\n",
       "      <td>...</td>\n",
       "      <td>...</td>\n",
       "      <td>...</td>\n",
       "      <td>...</td>\n",
       "      <td>...</td>\n",
       "      <td>...</td>\n",
       "    </tr>\n",
       "    <tr>\n",
       "      <th>623ba6bc9a79470214cb9418x4OZQ1IjTb27nPAgv5wAZg</th>\n",
       "      <td>1.788</td>\n",
       "      <td>4</td>\n",
       "      <td>7695</td>\n",
       "      <td>358</td>\n",
       "      <td>1</td>\n",
       "      <td>4</td>\n",
       "      <td>23</td>\n",
       "      <td>3</td>\n",
       "      <td>22</td>\n",
       "    </tr>\n",
       "    <tr>\n",
       "      <th>624fda1f9a79471a9bd102eetuRTrLPGSZyNbc9_YcBAeQ</th>\n",
       "      <td>4.427</td>\n",
       "      <td>3</td>\n",
       "      <td>7300</td>\n",
       "      <td>417</td>\n",
       "      <td>1</td>\n",
       "      <td>2</td>\n",
       "      <td>8</td>\n",
       "      <td>4</td>\n",
       "      <td>22</td>\n",
       "    </tr>\n",
       "    <tr>\n",
       "      <th>6257a6a99a79477eea75b86dtBr3UG9ORW-gOybkVKX6ww</th>\n",
       "      <td>0.000</td>\n",
       "      <td>1</td>\n",
       "      <td>7214</td>\n",
       "      <td>739</td>\n",
       "      <td>0</td>\n",
       "      <td>3</td>\n",
       "      <td>14</td>\n",
       "      <td>4</td>\n",
       "      <td>22</td>\n",
       "    </tr>\n",
       "    <tr>\n",
       "      <th>624866d59a7947421716ab46WsGDKyGjTJGRh14eR7UVvw</th>\n",
       "      <td>0.000</td>\n",
       "      <td>5</td>\n",
       "      <td>4238</td>\n",
       "      <td>739</td>\n",
       "      <td>0</td>\n",
       "      <td>3</td>\n",
       "      <td>2</td>\n",
       "      <td>4</td>\n",
       "      <td>22</td>\n",
       "    </tr>\n",
       "    <tr>\n",
       "      <th>6236f9129a79477b0ef18ae0ewByZQ1FQBK2dpXyY77rYw</th>\n",
       "      <td>0.000</td>\n",
       "      <td>0</td>\n",
       "      <td>5356</td>\n",
       "      <td>739</td>\n",
       "      <td>0</td>\n",
       "      <td>3</td>\n",
       "      <td>20</td>\n",
       "      <td>3</td>\n",
       "      <td>22</td>\n",
       "    </tr>\n",
       "  </tbody>\n",
       "</table>\n",
       "<p>3000 rows × 9 columns</p>\n",
       "</div>"
      ],
      "text/plain": [
       "                                                  ctr  category_code  \\\n",
       "document_id                                                            \n",
       "61f9569a9a794794245a82abJ0AvX96vTAaQCiWVbzoMdw  0.000              0   \n",
       "628c22b89a79470e553f594bQS5CqzXYRnmDdR2LaSreEw  1.598              0   \n",
       "627cb3249a7947ebdd752865XVsoyrUOT8OJJg2_finJhw  2.006              0   \n",
       "628618629a7947d4927eb812upfii3whSSuMXCqcqF8VbQ  0.000              0   \n",
       "620e76109a7947235623695b5hzCiIHdSYKQIr8WAM18bw  9.136              0   \n",
       "...                                               ...            ...   \n",
       "623ba6bc9a79470214cb9418x4OZQ1IjTb27nPAgv5wAZg  1.788              4   \n",
       "624fda1f9a79471a9bd102eetuRTrLPGSZyNbc9_YcBAeQ  4.427              3   \n",
       "6257a6a99a79477eea75b86dtBr3UG9ORW-gOybkVKX6ww  0.000              1   \n",
       "624866d59a7947421716ab46WsGDKyGjTJGRh14eR7UVvw  0.000              5   \n",
       "6236f9129a79477b0ef18ae0ewByZQ1FQBK2dpXyY77rYw  0.000              0   \n",
       "\n",
       "                                                session_code  authors_code  \\\n",
       "document_id                                                                  \n",
       "61f9569a9a794794245a82abJ0AvX96vTAaQCiWVbzoMdw          2510           739   \n",
       "628c22b89a79470e553f594bQS5CqzXYRnmDdR2LaSreEw          3427           739   \n",
       "627cb3249a7947ebdd752865XVsoyrUOT8OJJg2_finJhw          4312           739   \n",
       "628618629a7947d4927eb812upfii3whSSuMXCqcqF8VbQ          7405           739   \n",
       "620e76109a7947235623695b5hzCiIHdSYKQIr8WAM18bw           852           494   \n",
       "...                                                      ...           ...   \n",
       "623ba6bc9a79470214cb9418x4OZQ1IjTb27nPAgv5wAZg          7695           358   \n",
       "624fda1f9a79471a9bd102eetuRTrLPGSZyNbc9_YcBAeQ          7300           417   \n",
       "6257a6a99a79477eea75b86dtBr3UG9ORW-gOybkVKX6ww          7214           739   \n",
       "624866d59a7947421716ab46WsGDKyGjTJGRh14eR7UVvw          4238           739   \n",
       "6236f9129a79477b0ef18ae0ewByZQ1FQBK2dpXyY77rYw          5356           739   \n",
       "\n",
       "                                                n_authors  n_tags  day  \\\n",
       "document_id                                                              \n",
       "61f9569a9a794794245a82abJ0AvX96vTAaQCiWVbzoMdw          0       5    1   \n",
       "628c22b89a79470e553f594bQS5CqzXYRnmDdR2LaSreEw          0       4   24   \n",
       "627cb3249a7947ebdd752865XVsoyrUOT8OJJg2_finJhw          0       3   12   \n",
       "628618629a7947d4927eb812upfii3whSSuMXCqcqF8VbQ          0       4   19   \n",
       "620e76109a7947235623695b5hzCiIHdSYKQIr8WAM18bw          1       3   17   \n",
       "...                                                   ...     ...  ...   \n",
       "623ba6bc9a79470214cb9418x4OZQ1IjTb27nPAgv5wAZg          1       4   23   \n",
       "624fda1f9a79471a9bd102eetuRTrLPGSZyNbc9_YcBAeQ          1       2    8   \n",
       "6257a6a99a79477eea75b86dtBr3UG9ORW-gOybkVKX6ww          0       3   14   \n",
       "624866d59a7947421716ab46WsGDKyGjTJGRh14eR7UVvw          0       3    2   \n",
       "6236f9129a79477b0ef18ae0ewByZQ1FQBK2dpXyY77rYw          0       3   20   \n",
       "\n",
       "                                                mounth  year  \n",
       "document_id                                                   \n",
       "61f9569a9a794794245a82abJ0AvX96vTAaQCiWVbzoMdw       2    22  \n",
       "628c22b89a79470e553f594bQS5CqzXYRnmDdR2LaSreEw       5    22  \n",
       "627cb3249a7947ebdd752865XVsoyrUOT8OJJg2_finJhw       5    22  \n",
       "628618629a7947d4927eb812upfii3whSSuMXCqcqF8VbQ       5    22  \n",
       "620e76109a7947235623695b5hzCiIHdSYKQIr8WAM18bw       2    22  \n",
       "...                                                ...   ...  \n",
       "623ba6bc9a79470214cb9418x4OZQ1IjTb27nPAgv5wAZg       3    22  \n",
       "624fda1f9a79471a9bd102eetuRTrLPGSZyNbc9_YcBAeQ       4    22  \n",
       "6257a6a99a79477eea75b86dtBr3UG9ORW-gOybkVKX6ww       4    22  \n",
       "624866d59a7947421716ab46WsGDKyGjTJGRh14eR7UVvw       4    22  \n",
       "6236f9129a79477b0ef18ae0ewByZQ1FQBK2dpXyY77rYw       3    22  \n",
       "\n",
       "[3000 rows x 9 columns]"
      ]
     },
     "execution_count": 159,
     "metadata": {},
     "output_type": "execute_result"
    }
   ],
   "source": [
    "df_test.drop(['title', 'publish_date', 'session', 'authors', 'category', 'tags'], axis = 1)"
   ]
  },
  {
   "cell_type": "code",
   "execution_count": 160,
   "metadata": {},
   "outputs": [
    {
     "name": "stdout",
     "output_type": "stream",
     "text": [
      "Wall time: 1 ms\n"
     ]
    }
   ],
   "source": [
    "%%time\n",
    "model_views = xg.XGBRegressor()\n",
    "model_depth = xg.XGBRegressor()\n",
    "model_full_reads_percent = xg.XGBRegressor()"
   ]
  },
  {
   "cell_type": "code",
   "execution_count": 162,
   "metadata": {},
   "outputs": [
    {
     "name": "stdout",
     "output_type": "stream",
     "text": [
      "Wall time: 1.4 s\n"
     ]
    },
    {
     "data": {
      "text/plain": [
       "XGBRegressor(base_score=0.5, booster='gbtree', colsample_bylevel=1,\n",
       "             colsample_bynode=1, colsample_bytree=1, enable_categorical=False,\n",
       "             gamma=0, gpu_id=-1, importance_type=None,\n",
       "             interaction_constraints='', learning_rate=0.300000012,\n",
       "             max_delta_step=0, max_depth=6, min_child_weight=1, missing=nan,\n",
       "             monotone_constraints='()', n_estimators=100, n_jobs=8,\n",
       "             num_parallel_tree=1, objective='reg:squarederror',\n",
       "             predictor='auto', random_state=0, reg_alpha=0, reg_lambda=1,\n",
       "             scale_pos_weight=1, subsample=1, tree_method='exact',\n",
       "             validate_parameters=1, verbosity=None)"
      ]
     },
     "execution_count": 162,
     "metadata": {},
     "output_type": "execute_result"
    }
   ],
   "source": [
    "%%time\n",
    "model_views.fit(X.drop(['n_tags'] , axis=1), y['views'])\n",
    "model_depth.fit(X.drop(['session_code'], axis=1), y['depth'])\n",
    "model_full_reads_percent.fit(X.drop(['session_code'], axis=1), y['full_reads_percent'])"
   ]
  },
  {
   "cell_type": "code",
   "execution_count": 165,
   "metadata": {},
   "outputs": [
    {
     "data": {
      "text/plain": [
       "3000"
      ]
     },
     "execution_count": 165,
     "metadata": {},
     "output_type": "execute_result"
    }
   ],
   "source": [
    "len(model_full_reads_percent.predict(test_df.drop(['session_code'], axis=1)))"
   ]
  },
  {
   "cell_type": "code",
   "execution_count": 166,
   "metadata": {},
   "outputs": [],
   "source": [
    "sample['views'] = model_views.predict(test_df.drop(['n_tags'], axis=1))\n",
    "sample['depth'] = model_depth.predict(test_df.drop(['session_code'], axis=1))\n",
    "sample['full_reads_percent'] = model_full_reads_percent.predict(test_df.drop(['session_code'], axis=1))\n"
   ]
  },
  {
   "cell_type": "code",
   "execution_count": 167,
   "metadata": {},
   "outputs": [
    {
     "data": {
      "text/html": [
       "<div>\n",
       "<style scoped>\n",
       "    .dataframe tbody tr th:only-of-type {\n",
       "        vertical-align: middle;\n",
       "    }\n",
       "\n",
       "    .dataframe tbody tr th {\n",
       "        vertical-align: top;\n",
       "    }\n",
       "\n",
       "    .dataframe thead th {\n",
       "        text-align: right;\n",
       "    }\n",
       "</style>\n",
       "<table border=\"1\" class=\"dataframe\">\n",
       "  <thead>\n",
       "    <tr style=\"text-align: right;\">\n",
       "      <th></th>\n",
       "      <th>views</th>\n",
       "      <th>depth</th>\n",
       "      <th>full_reads_percent</th>\n",
       "    </tr>\n",
       "    <tr>\n",
       "      <th>document_id</th>\n",
       "      <th></th>\n",
       "      <th></th>\n",
       "      <th></th>\n",
       "    </tr>\n",
       "  </thead>\n",
       "  <tbody>\n",
       "    <tr>\n",
       "      <th>61f9569a9a794794245a82abJ0AvX96vTAaQCiWVbzoMdw</th>\n",
       "      <td>20325.433594</td>\n",
       "      <td>1.172853</td>\n",
       "      <td>39.740040</td>\n",
       "    </tr>\n",
       "    <tr>\n",
       "      <th>628c22b89a79470e553f594bQS5CqzXYRnmDdR2LaSreEw</th>\n",
       "      <td>9841.697266</td>\n",
       "      <td>1.066869</td>\n",
       "      <td>38.280693</td>\n",
       "    </tr>\n",
       "    <tr>\n",
       "      <th>627cb3249a7947ebdd752865XVsoyrUOT8OJJg2_finJhw</th>\n",
       "      <td>9595.762695</td>\n",
       "      <td>1.070459</td>\n",
       "      <td>36.593498</td>\n",
       "    </tr>\n",
       "    <tr>\n",
       "      <th>628618629a7947d4927eb812upfii3whSSuMXCqcqF8VbQ</th>\n",
       "      <td>7280.983398</td>\n",
       "      <td>1.066451</td>\n",
       "      <td>41.196133</td>\n",
       "    </tr>\n",
       "    <tr>\n",
       "      <th>620e76109a7947235623695b5hzCiIHdSYKQIr8WAM18bw</th>\n",
       "      <td>103764.703125</td>\n",
       "      <td>1.135663</td>\n",
       "      <td>31.309135</td>\n",
       "    </tr>\n",
       "    <tr>\n",
       "      <th>...</th>\n",
       "      <td>...</td>\n",
       "      <td>...</td>\n",
       "      <td>...</td>\n",
       "    </tr>\n",
       "    <tr>\n",
       "      <th>623ba6bc9a79470214cb9418x4OZQ1IjTb27nPAgv5wAZg</th>\n",
       "      <td>47986.593750</td>\n",
       "      <td>1.134984</td>\n",
       "      <td>34.757656</td>\n",
       "    </tr>\n",
       "    <tr>\n",
       "      <th>624fda1f9a79471a9bd102eetuRTrLPGSZyNbc9_YcBAeQ</th>\n",
       "      <td>27891.960938</td>\n",
       "      <td>1.126167</td>\n",
       "      <td>33.197762</td>\n",
       "    </tr>\n",
       "    <tr>\n",
       "      <th>6257a6a99a79477eea75b86dtBr3UG9ORW-gOybkVKX6ww</th>\n",
       "      <td>5098.840332</td>\n",
       "      <td>1.062279</td>\n",
       "      <td>43.815540</td>\n",
       "    </tr>\n",
       "    <tr>\n",
       "      <th>624866d59a7947421716ab46WsGDKyGjTJGRh14eR7UVvw</th>\n",
       "      <td>16387.835938</td>\n",
       "      <td>1.187000</td>\n",
       "      <td>43.220184</td>\n",
       "    </tr>\n",
       "    <tr>\n",
       "      <th>6236f9129a79477b0ef18ae0ewByZQ1FQBK2dpXyY77rYw</th>\n",
       "      <td>17206.765625</td>\n",
       "      <td>1.195897</td>\n",
       "      <td>39.179794</td>\n",
       "    </tr>\n",
       "  </tbody>\n",
       "</table>\n",
       "<p>3000 rows × 3 columns</p>\n",
       "</div>"
      ],
      "text/plain": [
       "                                                        views     depth  \\\n",
       "document_id                                                               \n",
       "61f9569a9a794794245a82abJ0AvX96vTAaQCiWVbzoMdw   20325.433594  1.172853   \n",
       "628c22b89a79470e553f594bQS5CqzXYRnmDdR2LaSreEw    9841.697266  1.066869   \n",
       "627cb3249a7947ebdd752865XVsoyrUOT8OJJg2_finJhw    9595.762695  1.070459   \n",
       "628618629a7947d4927eb812upfii3whSSuMXCqcqF8VbQ    7280.983398  1.066451   \n",
       "620e76109a7947235623695b5hzCiIHdSYKQIr8WAM18bw  103764.703125  1.135663   \n",
       "...                                                       ...       ...   \n",
       "623ba6bc9a79470214cb9418x4OZQ1IjTb27nPAgv5wAZg   47986.593750  1.134984   \n",
       "624fda1f9a79471a9bd102eetuRTrLPGSZyNbc9_YcBAeQ   27891.960938  1.126167   \n",
       "6257a6a99a79477eea75b86dtBr3UG9ORW-gOybkVKX6ww    5098.840332  1.062279   \n",
       "624866d59a7947421716ab46WsGDKyGjTJGRh14eR7UVvw   16387.835938  1.187000   \n",
       "6236f9129a79477b0ef18ae0ewByZQ1FQBK2dpXyY77rYw   17206.765625  1.195897   \n",
       "\n",
       "                                                full_reads_percent  \n",
       "document_id                                                         \n",
       "61f9569a9a794794245a82abJ0AvX96vTAaQCiWVbzoMdw           39.740040  \n",
       "628c22b89a79470e553f594bQS5CqzXYRnmDdR2LaSreEw           38.280693  \n",
       "627cb3249a7947ebdd752865XVsoyrUOT8OJJg2_finJhw           36.593498  \n",
       "628618629a7947d4927eb812upfii3whSSuMXCqcqF8VbQ           41.196133  \n",
       "620e76109a7947235623695b5hzCiIHdSYKQIr8WAM18bw           31.309135  \n",
       "...                                                            ...  \n",
       "623ba6bc9a79470214cb9418x4OZQ1IjTb27nPAgv5wAZg           34.757656  \n",
       "624fda1f9a79471a9bd102eetuRTrLPGSZyNbc9_YcBAeQ           33.197762  \n",
       "6257a6a99a79477eea75b86dtBr3UG9ORW-gOybkVKX6ww           43.815540  \n",
       "624866d59a7947421716ab46WsGDKyGjTJGRh14eR7UVvw           43.220184  \n",
       "6236f9129a79477b0ef18ae0ewByZQ1FQBK2dpXyY77rYw           39.179794  \n",
       "\n",
       "[3000 rows x 3 columns]"
      ]
     },
     "execution_count": 167,
     "metadata": {},
     "output_type": "execute_result"
    }
   ],
   "source": [
    "sample"
   ]
  },
  {
   "cell_type": "code",
   "execution_count": 168,
   "metadata": {},
   "outputs": [],
   "source": [
    "sample.to_csv('content/predictions/test_prediction_v3.csv')"
   ]
  },
  {
   "cell_type": "markdown",
   "metadata": {},
   "source": [
    "#### Public Score: 0.66"
   ]
  }
 ],
 "metadata": {
  "kernelspec": {
   "display_name": "Python 3",
   "language": "python",
   "name": "python3"
  },
  "language_info": {
   "codemirror_mode": {
    "name": "ipython",
    "version": 3
   },
   "file_extension": ".py",
   "mimetype": "text/x-python",
   "name": "python",
   "nbconvert_exporter": "python",
   "pygments_lexer": "ipython3",
   "version": "3.7.6"
  }
 },
 "nbformat": 4,
 "nbformat_minor": 4
}
