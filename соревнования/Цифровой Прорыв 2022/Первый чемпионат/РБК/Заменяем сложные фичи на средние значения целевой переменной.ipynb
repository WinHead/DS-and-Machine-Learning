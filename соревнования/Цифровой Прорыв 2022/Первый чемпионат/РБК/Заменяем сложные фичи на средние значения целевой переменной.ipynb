{
 "cells": [
  {
   "cell_type": "markdown",
   "metadata": {
    "id": "94nW2454wc8x"
   },
   "source": [
    "## Загрузим нужные библиотеки"
   ]
  },
  {
   "cell_type": "markdown",
   "metadata": {},
   "source": [
    "Идеи:\n",
    "~~1) Переменная - количество авторов. ~~\n",
    "\n",
    "2) OneHotEncoder - авторов в число (автор чувствует статью)\n",
    "\n",
    "~~3) Отдельно выделить без авторов?~~\n",
    "\n",
    "4) Определить популярность слов в теге, используя гугл трендс за период --> Интересно, но сложно --> **Парсинг**\n",
    "\n",
    "5) Определять выходные (например). => Поиграться с датой (мб часы утренние/вечерние)\n",
    "\n",
    "***6) Заменить категорию, сессию, автора (и/или) на среднее значение по frp (например) (Если много, то взять из этого максимум)*** \n",
    "\n",
    "7) Аналогично с тегами (Узнать че за теги (изи) + популярность) -!!! (Траблы с тегами видимости) !!! --> **Парсинг**\n",
    "\n",
    "8) Распарсить сайт для поиска авторов и посчитать их среднюю популярность тип. (За 10 статей, например) -!!! (Траблы с тегами видимости) !!! --> **Парсинг**\n",
    "\n",
    "9) Получить длину слов в статье (Влияет как минимум на процент читателей полность прочитавших статью) --> **Парсинг**\n",
    "\n",
    "~~10) Предсказать на основе View и Depth frp~~\n",
    "\n",
    "11) Сгруппировать по сессии??\n",
    "\n",
    "12) Добавить флаг на наличие в статье картинки --> **Парсинг**\n",
    "\n",
    "13) Курс доллара в этот момент?? --> **Парсинг**\n",
    "\n",
    "14) Ансабль разных моделей --> ? хз, XGB это по идее уже и есть ансабль. Только ансамбль лесов; Попробовать **другие модели??**\n",
    "\n",
    "15) Масштабирование данных --> По идее для деревьев нет смысла\n",
    "\n",
    "16) Timestamp\n",
    "\n",
    "17) Для авторов через парсинг найти их view"
   ]
  },
  {
   "cell_type": "code",
   "execution_count": 1,
   "metadata": {
    "id": "yd1BP24w3ZTO"
   },
   "outputs": [],
   "source": [
    "import pandas as pd\n",
    "from sklearn.metrics import r2_score\n",
    "from sklearn.model_selection import train_test_split\n",
    "from sklearn.ensemble import RandomForestRegressor\n",
    "from sklearn.datasets import make_regression\n",
    "from sklearn.model_selection import GridSearchCV\n"
   ]
  },
  {
   "cell_type": "code",
   "execution_count": 2,
   "metadata": {},
   "outputs": [],
   "source": [
    "import numpy as np\n",
    "import xgboost as xg\n",
    "from sklearn.model_selection import cross_validate"
   ]
  },
  {
   "cell_type": "code",
   "execution_count": 3,
   "metadata": {},
   "outputs": [],
   "source": [
    "import seaborn as sns\n",
    "import matplotlib.pyplot as plt"
   ]
  },
  {
   "cell_type": "code",
   "execution_count": 5,
   "metadata": {},
   "outputs": [],
   "source": [
    "def data_encoding(df_tr, df_tst):\n",
    "    # Создаем объединенный датафрейм трейна и теста. \n",
    "    # Заменим там перемнные и разобьем его обратно\n",
    "    \n",
    "    frames = [df_tr[[\"category\", \"session\", \"authors\"]], df_tst[[\"category\", \"session\", \"authors\"]]]\n",
    "    df_temp = pd.concat(frames)\n",
    "    \n",
    "    # Заменяем категориальные значения на int\n",
    "    \n",
    "    df_temp[\"category\"] = df_temp[\"category\"].astype('category')\n",
    "    df_temp[\"category\"] = df_temp[\"category\"].cat.codes\n",
    "    df_temp[\"category\"] = df_temp[\"category\"].astype('int')\n",
    "    \n",
    "    df_temp[\"authors\"] = df_temp[\"authors\"].astype('category')\n",
    "    df_temp[\"authors\"] = df_temp[\"authors\"].cat.codes\n",
    "    df_temp[\"authors\"] = df_temp[\"authors\"].astype('int')\n",
    "    \n",
    "    df_temp[\"session\"] = df_temp[\"session\"].astype('category')\n",
    "    df_temp[\"session\"] = df_temp[\"session\"].cat.codes\n",
    "    df_temp[\"session\"] = df_temp[\"session\"].astype('int')\n",
    "    \n",
    "    #df_temp[\"tags\"] = df_temp[\"tags\"].astype('category')\n",
    "    #df_temp[\"tags\"] = df_temp[\"tags\"].cat.codes\n",
    "    #df_temp[\"tags\"] = df_temp[\"tags\"].astype('int')\n",
    "    \n",
    "    # Мерджим полученные данные с траэйном и тестом\n",
    "    \n",
    "    df_tr = pd.merge(\n",
    "        df_tr,\n",
    "        df_temp,\n",
    "        how=\"left\",\n",
    "        left_index=True,\n",
    "        right_index=True,\n",
    "        sort=False,\n",
    "        suffixes=(\"\", \"_code\"),\n",
    "        copy=True,\n",
    "        indicator=False,\n",
    "        validate=None,\n",
    "    )\n",
    "\n",
    "    df_tst = pd.merge(\n",
    "        df_tst,\n",
    "        df_temp,\n",
    "        how=\"left\",\n",
    "        left_index=True,\n",
    "        right_index=True,\n",
    "        sort=False,\n",
    "        suffixes=(\"\", \"_code\"),\n",
    "        copy=True,\n",
    "        indicator=False,\n",
    "        validate=None,\n",
    "    )\n",
    "\n",
    "    # Добавляем обработку категорий в медианыые значения по своей группе\n",
    "    \n",
    "    \n",
    "    \n",
    "    \n",
    "    return df_tr, df_tst"
   ]
  },
  {
   "cell_type": "code",
   "execution_count": 56,
   "metadata": {},
   "outputs": [],
   "source": [
    "def category_encoding(df_tr, df_tst):\n",
    "    \n",
    "    frames = [df_tr.copy(), df_tst.copy()]\n",
    "    df_temp = pd.concat(frames)\n",
    "    \n",
    "    df_temp = pd.merge(\n",
    "        df_temp,\n",
    "        df_temp.groupby('category').median()[['views', 'depth', 'full_reads_percent']],\n",
    "        how=\"left\",\n",
    "        left_on = 'category',\n",
    "        #left_index=True,\n",
    "        right_index=True,\n",
    "        sort=False,\n",
    "        suffixes=(\"\", \"_median_cat\"),\n",
    "        copy=True,\n",
    "        indicator=False, \n",
    "        validate=None,\n",
    "    )\n",
    "    \n",
    "    # Мерджим полученные данные с траэйном и тестом\n",
    "    \n",
    "    df_tr = pd.merge(\n",
    "        df_tr,\n",
    "        df_temp[['views_median_cat', 'depth_median_cat', 'full_reads_percent_median_cat']],\n",
    "        how=\"left\",\n",
    "        left_index=True,\n",
    "        right_index=True,\n",
    "        sort=False,\n",
    "        suffixes=(\"\", \"_code\"),\n",
    "        copy=True,\n",
    "        indicator=False,\n",
    "        validate=None,\n",
    "    )\n",
    "\n",
    "    df_tst = pd.merge(\n",
    "        df_tst,\n",
    "        df_temp[['views_median_cat', 'depth_median_cat', 'full_reads_percent_median_cat']],\n",
    "        how=\"left\",\n",
    "        left_index=True,\n",
    "        right_index=True,\n",
    "        sort=False,\n",
    "        suffixes=(\"\", \"_code\"),\n",
    "        copy=True,\n",
    "        indicator=False,\n",
    "        validate=None,\n",
    "    )\n",
    "\n",
    "    return df_tr, df_tst"
   ]
  },
  {
   "cell_type": "code",
   "execution_count": 7,
   "metadata": {},
   "outputs": [],
   "source": [
    "def feature_engineering(df_tr, df_tst):\n",
    "    \n",
    "    # Добавим число тегов и авторов\n",
    "    \n",
    "    for dataset in [df_tr, df_tst]:\n",
    "        \n",
    "        dataset['n_authors'] = dataset['authors'].map(lambda x: 0 if x.split(',') == ['[]'] else len(x.split(',')) )\n",
    "        dataset['n_tags'] = dataset['tags'].map(lambda x: 0 if x.split(',') == ['[]'] else len(x.split(',')) )\n",
    "        \n",
    "        # Добавим день, меся, год\n",
    "        \n",
    "        dataset['day'] = pd.to_datetime(dataset['publish_date']).dt.strftime(\"%d\").astype(int)\n",
    "        dataset['mounth'] = pd.to_datetime(dataset['publish_date']).dt.strftime(\"%m\").astype(int)\n",
    "        dataset['year'] = pd.to_datetime(dataset['publish_date']).dt.strftime(\"%y\").astype(int)\n",
    "        \n",
    "    return df_tr, df_tst"
   ]
  },
  {
   "cell_type": "markdown",
   "metadata": {
    "id": "9OIyUVsswusW"
   },
   "source": [
    "Выполним загрузу датсета"
   ]
  },
  {
   "cell_type": "code",
   "execution_count": 268,
   "metadata": {},
   "outputs": [],
   "source": [
    "df_train = pd.read_csv(\"content/train_dataset_train.csv\", index_col= 0)\n",
    "df_test = pd.read_csv(\"content/test_dataset_test.csv\", index_col= 0)\n",
    "sample = pd.read_csv(\"content/sample_solution.csv\", index_col= 0)"
   ]
  },
  {
   "cell_type": "markdown",
   "metadata": {},
   "source": [
    "#### Кодируем признаки"
   ]
  },
  {
   "cell_type": "code",
   "execution_count": 269,
   "metadata": {},
   "outputs": [],
   "source": [
    "df_train, df_test = data_encoding(df_train, df_test)"
   ]
  },
  {
   "cell_type": "markdown",
   "metadata": {},
   "source": [
    "#### Добавляем день месяц год, число авторов и тегов"
   ]
  },
  {
   "cell_type": "code",
   "execution_count": 270,
   "metadata": {},
   "outputs": [],
   "source": [
    "df_train, df_test = feature_engineering(df_train, df_test)"
   ]
  },
  {
   "cell_type": "markdown",
   "metadata": {},
   "source": [
    "#### Добавляем для каждой категории среднее значение целевого признака"
   ]
  },
  {
   "cell_type": "code",
   "execution_count": 271,
   "metadata": {},
   "outputs": [],
   "source": [
    "df_train, df_test = category_encoding(df_train, df_test)"
   ]
  },
  {
   "cell_type": "code",
   "execution_count": 272,
   "metadata": {},
   "outputs": [
    {
     "data": {
      "text/plain": [
       "Index(['title', 'publish_date', 'session', 'authors', 'ctr', 'category',\n",
       "       'tags', 'views', 'depth', 'full_reads_percent', 'category_code',\n",
       "       'session_code', 'authors_code', 'n_authors', 'n_tags', 'day', 'mounth',\n",
       "       'year', 'views_median_cat', 'depth_median_cat',\n",
       "       'full_reads_percent_median_cat'],\n",
       "      dtype='object')"
      ]
     },
     "execution_count": 272,
     "metadata": {},
     "output_type": "execute_result"
    }
   ],
   "source": [
    "df_train.columns"
   ]
  },
  {
   "cell_type": "markdown",
   "metadata": {},
   "source": [
    "#### Обработка авторов и тегов"
   ]
  },
  {
   "cell_type": "markdown",
   "metadata": {},
   "source": [
    "Создаем колонки"
   ]
  },
  {
   "cell_type": "code",
   "execution_count": 273,
   "metadata": {},
   "outputs": [],
   "source": [
    "df_train['views_mean_tags'] = -1.0\n",
    "df_train['depth_mean_tags'] = -1.0\n",
    "df_train['frp_mean_tags'] = -1.0"
   ]
  },
  {
   "cell_type": "markdown",
   "metadata": {},
   "source": [
    "Формируем словари для тегов"
   ]
  },
  {
   "cell_type": "code",
   "execution_count": 274,
   "metadata": {
    "scrolled": true
   },
   "outputs": [
    {
     "name": "stdout",
     "output_type": "stream",
     "text": [
      "Wall time: 8.37 s\n"
     ]
    }
   ],
   "source": [
    "%%time\n",
    "tags_count_d = {'[]': 0}\n",
    "tag_sum_v_d = {'[]': 0}\n",
    "tag_sum_d_d = {'[]': 0}\n",
    "tag_sum_frp_d = {'[]': 0}\n",
    "\n",
    "# По каждой строке\n",
    "for i in range(df_train.shape[0]):\n",
    "    \n",
    "    # Если нет тега, то увеличиваем счетчик пустых тэгов и записываем сумму\n",
    "    if df_train.tags[i] == \"[]\":\n",
    "        tags_count_d['[]'] += 1\n",
    "        tag_sum_v_d['[]'] += df_train.views[i]\n",
    "        tag_sum_d_d['[]'] += df_train.depth[i]\n",
    "        tag_sum_frp_d['[]'] += df_train.full_reads_percent[i]\n",
    "        continue\n",
    "    \n",
    "    # Если тег есть, парсим его для выделения занчений тегов    \n",
    "    for x in df_train.tags[i].split(\"['\")[1].split(\"']\")[0].split(\"', '\"):\n",
    "        \n",
    "        # Если такой тег уже существует, суммируем значения\n",
    "        if x in list(tags_count_d.keys()):\n",
    "            tags_count_d[x] += 1\n",
    "            tag_sum_v_d[x] += df_train.views[i]\n",
    "            tag_sum_d_d[x] += df_train.depth[i]\n",
    "            tag_sum_frp_d[x] += df_train.full_reads_percent[i]\n",
    "            \n",
    "        else: \n",
    "            tags_count_d[x] = 1\n",
    "            tag_sum_v_d[x] = df_train.views[i]\n",
    "            tag_sum_d_d[x] = df_train.depth[i]\n",
    "            tag_sum_frp_d[x] = df_train.full_reads_percent[i]\n"
   ]
  },
  {
   "cell_type": "markdown",
   "metadata": {},
   "source": [
    "Записываем в датафрейм максимальное среднее значение по тегам"
   ]
  },
  {
   "cell_type": "code",
   "execution_count": 275,
   "metadata": {
    "scrolled": true
   },
   "outputs": [
    {
     "name": "stderr",
     "output_type": "stream",
     "text": [
      "D:\\Anaconda\\Anaconda\\lib\\site-packages\\ipykernel_launcher.py:34: SettingWithCopyWarning: \n",
      "A value is trying to be set on a copy of a slice from a DataFrame\n",
      "\n",
      "See the caveats in the documentation: https://pandas.pydata.org/pandas-docs/stable/user_guide/indexing.html#returning-a-view-versus-a-copy\n",
      "D:\\Anaconda\\Anaconda\\lib\\site-packages\\ipykernel_launcher.py:35: SettingWithCopyWarning: \n",
      "A value is trying to be set on a copy of a slice from a DataFrame\n",
      "\n",
      "See the caveats in the documentation: https://pandas.pydata.org/pandas-docs/stable/user_guide/indexing.html#returning-a-view-versus-a-copy\n",
      "D:\\Anaconda\\Anaconda\\lib\\site-packages\\ipykernel_launcher.py:36: SettingWithCopyWarning: \n",
      "A value is trying to be set on a copy of a slice from a DataFrame\n",
      "\n",
      "See the caveats in the documentation: https://pandas.pydata.org/pandas-docs/stable/user_guide/indexing.html#returning-a-view-versus-a-copy\n",
      "D:\\Anaconda\\Anaconda\\lib\\site-packages\\ipykernel_launcher.py:11: SettingWithCopyWarning: \n",
      "A value is trying to be set on a copy of a slice from a DataFrame\n",
      "\n",
      "See the caveats in the documentation: https://pandas.pydata.org/pandas-docs/stable/user_guide/indexing.html#returning-a-view-versus-a-copy\n",
      "  # This is added back by InteractiveShellApp.init_path()\n",
      "D:\\Anaconda\\Anaconda\\lib\\site-packages\\ipykernel_launcher.py:12: SettingWithCopyWarning: \n",
      "A value is trying to be set on a copy of a slice from a DataFrame\n",
      "\n",
      "See the caveats in the documentation: https://pandas.pydata.org/pandas-docs/stable/user_guide/indexing.html#returning-a-view-versus-a-copy\n",
      "  if sys.path[0] == '':\n",
      "D:\\Anaconda\\Anaconda\\lib\\site-packages\\ipykernel_launcher.py:13: SettingWithCopyWarning: \n",
      "A value is trying to be set on a copy of a slice from a DataFrame\n",
      "\n",
      "See the caveats in the documentation: https://pandas.pydata.org/pandas-docs/stable/user_guide/indexing.html#returning-a-view-versus-a-copy\n",
      "  del sys.path[0]\n"
     ]
    }
   ],
   "source": [
    "# Для пустых сразу считаем среднее\n",
    "tag_sum_v_d['[]'] = tag_sum_v_d['[]'] / tags_count_d['[]']\n",
    "tag_sum_d_d['[]'] = tag_sum_d_d['[]'] / tags_count_d['[]']\n",
    "tag_sum_frp_d['[]'] = tag_sum_frp_d['[]'] / tags_count_d['[]']\n",
    "\n",
    "# По каждой строке\n",
    "for i in range(df_train.shape[0]):\n",
    "    \n",
    "    # Если нет тега\n",
    "    if df_train.tags[i] == \"[]\":\n",
    "        df_train['views_mean_tags'][i] = tag_sum_v_d['[]']\n",
    "        df_train['depth_mean_tags'][i] = tag_sum_d_d['[]']\n",
    "        df_train['frp_mean_tags'][i] = tag_sum_frp_d['[]']\n",
    "        continue\n",
    "    \n",
    "    maximum_v = 0\n",
    "    maximum_d = 0\n",
    "    maximum_frp = 0\n",
    "    # Если тег есть, парсим его для выделения занчений тегов    \n",
    "    for x in df_train.tags[i].split(\"['\")[1].split(\"']\")[0].split(\"', '\"):\n",
    "        # Считаем среднее значение для данного тега\n",
    "        mean_v = tag_sum_v_d[x] / tags_count_d[x]\n",
    "        mean_d = tag_sum_d_d[x] / tags_count_d[x]\n",
    "        mean_frp = tag_sum_frp_d[x] / tags_count_d[x]\n",
    "        \n",
    "        # Запоминаем максимальное среднее значение\n",
    "        if mean_v > maximum_v:\n",
    "            maximum_v = mean_v\n",
    "        if mean_d > maximum_d:\n",
    "            maximum_d = mean_d\n",
    "        if mean_frp > maximum_frp:\n",
    "            maximum_frp = mean_frp\n",
    "        \n",
    "    df_train['views_mean_tags'][i] = maximum_v\n",
    "    df_train['depth_mean_tags'][i] = maximum_d\n",
    "    df_train['frp_mean_tags'][i] = maximum_frp"
   ]
  },
  {
   "cell_type": "markdown",
   "metadata": {},
   "source": [
    "Аналогично добавляем колонки в тестовом датасете"
   ]
  },
  {
   "cell_type": "code",
   "execution_count": 276,
   "metadata": {},
   "outputs": [
    {
     "name": "stderr",
     "output_type": "stream",
     "text": [
      "D:\\Anaconda\\Anaconda\\lib\\site-packages\\ipykernel_launcher.py:48: SettingWithCopyWarning: \n",
      "A value is trying to be set on a copy of a slice from a DataFrame\n",
      "\n",
      "See the caveats in the documentation: https://pandas.pydata.org/pandas-docs/stable/user_guide/indexing.html#returning-a-view-versus-a-copy\n",
      "D:\\Anaconda\\Anaconda\\lib\\site-packages\\ipykernel_launcher.py:49: SettingWithCopyWarning: \n",
      "A value is trying to be set on a copy of a slice from a DataFrame\n",
      "\n",
      "See the caveats in the documentation: https://pandas.pydata.org/pandas-docs/stable/user_guide/indexing.html#returning-a-view-versus-a-copy\n",
      "D:\\Anaconda\\Anaconda\\lib\\site-packages\\ipykernel_launcher.py:50: SettingWithCopyWarning: \n",
      "A value is trying to be set on a copy of a slice from a DataFrame\n",
      "\n",
      "See the caveats in the documentation: https://pandas.pydata.org/pandas-docs/stable/user_guide/indexing.html#returning-a-view-versus-a-copy\n",
      "D:\\Anaconda\\Anaconda\\lib\\site-packages\\ipykernel_launcher.py:15: SettingWithCopyWarning: \n",
      "A value is trying to be set on a copy of a slice from a DataFrame\n",
      "\n",
      "See the caveats in the documentation: https://pandas.pydata.org/pandas-docs/stable/user_guide/indexing.html#returning-a-view-versus-a-copy\n",
      "  from ipykernel import kernelapp as app\n",
      "D:\\Anaconda\\Anaconda\\lib\\site-packages\\ipykernel_launcher.py:16: SettingWithCopyWarning: \n",
      "A value is trying to be set on a copy of a slice from a DataFrame\n",
      "\n",
      "See the caveats in the documentation: https://pandas.pydata.org/pandas-docs/stable/user_guide/indexing.html#returning-a-view-versus-a-copy\n",
      "  app.launch_new_instance()\n",
      "D:\\Anaconda\\Anaconda\\lib\\site-packages\\ipykernel_launcher.py:17: SettingWithCopyWarning: \n",
      "A value is trying to be set on a copy of a slice from a DataFrame\n",
      "\n",
      "See the caveats in the documentation: https://pandas.pydata.org/pandas-docs/stable/user_guide/indexing.html#returning-a-view-versus-a-copy\n"
     ]
    }
   ],
   "source": [
    "df_test['views_mean_tags'] = -1.0\n",
    "df_test['depth_mean_tags'] = -1.0\n",
    "df_test['frp_mean_tags'] = -1.0\n",
    "\n",
    "# Для пустых сразу считаем среднее\n",
    "#tag_sum_v_d['[]'] = tag_sum_v_d['[]'] / tags_count_d['[]']\n",
    "#tag_sum_d_d['[]'] = tag_sum_d_d['[]'] / tags_count_d['[]']\n",
    "#tag_sum_frp_d['[]'] = tag_sum_frp_d['[]'] / tags_count_d['[]']\n",
    "\n",
    "# По каждой строке\n",
    "for i in range(df_test.shape[0]):\n",
    "    \n",
    "    # Если нет тега\n",
    "    if df_test.tags[i] == \"[]\":\n",
    "        df_test['views_mean_tags'][i] = tag_sum_v_d['[]']\n",
    "        df_test['depth_mean_tags'][i] = tag_sum_d_d['[]']\n",
    "        df_test['frp_mean_tags'][i] = tag_sum_frp_d['[]']\n",
    "        continue\n",
    "    \n",
    "    maximum_v = 0\n",
    "    maximum_d = 0\n",
    "    maximum_frp = 0\n",
    "    \n",
    "    # Если тег есть, парсим его для выделения занчений тегов    \n",
    "    for x in df_test.tags[i].split(\"['\")[1].split(\"']\")[0].split(\"', '\"):\n",
    "        \n",
    "        # Если встретили незнакомый тег:\n",
    "        if x not in tags_count_d.keys():\n",
    "            mean_v = 0\n",
    "            mean_d = 0\n",
    "            mean_frp = 0\n",
    "            continue\n",
    "        \n",
    "        # Если тег встечался нами ранее\n",
    "        # Считаем среднее значение для данного тега\n",
    "        mean_v = tag_sum_v_d[x] / tags_count_d[x]\n",
    "        mean_d = tag_sum_d_d[x] / tags_count_d[x]\n",
    "        mean_frp = tag_sum_frp_d[x] / tags_count_d[x]\n",
    "        \n",
    "        # Запоминаем максимальное среднее значение\n",
    "        if mean_v > maximum_v:\n",
    "            maximum_v = mean_v\n",
    "        if mean_d > maximum_d:\n",
    "            maximum_d = mean_d\n",
    "        if mean_frp > maximum_frp:\n",
    "            maximum_frp = mean_frp\n",
    "        \n",
    "    df_test['views_mean_tags'][i] = maximum_v\n",
    "    df_test['depth_mean_tags'][i] = maximum_d\n",
    "    df_test['frp_mean_tags'][i] = maximum_frp"
   ]
  },
  {
   "cell_type": "code",
   "execution_count": 277,
   "metadata": {},
   "outputs": [
    {
     "data": {
      "text/plain": [
       "10"
      ]
     },
     "execution_count": 277,
     "metadata": {},
     "output_type": "execute_result"
    }
   ],
   "source": [
    "# 10 тегов совершенно новые; Надо бы заменпить их на медианное значение\n",
    "len(df_test[df_test['views_mean_tags'] == 0])"
   ]
  },
  {
   "cell_type": "markdown",
   "metadata": {},
   "source": [
    "Заменяем незнакомые теги на медианные"
   ]
  },
  {
   "cell_type": "code",
   "execution_count": 278,
   "metadata": {},
   "outputs": [
    {
     "name": "stderr",
     "output_type": "stream",
     "text": [
      "D:\\Anaconda\\Anaconda\\lib\\site-packages\\ipykernel_launcher.py:1: SettingWithCopyWarning: \n",
      "A value is trying to be set on a copy of a slice from a DataFrame\n",
      "\n",
      "See the caveats in the documentation: https://pandas.pydata.org/pandas-docs/stable/user_guide/indexing.html#returning-a-view-versus-a-copy\n",
      "  \"\"\"Entry point for launching an IPython kernel.\n",
      "D:\\Anaconda\\Anaconda\\lib\\site-packages\\ipykernel_launcher.py:2: SettingWithCopyWarning: \n",
      "A value is trying to be set on a copy of a slice from a DataFrame\n",
      "\n",
      "See the caveats in the documentation: https://pandas.pydata.org/pandas-docs/stable/user_guide/indexing.html#returning-a-view-versus-a-copy\n",
      "  \n",
      "D:\\Anaconda\\Anaconda\\lib\\site-packages\\ipykernel_launcher.py:3: SettingWithCopyWarning: \n",
      "A value is trying to be set on a copy of a slice from a DataFrame\n",
      "\n",
      "See the caveats in the documentation: https://pandas.pydata.org/pandas-docs/stable/user_guide/indexing.html#returning-a-view-versus-a-copy\n",
      "  This is separate from the ipykernel package so we can avoid doing imports until\n"
     ]
    }
   ],
   "source": [
    "df_test['views_mean_tags'][df_test['views_mean_tags'] == 0] = df_test['views_mean_tags'].median()\n",
    "df_test['depth_mean_tags'][df_test['depth_mean_tags'] == 0] = df_test['depth_mean_tags'].median()\n",
    "df_test['frp_mean_tags'][df_test['frp_mean_tags'] == 0] = df_test['frp_mean_tags'].median()"
   ]
  },
  {
   "cell_type": "code",
   "execution_count": 279,
   "metadata": {},
   "outputs": [
    {
     "data": {
      "text/plain": [
       "0"
      ]
     },
     "execution_count": 279,
     "metadata": {},
     "output_type": "execute_result"
    }
   ],
   "source": [
    "len(df_test[df_test['views_mean_tags'] == 0])"
   ]
  },
  {
   "cell_type": "markdown",
   "metadata": {},
   "source": [
    "Формируем словари для авторов"
   ]
  },
  {
   "cell_type": "markdown",
   "metadata": {},
   "source": [
    "Создаем колонки"
   ]
  },
  {
   "cell_type": "code",
   "execution_count": 280,
   "metadata": {},
   "outputs": [],
   "source": [
    "df_train['views_mean_authors'] = -1.0\n",
    "df_train['depth_mean_authors'] = -1.0\n",
    "df_train['frp_mean_authors'] = -1.0"
   ]
  },
  {
   "cell_type": "code",
   "execution_count": 281,
   "metadata": {},
   "outputs": [
    {
     "name": "stdout",
     "output_type": "stream",
     "text": [
      "Wall time: 1.77 s\n"
     ]
    }
   ],
   "source": [
    "%%time\n",
    "\n",
    "authors_count_d = {'[]': 0}\n",
    "authors_sum_v_d = {'[]': 0}\n",
    "authors_sum_d_d = {'[]': 0}\n",
    "authors_sum_frp_d = {'[]': 0}\n",
    "\n",
    "# По каждой строке\n",
    "for i in range(df_train.shape[0]):\n",
    "    \n",
    "    # Если нет тега, то увеличиваем счетчик пустых тэгов и записываем сумму\n",
    "    if df_train.authors[i] == \"[]\":\n",
    "        authors_count_d['[]'] += 1\n",
    "        authors_sum_v_d['[]'] += df_train.views[i]\n",
    "        authors_sum_d_d['[]'] += df_train.depth[i]\n",
    "        authors_sum_frp_d['[]'] += df_train.full_reads_percent[i]\n",
    "        continue\n",
    "    \n",
    "    # Если тег есть, парсим его для выделения занчений тегов    \n",
    "    for x in df_train.authors[i].split(\"['\")[1].split(\"']\")[0].split(\"','\"):\n",
    "        \n",
    "        # Если такой тег уже существует, суммируем значения\n",
    "        if x in list(authors_count_d.keys()):\n",
    "            authors_count_d[x] += 1\n",
    "            authors_sum_v_d[x] += df_train.views[i]\n",
    "            authors_sum_d_d[x] += df_train.depth[i]\n",
    "            authors_sum_frp_d[x] += df_train.full_reads_percent[i]\n",
    "            \n",
    "        else: \n",
    "            authors_count_d[x] = 1\n",
    "            authors_sum_v_d[x] = df_train.views[i]\n",
    "            authors_sum_d_d[x] = df_train.depth[i]\n",
    "            authors_sum_frp_d[x] = df_train.full_reads_percent[i]"
   ]
  },
  {
   "cell_type": "code",
   "execution_count": 282,
   "metadata": {},
   "outputs": [
    {
     "name": "stderr",
     "output_type": "stream",
     "text": [
      "D:\\Anaconda\\Anaconda\\lib\\site-packages\\ipykernel_launcher.py:11: SettingWithCopyWarning: \n",
      "A value is trying to be set on a copy of a slice from a DataFrame\n",
      "\n",
      "See the caveats in the documentation: https://pandas.pydata.org/pandas-docs/stable/user_guide/indexing.html#returning-a-view-versus-a-copy\n",
      "  # This is added back by InteractiveShellApp.init_path()\n",
      "D:\\Anaconda\\Anaconda\\lib\\site-packages\\ipykernel_launcher.py:12: SettingWithCopyWarning: \n",
      "A value is trying to be set on a copy of a slice from a DataFrame\n",
      "\n",
      "See the caveats in the documentation: https://pandas.pydata.org/pandas-docs/stable/user_guide/indexing.html#returning-a-view-versus-a-copy\n",
      "  if sys.path[0] == '':\n",
      "D:\\Anaconda\\Anaconda\\lib\\site-packages\\ipykernel_launcher.py:13: SettingWithCopyWarning: \n",
      "A value is trying to be set on a copy of a slice from a DataFrame\n",
      "\n",
      "See the caveats in the documentation: https://pandas.pydata.org/pandas-docs/stable/user_guide/indexing.html#returning-a-view-versus-a-copy\n",
      "  del sys.path[0]\n",
      "D:\\Anaconda\\Anaconda\\lib\\site-packages\\ipykernel_launcher.py:34: SettingWithCopyWarning: \n",
      "A value is trying to be set on a copy of a slice from a DataFrame\n",
      "\n",
      "See the caveats in the documentation: https://pandas.pydata.org/pandas-docs/stable/user_guide/indexing.html#returning-a-view-versus-a-copy\n",
      "D:\\Anaconda\\Anaconda\\lib\\site-packages\\ipykernel_launcher.py:35: SettingWithCopyWarning: \n",
      "A value is trying to be set on a copy of a slice from a DataFrame\n",
      "\n",
      "See the caveats in the documentation: https://pandas.pydata.org/pandas-docs/stable/user_guide/indexing.html#returning-a-view-versus-a-copy\n",
      "D:\\Anaconda\\Anaconda\\lib\\site-packages\\ipykernel_launcher.py:36: SettingWithCopyWarning: \n",
      "A value is trying to be set on a copy of a slice from a DataFrame\n",
      "\n",
      "See the caveats in the documentation: https://pandas.pydata.org/pandas-docs/stable/user_guide/indexing.html#returning-a-view-versus-a-copy\n"
     ]
    }
   ],
   "source": [
    "# Для пустых сразу считаем среднее\n",
    "authors_sum_v_d['[]'] = authors_sum_v_d['[]'] / authors_count_d['[]']\n",
    "authors_sum_d_d['[]'] = authors_sum_d_d['[]'] / authors_count_d['[]']\n",
    "authors_sum_frp_d['[]'] = authors_sum_frp_d['[]'] / authors_count_d['[]']\n",
    "\n",
    "# По каждой строке\n",
    "for i in range(df_train.shape[0]):\n",
    "    \n",
    "    # Если нет тега\n",
    "    if df_train.authors[i] == \"[]\":\n",
    "        df_train['views_mean_authors'][i] = authors_sum_v_d['[]']\n",
    "        df_train['depth_mean_authors'][i] = authors_sum_d_d['[]']\n",
    "        df_train['frp_mean_authors'][i] = authors_sum_frp_d['[]']\n",
    "        continue\n",
    "    \n",
    "    maximum_v = 0\n",
    "    maximum_d = 0\n",
    "    maximum_frp = 0\n",
    "    # Если тег есть, парсим его для выделения занчений тегов    \n",
    "    for x in df_train.authors[i].split(\"['\")[1].split(\"']\")[0].split(\"','\"):\n",
    "        # Считаем среднее значение для данного тега\n",
    "        mean_v = authors_sum_v_d[x] / authors_count_d[x]\n",
    "        mean_d = authors_sum_d_d[x] / authors_count_d[x]\n",
    "        mean_frp = authors_sum_frp_d[x] / authors_count_d[x]\n",
    "        \n",
    "        # Запоминаем максимальное среднее значение\n",
    "        if mean_v > maximum_v:\n",
    "            maximum_v = mean_v\n",
    "        if mean_d > maximum_d:\n",
    "            maximum_d = mean_d\n",
    "        if mean_frp > maximum_frp:\n",
    "            maximum_frp = mean_frp\n",
    "        \n",
    "    df_train['views_mean_authors'][i] = maximum_v\n",
    "    df_train['depth_mean_authors'][i] = maximum_d\n",
    "    df_train['frp_mean_authors'][i] = maximum_frp"
   ]
  },
  {
   "cell_type": "markdown",
   "metadata": {},
   "source": [
    "Аналогично для теста:"
   ]
  },
  {
   "cell_type": "code",
   "execution_count": 286,
   "metadata": {},
   "outputs": [
    {
     "name": "stderr",
     "output_type": "stream",
     "text": [
      "D:\\Anaconda\\Anaconda\\lib\\site-packages\\ipykernel_launcher.py:15: SettingWithCopyWarning: \n",
      "A value is trying to be set on a copy of a slice from a DataFrame\n",
      "\n",
      "See the caveats in the documentation: https://pandas.pydata.org/pandas-docs/stable/user_guide/indexing.html#returning-a-view-versus-a-copy\n",
      "  from ipykernel import kernelapp as app\n",
      "D:\\Anaconda\\Anaconda\\lib\\site-packages\\ipykernel_launcher.py:16: SettingWithCopyWarning: \n",
      "A value is trying to be set on a copy of a slice from a DataFrame\n",
      "\n",
      "See the caveats in the documentation: https://pandas.pydata.org/pandas-docs/stable/user_guide/indexing.html#returning-a-view-versus-a-copy\n",
      "  app.launch_new_instance()\n",
      "D:\\Anaconda\\Anaconda\\lib\\site-packages\\ipykernel_launcher.py:17: SettingWithCopyWarning: \n",
      "A value is trying to be set on a copy of a slice from a DataFrame\n",
      "\n",
      "See the caveats in the documentation: https://pandas.pydata.org/pandas-docs/stable/user_guide/indexing.html#returning-a-view-versus-a-copy\n",
      "D:\\Anaconda\\Anaconda\\lib\\site-packages\\ipykernel_launcher.py:46: SettingWithCopyWarning: \n",
      "A value is trying to be set on a copy of a slice from a DataFrame\n",
      "\n",
      "See the caveats in the documentation: https://pandas.pydata.org/pandas-docs/stable/user_guide/indexing.html#returning-a-view-versus-a-copy\n",
      "D:\\Anaconda\\Anaconda\\lib\\site-packages\\ipykernel_launcher.py:47: SettingWithCopyWarning: \n",
      "A value is trying to be set on a copy of a slice from a DataFrame\n",
      "\n",
      "See the caveats in the documentation: https://pandas.pydata.org/pandas-docs/stable/user_guide/indexing.html#returning-a-view-versus-a-copy\n",
      "D:\\Anaconda\\Anaconda\\lib\\site-packages\\ipykernel_launcher.py:48: SettingWithCopyWarning: \n",
      "A value is trying to be set on a copy of a slice from a DataFrame\n",
      "\n",
      "See the caveats in the documentation: https://pandas.pydata.org/pandas-docs/stable/user_guide/indexing.html#returning-a-view-versus-a-copy\n"
     ]
    }
   ],
   "source": [
    "df_test['views_mean_authors'] = -1.0\n",
    "df_test['depth_mean_authors'] = -1.0\n",
    "df_test['frp_mean_authors'] = -1.0\n",
    "\n",
    "## Для пустых сразу считаем среднее\n",
    "#authors_sum_v_d['[]'] = authors_sum_v_d['[]'] / authors_count_d['[]']\n",
    "#authors_sum_d_d['[]'] = authors_sum_d_d['[]'] / authors_count_d['[]']\n",
    "#authors_sum_frp_d['[]'] = authors_sum_frp_d['[]'] / authors_count_d['[]']\n",
    "\n",
    "# По каждой строке\n",
    "for i in range(df_test.shape[0]):\n",
    "    \n",
    "    # Если нет тега\n",
    "    if df_test.authors[i] == \"[]\":\n",
    "        df_test['views_mean_authors'][i] = authors_sum_v_d['[]']\n",
    "        df_test['depth_mean_authors'][i] = authors_sum_d_d['[]']\n",
    "        df_test['frp_mean_authors'][i] = authors_sum_frp_d['[]']\n",
    "        continue\n",
    "    \n",
    "    maximum_v = 0\n",
    "    maximum_d = 0\n",
    "    maximum_frp = 0\n",
    "    # Если тег есть, парсим его для выделения занчений тегов    \n",
    "    for x in df_test.authors[i].split(\"['\")[1].split(\"']\")[0].split(\"','\"):\n",
    "        \n",
    "        # Если встретили незнакомый тег:\n",
    "        if x not in tags_count_d.keys():\n",
    "            mean_v = 0\n",
    "            mean_d = 0\n",
    "            mean_frp = 0\n",
    "            continue\n",
    "        \n",
    "        # Считаем среднее значение для данного тега\n",
    "        mean_v = authors_sum_v_d[x] / authors_count_d[x]\n",
    "        mean_d = authors_sum_d_d[x] / authors_count_d[x]\n",
    "        mean_frp = authors_sum_frp_d[x] / authors_count_d[x]\n",
    "        \n",
    "        # Запоминаем максимальное среднее значение\n",
    "        if mean_v > maximum_v:\n",
    "            maximum_v = mean_v\n",
    "        if mean_d > maximum_d:\n",
    "            maximum_d = mean_d\n",
    "        if mean_frp > maximum_frp:\n",
    "            maximum_frp = mean_frp\n",
    "        \n",
    "    df_test['views_mean_authors'][i] = maximum_v\n",
    "    df_test['depth_mean_authors'][i] = maximum_d\n",
    "    df_test['frp_mean_authors'][i] = maximum_frp"
   ]
  },
  {
   "cell_type": "code",
   "execution_count": 287,
   "metadata": {},
   "outputs": [
    {
     "data": {
      "text/plain": [
       "1771"
      ]
     },
     "execution_count": 287,
     "metadata": {},
     "output_type": "execute_result"
    }
   ],
   "source": [
    "len(df_test[df_test['views_mean_authors'] == 0])"
   ]
  },
  {
   "cell_type": "markdown",
   "metadata": {},
   "source": [
    "Большая часть авторов - новая"
   ]
  },
  {
   "cell_type": "code",
   "execution_count": 295,
   "metadata": {},
   "outputs": [
    {
     "name": "stderr",
     "output_type": "stream",
     "text": [
      "D:\\Anaconda\\Anaconda\\lib\\site-packages\\ipykernel_launcher.py:1: SettingWithCopyWarning: \n",
      "A value is trying to be set on a copy of a slice from a DataFrame\n",
      "\n",
      "See the caveats in the documentation: https://pandas.pydata.org/pandas-docs/stable/user_guide/indexing.html#returning-a-view-versus-a-copy\n",
      "  \"\"\"Entry point for launching an IPython kernel.\n",
      "D:\\Anaconda\\Anaconda\\lib\\site-packages\\ipykernel_launcher.py:2: SettingWithCopyWarning: \n",
      "A value is trying to be set on a copy of a slice from a DataFrame\n",
      "\n",
      "See the caveats in the documentation: https://pandas.pydata.org/pandas-docs/stable/user_guide/indexing.html#returning-a-view-versus-a-copy\n",
      "  \n",
      "D:\\Anaconda\\Anaconda\\lib\\site-packages\\ipykernel_launcher.py:3: SettingWithCopyWarning: \n",
      "A value is trying to be set on a copy of a slice from a DataFrame\n",
      "\n",
      "See the caveats in the documentation: https://pandas.pydata.org/pandas-docs/stable/user_guide/indexing.html#returning-a-view-versus-a-copy\n",
      "  This is separate from the ipykernel package so we can avoid doing imports until\n"
     ]
    }
   ],
   "source": [
    "df_test['views_mean_authors'][df_test['views_mean_authors'] == 0] = df_test['views_mean_authors'][df_test['views_mean_authors'] != 0].median()\n",
    "df_test['depth_mean_authors'][df_test['depth_mean_authors'] == 0] = df_test['depth_mean_authors'][df_test['views_mean_authors'] != 0].median()\n",
    "df_test['frp_mean_authors'][df_test['frp_mean_authors'] == 0] = df_test['frp_mean_authors'][df_test['views_mean_authors'] != 0].median()"
   ]
  },
  {
   "cell_type": "code",
   "execution_count": 296,
   "metadata": {},
   "outputs": [
    {
     "data": {
      "text/plain": [
       "0"
      ]
     },
     "execution_count": 296,
     "metadata": {},
     "output_type": "execute_result"
    }
   ],
   "source": [
    "len(df_test[df_test['views_mean_authors'] == 0])"
   ]
  },
  {
   "cell_type": "markdown",
   "metadata": {},
   "source": [
    "Выделяем X и y"
   ]
  },
  {
   "cell_type": "code",
   "execution_count": 298,
   "metadata": {},
   "outputs": [],
   "source": [
    "X = df_train.drop(['title', 'publish_date', 'session', 'authors', 'category', 'tags',\n",
    "                  'views', 'depth', 'full_reads_percent'], axis = 1)\n",
    "\n",
    "y = df_train[['views', 'depth', 'full_reads_percent']]"
   ]
  },
  {
   "cell_type": "code",
   "execution_count": 34,
   "metadata": {},
   "outputs": [],
   "source": [
    "# X_train, X_test, y_train, y_test = train_test_split(X, y, test_size=0.3, random_state=42)"
   ]
  },
  {
   "cell_type": "code",
   "execution_count": 299,
   "metadata": {},
   "outputs": [],
   "source": [
    "model_views = xg.XGBRegressor()\n",
    "model_depth = xg.XGBRegressor()\n",
    "model_full_reads_percent = xg.XGBRegressor()"
   ]
  },
  {
   "cell_type": "markdown",
   "metadata": {},
   "source": [
    "Проверка нужных фичей для первой модели"
   ]
  },
  {
   "cell_type": "code",
   "execution_count": 314,
   "metadata": {
    "scrolled": true
   },
   "outputs": [
    {
     "name": "stdout",
     "output_type": "stream",
     "text": [
      "Используя все фичи:  0.5173791650355881\n",
      "Без  ctr : 0.6504322704290704\n",
      "Без  category_code : 0.5152585450705859\n",
      "Без  session_code : 0.5155873233487548\n",
      "Без  authors_code : 0.4344493493407959\n",
      "Без  n_authors : 0.5056904515271912\n",
      "Без  n_tags : 0.4261323804699596\n",
      "Без  day : 0.4945456227922881\n",
      "Без  mounth : 0.44914306994291603\n",
      "Без  year : 0.5125086025659341\n",
      "Без  views_median_cat : 0.5110781213024427\n",
      "Без  depth_median_cat : 0.5228167596252941\n",
      "Без  full_reads_percent_median_cat : 0.5125338269612407\n",
      "Без  views_mean_tags : 0.5739646770876188\n",
      "Без  depth_mean_tags : 0.48492458776591896\n",
      "Без  frp_mean_tags : 0.5388300605723161\n",
      "Худшая фича прогона:  ctr\n",
      "Максимальный скор прогона:  0.6504322704290704\n",
      "\n",
      "Без  category_code : 0.6510252256092233\n",
      "Без  session_code : 0.6551139549375221\n",
      "Без  authors_code : 0.6025373671526685\n",
      "Без  n_authors : 0.6684893227903455\n",
      "Без  n_tags : -0.16623837558864826\n",
      "Без  day : 0.6613352623501593\n",
      "Без  mounth : 0.5744241179833628\n",
      "Без  year : 0.6506021135983927\n",
      "Без  views_median_cat : 0.6521769133154451\n",
      "Без  depth_median_cat : 0.655400347615975\n",
      "Без  full_reads_percent_median_cat : 0.6634876290168338\n",
      "Без  views_mean_tags : 0.5317693032696023\n",
      "Без  depth_mean_tags : 0.6609385844077025\n",
      "Без  frp_mean_tags : 0.4202031720555285\n",
      "Худшая фича прогона:  n_authors\n",
      "Максимальный скор прогона:  0.6684893227903455\n",
      "\n",
      "Без  category_code : 0.667204616637708\n",
      "Без  session_code : 0.6512506931809983\n",
      "Без  authors_code : 0.2979581250399005\n",
      "Без  n_tags : -0.22510253479102804\n",
      "Без  day : 0.6486980334722041\n",
      "Без  mounth : 0.5891578890118315\n",
      "Без  year : 0.6649506652724935\n",
      "Без  views_median_cat : 0.6702323343976494\n",
      "Без  depth_median_cat : 0.6652518871504473\n",
      "Без  full_reads_percent_median_cat : 0.6591171113406331\n",
      "Без  views_mean_tags : 0.5040715566160892\n",
      "Без  depth_mean_tags : 0.6423994540021494\n",
      "Без  frp_mean_tags : 0.4251506753482232\n",
      "Худшая фича прогона:  views_median_cat\n",
      "Максимальный скор прогона:  0.6702323343976494\n",
      "\n",
      "Без  category_code : 0.6751856340117465\n",
      "Без  session_code : 0.6442532387412101\n",
      "Без  authors_code : 0.28787826216131807\n",
      "Без  n_tags : -0.2153109165165458\n",
      "Без  day : 0.6546839723604713\n",
      "Без  mounth : 0.5968733448676566\n",
      "Без  year : 0.6678463459743147\n",
      "Без  depth_median_cat : 0.6593205094873662\n",
      "Без  full_reads_percent_median_cat : 0.6638913284430734\n",
      "Без  views_mean_tags : 0.4964450436011725\n",
      "Без  depth_mean_tags : 0.6457415877857495\n",
      "Без  frp_mean_tags : 0.42598027304688735\n",
      "Худшая фича прогона:  category_code\n",
      "Максимальный скор прогона:  0.6751856340117465\n",
      "\n",
      "Без  session_code : 0.6512679999907813\n",
      "Без  authors_code : 0.27388466366259395\n",
      "Без  n_tags : -0.1869602879834051\n",
      "Без  day : 0.6559525554316961\n",
      "Без  mounth : 0.5927911978042164\n",
      "Без  year : 0.6747831142880318\n",
      "Без  depth_median_cat : 0.6657533253637969\n",
      "Без  full_reads_percent_median_cat : 0.6641016284860898\n",
      "Без  views_mean_tags : 0.5174180810756152\n",
      "Без  depth_mean_tags : 0.6455810070492933\n",
      "Без  frp_mean_tags : 0.42695833864552846\n",
      "Худшая фича прогона:  None\n",
      "Максимальный скор прогона:  0.6751856340117465\n",
      "\n",
      "Итоговые фичи:  Index(['session_code', 'authors_code', 'n_tags', 'day', 'mounth', 'year',\n",
      "       'depth_median_cat', 'full_reads_percent_median_cat', 'views_mean_tags',\n",
      "       'depth_mean_tags', 'frp_mean_tags'],\n",
      "      dtype='object')\n",
      "Wall time: 4min 22s\n"
     ]
    }
   ],
   "source": [
    "%%time\n",
    "\n",
    "X_tmp = X.copy()\n",
    "X_tmp = X_tmp.drop(['views_mean_authors','depth_mean_authors', 'frp_mean_authors'], axis = 1)\n",
    "\n",
    "scores_v = cross_validate(model_views, X_tmp, y['views'], cv=5, scoring='r2')\n",
    "just_score = scores_v['test_score'].mean()\n",
    "print('Используя все фичи: ', just_score)\n",
    "\n",
    "max_score = just_score\n",
    "\n",
    "while True:\n",
    "    \n",
    "    worsed_fiature = 'None'\n",
    "    \n",
    "    for fiature in X_tmp.columns:\n",
    "        model_1 = xg.XGBRegressor()\n",
    "        scores_v = cross_validate(model_1, \n",
    "                                  X_tmp.drop(fiature, axis = 1),\n",
    "                                  y['views'], cv=5, scoring='r2')\n",
    "        print('Без ',fiature,':', scores_v['test_score'].mean())\n",
    "        \n",
    "        if scores_v['test_score'].mean() > max_score:\n",
    "            max_score = scores_v['test_score'].mean()\n",
    "            worsed_fiature = fiature\n",
    "    print('Худшая фича прогона: ', worsed_fiature)\n",
    "    print('Максимальный скор прогона: ', max_score)\n",
    "    print()\n",
    "    \n",
    "    # Если улучшений нет, оставляем как есть\n",
    "    if worsed_fiature == 'None':\n",
    "        break\n",
    "    X_tmp = X_tmp.drop(worsed_fiature, axis = 1)\n",
    "print(\"Итоговые фичи: \", X_tmp.columns)\n",
    "\n",
    "\n",
    "# Максимальный скор прогона:  0.6692638219008774\n",
    "# Итоговые фичи:  Index(['session_code', 'authors_code', 'n_authors', 'n_tags', 'day', 'mounth',\n",
    "#        'year', 'views_median_cat', 'depth_median_cat', 'views_mean_tags',\n",
    "#        'depth_mean_tags', 'frp_mean_tags', 'views_mean_authors',\n",
    "#        'depth_mean_authors', 'frp_mean_authors'],\n",
    "#       dtype='object')"
   ]
  },
  {
   "cell_type": "markdown",
   "metadata": {},
   "source": [
    "Аналогично для Depth"
   ]
  },
  {
   "cell_type": "code",
   "execution_count": 315,
   "metadata": {
    "scrolled": true
   },
   "outputs": [
    {
     "name": "stdout",
     "output_type": "stream",
     "text": [
      "Используя все фичи:  0.8012668732140735\n",
      "Без  ctr : 0.7898202710356479\n",
      "Без  category_code : 0.8021212218690479\n",
      "Без  session_code : 0.8040783936393396\n",
      "Без  authors_code : 0.803326678812916\n",
      "Без  n_authors : 0.8027247441772134\n",
      "Без  n_tags : 0.8039918626499297\n",
      "Без  day : 0.681190794822328\n",
      "Без  mounth : 0.5458135334619263\n",
      "Без  year : 0.8031685809692858\n",
      "Без  views_median_cat : 0.7992875861699869\n",
      "Без  depth_median_cat : 0.8016633853832371\n",
      "Без  full_reads_percent_median_cat : 0.8029295800424568\n",
      "Без  views_mean_tags : 0.8009013821133365\n",
      "Без  depth_mean_tags : 0.7695783377456925\n",
      "Без  frp_mean_tags : 0.8041778735989527\n",
      "Худшая фича прогона:  frp_mean_tags\n",
      "Максимальный скор прогона:  0.8041778735989527\n",
      "\n",
      "Без  ctr : 0.7854708020770802\n",
      "Без  category_code : 0.8040227763179495\n",
      "Без  session_code : 0.8006588005556348\n",
      "Без  authors_code : 0.8011905103192773\n",
      "Без  n_authors : 0.7998008064859887\n",
      "Без  n_tags : 0.8044848461169032\n",
      "Без  day : 0.6802891289182919\n",
      "Без  mounth : 0.5416820981489279\n",
      "Без  year : 0.80116757846682\n",
      "Без  views_median_cat : 0.8030298055383419\n",
      "Без  depth_median_cat : 0.803225358817793\n",
      "Без  full_reads_percent_median_cat : 0.8043712387179284\n",
      "Без  views_mean_tags : 0.8004307873279111\n",
      "Без  depth_mean_tags : 0.7485781666790523\n",
      "Худшая фича прогона:  n_tags\n",
      "Максимальный скор прогона:  0.8044848461169032\n",
      "\n",
      "Без  ctr : 0.7246285912330341\n",
      "Без  category_code : 0.8053943855896397\n",
      "Без  session_code : 0.8004461117444486\n",
      "Без  authors_code : 0.8084639745343519\n",
      "Без  n_authors : 0.8016969868750152\n",
      "Без  day : 0.6832445893911494\n",
      "Без  mounth : 0.5379981220067165\n",
      "Без  year : 0.8017048537751219\n",
      "Без  views_median_cat : 0.8054236732178637\n",
      "Без  depth_median_cat : 0.8052176928318676\n",
      "Без  full_reads_percent_median_cat : 0.8056447615949273\n",
      "Без  views_mean_tags : 0.8017136107388365\n",
      "Без  depth_mean_tags : 0.7519348485005648\n",
      "Худшая фича прогона:  authors_code\n",
      "Максимальный скор прогона:  0.8084639745343519\n",
      "\n",
      "Без  ctr : 0.7316659575987441\n",
      "Без  category_code : 0.8099395857789858\n",
      "Без  session_code : 0.8018579286837626\n",
      "Без  n_authors : 0.7989810882224961\n",
      "Без  day : 0.6832458498982368\n",
      "Без  mounth : 0.5315141902468012\n",
      "Без  year : 0.8083340821512927\n",
      "Без  views_median_cat : 0.8092753053449065\n",
      "Без  depth_median_cat : 0.8081405494490566\n",
      "Без  full_reads_percent_median_cat : 0.8088007209799872\n",
      "Без  views_mean_tags : 0.8020308695732672\n",
      "Без  depth_mean_tags : 0.752935031808894\n",
      "Худшая фича прогона:  category_code\n",
      "Максимальный скор прогона:  0.8099395857789858\n",
      "\n",
      "Без  ctr : 0.7271133845615337\n",
      "Без  session_code : 0.8044021205356243\n",
      "Без  n_authors : 0.7999036808142799\n",
      "Без  day : 0.6822202613432512\n",
      "Без  mounth : 0.5340303006532744\n",
      "Без  year : 0.8096216568232115\n",
      "Без  views_median_cat : 0.8064043568864818\n",
      "Без  depth_median_cat : 0.8101917604343264\n",
      "Без  full_reads_percent_median_cat : 0.8070330421953671\n",
      "Без  views_mean_tags : 0.8048904761699232\n",
      "Без  depth_mean_tags : 0.7503476349976975\n",
      "Худшая фича прогона:  depth_median_cat\n",
      "Максимальный скор прогона:  0.8101917604343264\n",
      "\n",
      "Без  ctr : 0.717638832918529\n",
      "Без  session_code : 0.8025612968450926\n",
      "Без  n_authors : 0.7967178980872802\n",
      "Без  day : 0.680241760321323\n",
      "Без  mounth : 0.5336154538205101\n",
      "Без  year : 0.8099757127392859\n",
      "Без  views_median_cat : 0.8070733450989704\n",
      "Без  full_reads_percent_median_cat : 0.8057718357472448\n",
      "Без  views_mean_tags : 0.802815304158352\n",
      "Без  depth_mean_tags : 0.7569699796607585\n",
      "Худшая фича прогона:  None\n",
      "Максимальный скор прогона:  0.8101917604343264\n",
      "\n",
      "Итоговые фичи:  Index(['ctr', 'session_code', 'n_authors', 'day', 'mounth', 'year',\n",
      "       'views_median_cat', 'full_reads_percent_median_cat', 'views_mean_tags',\n",
      "       'depth_mean_tags'],\n",
      "      dtype='object')\n",
      "Wall time: 3min 18s\n"
     ]
    }
   ],
   "source": [
    "%%time\n",
    "\n",
    "X_tmp = X.copy()\n",
    "X_tmp = X_tmp.drop(['views_mean_authors','depth_mean_authors', 'frp_mean_authors'], axis = 1)\n",
    "\n",
    "scores_v = cross_validate(model_depth, X_tmp, y['depth'], cv=5, scoring='r2')\n",
    "just_score = scores_v['test_score'].mean()\n",
    "print('Используя все фичи: ', just_score)\n",
    "\n",
    "max_score = just_score\n",
    "\n",
    "while True:\n",
    "    \n",
    "    worsed_fiature = 'None'\n",
    "    \n",
    "    for fiature in X_tmp.columns:\n",
    "        model_1 = xg.XGBRegressor()\n",
    "        scores_v = cross_validate(model_1, \n",
    "                                  X_tmp.drop(fiature, axis = 1),\n",
    "                                  y['depth'], cv=5, scoring='r2')\n",
    "        print('Без ',fiature,':', scores_v['test_score'].mean())\n",
    "        \n",
    "        if scores_v['test_score'].mean() > max_score:\n",
    "            max_score = scores_v['test_score'].mean()\n",
    "            worsed_fiature = fiature\n",
    "    print('Худшая фича прогона: ', worsed_fiature)\n",
    "    print('Максимальный скор прогона: ', max_score)\n",
    "    print()\n",
    "    \n",
    "    # Если улучшений нет, оставляем как есть\n",
    "    if worsed_fiature == 'None':\n",
    "        break\n",
    "    X_tmp = X_tmp.drop(worsed_fiature, axis = 1)\n",
    "print(\"Итоговые фичи: \", X_tmp.columns)\n",
    "\n",
    "# Максимальный скор прогона:  0.8099143688505638\n",
    "# \n",
    "# Итоговые фичи:  Index(['ctr', 'category_code', 'session_code', 'authors_code', 'n_authors',\n",
    "#        'day', 'mounth', 'views_median_cat', 'depth_median_cat',\n",
    "#        'full_reads_percent_median_cat', 'views_mean_tags', 'depth_mean_tags',\n",
    "#        'frp_mean_tags', 'views_mean_authors', 'depth_mean_authors',\n",
    "#        'frp_mean_authors'],\n",
    "#       dtype='object')"
   ]
  },
  {
   "cell_type": "markdown",
   "metadata": {},
   "source": [
    "И для FRP"
   ]
  },
  {
   "cell_type": "code",
   "execution_count": 316,
   "metadata": {
    "scrolled": true
   },
   "outputs": [
    {
     "name": "stdout",
     "output_type": "stream",
     "text": [
      "Используя все фичи:  0.4583854555793245\n",
      "Без  ctr : 0.42839651265545003\n",
      "Без  category_code : 0.45418101711556014\n",
      "Без  session_code : 0.45607875604037795\n",
      "Без  authors_code : 0.43840354955587524\n",
      "Без  n_authors : 0.4560942967572975\n",
      "Без  n_tags : 0.4534257434184113\n",
      "Без  day : 0.45031121804867313\n",
      "Без  mounth : 0.43451766984535906\n",
      "Без  year : 0.45924496504312484\n",
      "Без  views_median_cat : 0.4501437410691331\n",
      "Без  depth_median_cat : 0.45681538083801076\n",
      "Без  full_reads_percent_median_cat : 0.45107658356086705\n",
      "Без  views_mean_tags : 0.45708376567083986\n",
      "Без  depth_mean_tags : 0.45794542341127287\n",
      "Без  frp_mean_tags : 0.3027289321971957\n",
      "Худшая фича прогона:  year\n",
      "Максимальный скор прогона:  0.45924496504312484\n",
      "\n",
      "Без  ctr : 0.42771096198363745\n",
      "Без  category_code : 0.4540210592765039\n",
      "Без  session_code : 0.4597263122190395\n",
      "Без  authors_code : 0.44021571536123805\n",
      "Без  n_authors : 0.4579277710625568\n",
      "Без  n_tags : 0.45070686856238906\n",
      "Без  day : 0.45080913328725103\n",
      "Без  mounth : 0.43485375897356304\n",
      "Без  views_median_cat : 0.44927567317834505\n",
      "Без  depth_median_cat : 0.4562224574115625\n",
      "Без  full_reads_percent_median_cat : 0.4514369098674297\n",
      "Без  views_mean_tags : 0.45537838604357816\n",
      "Без  depth_mean_tags : 0.45570864598828226\n",
      "Без  frp_mean_tags : 0.301750105948886\n",
      "Худшая фича прогона:  session_code\n",
      "Максимальный скор прогона:  0.4597263122190395\n",
      "\n",
      "Без  ctr : 0.42880444995954\n",
      "Без  category_code : 0.46065429005456426\n",
      "Без  authors_code : 0.4395625391935839\n",
      "Без  n_authors : 0.4567693923873472\n",
      "Без  n_tags : 0.4473089079310467\n",
      "Без  day : 0.4589004556722419\n",
      "Без  mounth : 0.4398125267052359\n",
      "Без  views_median_cat : 0.458592218398662\n",
      "Без  depth_median_cat : 0.4643790642936191\n",
      "Без  full_reads_percent_median_cat : 0.4595023752181967\n",
      "Без  views_mean_tags : 0.464605209947918\n",
      "Без  depth_mean_tags : 0.45673127784315926\n",
      "Без  frp_mean_tags : 0.3102895639942759\n",
      "Худшая фича прогона:  views_mean_tags\n",
      "Максимальный скор прогона:  0.464605209947918\n",
      "\n",
      "Без  ctr : 0.42894705550168155\n",
      "Без  category_code : 0.45731679436610567\n",
      "Без  authors_code : 0.4349677163899967\n",
      "Без  n_authors : 0.4554775586066072\n",
      "Без  n_tags : 0.4538344840441412\n",
      "Без  day : 0.4536010584532483\n",
      "Без  mounth : 0.43156230781022825\n",
      "Без  views_median_cat : 0.46428740973030297\n",
      "Без  depth_median_cat : 0.4588009452497439\n",
      "Без  full_reads_percent_median_cat : 0.459158184018432\n",
      "Без  depth_mean_tags : 0.4612062310635167\n",
      "Без  frp_mean_tags : 0.30084863358234754\n",
      "Худшая фича прогона:  None\n",
      "Максимальный скор прогона:  0.464605209947918\n",
      "\n",
      "Итоговые фичи:  Index(['ctr', 'category_code', 'authors_code', 'n_authors', 'n_tags', 'day',\n",
      "       'mounth', 'views_median_cat', 'depth_median_cat',\n",
      "       'full_reads_percent_median_cat', 'depth_mean_tags', 'frp_mean_tags'],\n",
      "      dtype='object')\n",
      "Wall time: 2min 21s\n"
     ]
    }
   ],
   "source": [
    "%%time\n",
    "\n",
    "X_tmp = X.copy()\n",
    "X_tmp = X_tmp.drop(['views_mean_authors','depth_mean_authors', 'frp_mean_authors'], axis = 1)\n",
    "\n",
    "scores_v = cross_validate(model_depth, X_tmp, y['full_reads_percent'], cv=5, scoring='r2')\n",
    "just_score = scores_v['test_score'].mean()\n",
    "print('Используя все фичи: ', just_score)\n",
    "\n",
    "max_score = just_score\n",
    "\n",
    "while True:\n",
    "    \n",
    "    worsed_fiature = 'None'\n",
    "    \n",
    "    for fiature in X_tmp.columns:\n",
    "        model_1 = xg.XGBRegressor()\n",
    "        scores_v = cross_validate(model_1, \n",
    "                                  X_tmp.drop(fiature, axis = 1),\n",
    "                                  y['full_reads_percent'], cv=5, scoring='r2')\n",
    "        print('Без ',fiature,':', scores_v['test_score'].mean())\n",
    "        \n",
    "        if scores_v['test_score'].mean() > max_score:\n",
    "            max_score = scores_v['test_score'].mean()\n",
    "            worsed_fiature = fiature\n",
    "    print('Худшая фича прогона: ', worsed_fiature)\n",
    "    print('Максимальный скор прогона: ', max_score)\n",
    "    print()\n",
    "    \n",
    "    # Если улучшений нет, оставляем как есть\n",
    "    if worsed_fiature == 'None':\n",
    "        break\n",
    "    X_tmp = X_tmp.drop(worsed_fiature, axis = 1)\n",
    "print(\"Итоговые фичи: \", X_tmp.columns)\n",
    "\n",
    "#Максимальный скор прогона:  0.4699530691376152\n",
    "#\n",
    "#Итоговые фичи:  Index(['ctr', 'category_code', 'session_code', 'authors_code', 'n_authors',\n",
    "#       'n_tags', 'day', 'mounth', 'year', 'views_median_cat',\n",
    "#       'depth_median_cat', 'full_reads_percent_median_cat', 'views_mean_tags',\n",
    "#       'depth_mean_tags', 'frp_mean_tags', 'views_mean_authors',\n",
    "#       'frp_mean_authors'],\n",
    "#      dtype='object')"
   ]
  },
  {
   "cell_type": "code",
   "execution_count": 226,
   "metadata": {},
   "outputs": [
    {
     "data": {
      "text/plain": [
       "0.6516657601568047"
      ]
     },
     "execution_count": 226,
     "metadata": {},
     "output_type": "execute_result"
    }
   ],
   "source": [
    "0.4 * 0.6692638219008774 + 0.3 * 0.8099143688505638 + 0.3 * 0.4699530691376152"
   ]
  },
  {
   "cell_type": "markdown",
   "metadata": {},
   "source": [
    "Создаем предсказание"
   ]
  },
  {
   "cell_type": "code",
   "execution_count": 302,
   "metadata": {
    "scrolled": true
   },
   "outputs": [
    {
     "name": "stdout",
     "output_type": "stream",
     "text": [
      "Wall time: 2.5 s\n"
     ]
    },
    {
     "data": {
      "text/plain": [
       "XGBRegressor(base_score=0.5, booster='gbtree', colsample_bylevel=1,\n",
       "             colsample_bynode=1, colsample_bytree=1, enable_categorical=False,\n",
       "             gamma=0, gpu_id=-1, importance_type=None,\n",
       "             interaction_constraints='', learning_rate=0.300000012,\n",
       "             max_delta_step=0, max_depth=6, min_child_weight=1, missing=nan,\n",
       "             monotone_constraints='()', n_estimators=100, n_jobs=8,\n",
       "             num_parallel_tree=1, objective='reg:squarederror',\n",
       "             predictor='auto', random_state=0, reg_alpha=0, reg_lambda=1,\n",
       "             scale_pos_weight=1, subsample=1, tree_method='exact',\n",
       "             validate_parameters=1, verbosity=None)"
      ]
     },
     "execution_count": 302,
     "metadata": {},
     "output_type": "execute_result"
    }
   ],
   "source": [
    "%%time\n",
    "# Для view:\n",
    "# session_code', 'authors_code', 'n_authors', 'n_tags', 'day', 'mounth',\n",
    "#        'year', 'views_median_cat', 'depth_median_cat', 'views_mean_tags',\n",
    "#        'depth_mean_tags', 'frp_mean_tags', 'views_mean_authors',\n",
    "#        'depth_mean_authors', 'frp_mean_authors\n",
    "model_views.fit(X[['session_code', 'authors_code', 'n_authors', 'n_tags', 'day', 'mounth',\n",
    "                  'year', 'views_median_cat', 'depth_median_cat', 'views_mean_tags',\n",
    "                  'depth_mean_tags', 'frp_mean_tags', 'views_mean_authors',\n",
    "                  'depth_mean_authors', 'frp_mean_authors']] , y['views'])\n",
    "# Для depth:\n",
    "#['ctr', 'category_code', 'session_code', 'authors_code', 'n_authors',\n",
    "#        'day', 'mounth', 'views_median_cat', 'depth_median_cat',\n",
    "#        'full_reads_percent_median_cat', 'views_mean_tags', 'depth_mean_tags',\n",
    "#        'frp_mean_tags', 'views_mean_authors', 'depth_mean_authors',\n",
    "#        'frp_mean_authors']\n",
    "model_depth.fit(X[['ctr', 'category_code', 'session_code', 'authors_code', 'n_authors',\n",
    "                   'day', 'mounth', 'views_median_cat', 'depth_median_cat',\n",
    "                   'full_reads_percent_median_cat', 'views_mean_tags', 'depth_mean_tags',\n",
    "                   'frp_mean_tags', 'views_mean_authors', 'depth_mean_authors',\n",
    "                   'frp_mean_authors']], y['depth'])\n",
    "# Для full_reads_percent:\n",
    "# ['ctr', 'category_code', 'session_code', 'authors_code', 'n_authors',\n",
    "#       'n_tags', 'day', 'mounth', 'year', 'views_median_cat',\n",
    "#       'depth_median_cat', 'full_reads_percent_median_cat', 'views_mean_tags',\n",
    "#       'depth_mean_tags', 'frp_mean_tags', 'views_mean_authors',\n",
    "#       'frp_mean_authors']\n",
    "model_full_reads_percent.fit(X[['ctr', 'category_code', 'session_code', 'authors_code', 'n_authors',\n",
    "                                'n_tags', 'day', 'mounth', 'year', 'views_median_cat',\n",
    "                                'depth_median_cat', 'full_reads_percent_median_cat', 'views_mean_tags',\n",
    "                                'depth_mean_tags', 'frp_mean_tags', 'views_mean_authors',\n",
    "                                'frp_mean_authors']], y['full_reads_percent'])"
   ]
  },
  {
   "cell_type": "code",
   "execution_count": 54,
   "metadata": {},
   "outputs": [],
   "source": [
    "test_df = df_test.drop([\"title\", \"publish_date\", \"session\", \"tags\", \"authors\", \"category\"], axis = 1)"
   ]
  },
  {
   "cell_type": "code",
   "execution_count": 55,
   "metadata": {},
   "outputs": [
    {
     "data": {
      "text/html": [
       "<div>\n",
       "<style scoped>\n",
       "    .dataframe tbody tr th:only-of-type {\n",
       "        vertical-align: middle;\n",
       "    }\n",
       "\n",
       "    .dataframe tbody tr th {\n",
       "        vertical-align: top;\n",
       "    }\n",
       "\n",
       "    .dataframe thead th {\n",
       "        text-align: right;\n",
       "    }\n",
       "</style>\n",
       "<table border=\"1\" class=\"dataframe\">\n",
       "  <thead>\n",
       "    <tr style=\"text-align: right;\">\n",
       "      <th></th>\n",
       "      <th>ctr</th>\n",
       "      <th>category_code</th>\n",
       "      <th>session_code</th>\n",
       "      <th>authors_code</th>\n",
       "      <th>n_authors</th>\n",
       "      <th>n_tags</th>\n",
       "      <th>day</th>\n",
       "      <th>mounth</th>\n",
       "      <th>year</th>\n",
       "    </tr>\n",
       "    <tr>\n",
       "      <th>document_id</th>\n",
       "      <th></th>\n",
       "      <th></th>\n",
       "      <th></th>\n",
       "      <th></th>\n",
       "      <th></th>\n",
       "      <th></th>\n",
       "      <th></th>\n",
       "      <th></th>\n",
       "      <th></th>\n",
       "    </tr>\n",
       "  </thead>\n",
       "  <tbody>\n",
       "    <tr>\n",
       "      <th>61f9569a9a794794245a82abJ0AvX96vTAaQCiWVbzoMdw</th>\n",
       "      <td>0.000</td>\n",
       "      <td>0</td>\n",
       "      <td>2510</td>\n",
       "      <td>739</td>\n",
       "      <td>0</td>\n",
       "      <td>5</td>\n",
       "      <td>1</td>\n",
       "      <td>2</td>\n",
       "      <td>22</td>\n",
       "    </tr>\n",
       "    <tr>\n",
       "      <th>628c22b89a79470e553f594bQS5CqzXYRnmDdR2LaSreEw</th>\n",
       "      <td>1.598</td>\n",
       "      <td>0</td>\n",
       "      <td>3427</td>\n",
       "      <td>739</td>\n",
       "      <td>0</td>\n",
       "      <td>4</td>\n",
       "      <td>24</td>\n",
       "      <td>5</td>\n",
       "      <td>22</td>\n",
       "    </tr>\n",
       "    <tr>\n",
       "      <th>627cb3249a7947ebdd752865XVsoyrUOT8OJJg2_finJhw</th>\n",
       "      <td>2.006</td>\n",
       "      <td>0</td>\n",
       "      <td>4312</td>\n",
       "      <td>739</td>\n",
       "      <td>0</td>\n",
       "      <td>3</td>\n",
       "      <td>12</td>\n",
       "      <td>5</td>\n",
       "      <td>22</td>\n",
       "    </tr>\n",
       "    <tr>\n",
       "      <th>628618629a7947d4927eb812upfii3whSSuMXCqcqF8VbQ</th>\n",
       "      <td>0.000</td>\n",
       "      <td>0</td>\n",
       "      <td>7405</td>\n",
       "      <td>739</td>\n",
       "      <td>0</td>\n",
       "      <td>4</td>\n",
       "      <td>19</td>\n",
       "      <td>5</td>\n",
       "      <td>22</td>\n",
       "    </tr>\n",
       "    <tr>\n",
       "      <th>620e76109a7947235623695b5hzCiIHdSYKQIr8WAM18bw</th>\n",
       "      <td>9.136</td>\n",
       "      <td>0</td>\n",
       "      <td>852</td>\n",
       "      <td>494</td>\n",
       "      <td>1</td>\n",
       "      <td>3</td>\n",
       "      <td>17</td>\n",
       "      <td>2</td>\n",
       "      <td>22</td>\n",
       "    </tr>\n",
       "    <tr>\n",
       "      <th>...</th>\n",
       "      <td>...</td>\n",
       "      <td>...</td>\n",
       "      <td>...</td>\n",
       "      <td>...</td>\n",
       "      <td>...</td>\n",
       "      <td>...</td>\n",
       "      <td>...</td>\n",
       "      <td>...</td>\n",
       "      <td>...</td>\n",
       "    </tr>\n",
       "    <tr>\n",
       "      <th>623ba6bc9a79470214cb9418x4OZQ1IjTb27nPAgv5wAZg</th>\n",
       "      <td>1.788</td>\n",
       "      <td>4</td>\n",
       "      <td>7695</td>\n",
       "      <td>358</td>\n",
       "      <td>1</td>\n",
       "      <td>4</td>\n",
       "      <td>23</td>\n",
       "      <td>3</td>\n",
       "      <td>22</td>\n",
       "    </tr>\n",
       "    <tr>\n",
       "      <th>624fda1f9a79471a9bd102eetuRTrLPGSZyNbc9_YcBAeQ</th>\n",
       "      <td>4.427</td>\n",
       "      <td>3</td>\n",
       "      <td>7300</td>\n",
       "      <td>417</td>\n",
       "      <td>1</td>\n",
       "      <td>2</td>\n",
       "      <td>8</td>\n",
       "      <td>4</td>\n",
       "      <td>22</td>\n",
       "    </tr>\n",
       "    <tr>\n",
       "      <th>6257a6a99a79477eea75b86dtBr3UG9ORW-gOybkVKX6ww</th>\n",
       "      <td>0.000</td>\n",
       "      <td>1</td>\n",
       "      <td>7214</td>\n",
       "      <td>739</td>\n",
       "      <td>0</td>\n",
       "      <td>3</td>\n",
       "      <td>14</td>\n",
       "      <td>4</td>\n",
       "      <td>22</td>\n",
       "    </tr>\n",
       "    <tr>\n",
       "      <th>624866d59a7947421716ab46WsGDKyGjTJGRh14eR7UVvw</th>\n",
       "      <td>0.000</td>\n",
       "      <td>5</td>\n",
       "      <td>4238</td>\n",
       "      <td>739</td>\n",
       "      <td>0</td>\n",
       "      <td>3</td>\n",
       "      <td>2</td>\n",
       "      <td>4</td>\n",
       "      <td>22</td>\n",
       "    </tr>\n",
       "    <tr>\n",
       "      <th>6236f9129a79477b0ef18ae0ewByZQ1FQBK2dpXyY77rYw</th>\n",
       "      <td>0.000</td>\n",
       "      <td>0</td>\n",
       "      <td>5356</td>\n",
       "      <td>739</td>\n",
       "      <td>0</td>\n",
       "      <td>3</td>\n",
       "      <td>20</td>\n",
       "      <td>3</td>\n",
       "      <td>22</td>\n",
       "    </tr>\n",
       "  </tbody>\n",
       "</table>\n",
       "<p>3000 rows × 9 columns</p>\n",
       "</div>"
      ],
      "text/plain": [
       "                                                  ctr  category_code  \\\n",
       "document_id                                                            \n",
       "61f9569a9a794794245a82abJ0AvX96vTAaQCiWVbzoMdw  0.000              0   \n",
       "628c22b89a79470e553f594bQS5CqzXYRnmDdR2LaSreEw  1.598              0   \n",
       "627cb3249a7947ebdd752865XVsoyrUOT8OJJg2_finJhw  2.006              0   \n",
       "628618629a7947d4927eb812upfii3whSSuMXCqcqF8VbQ  0.000              0   \n",
       "620e76109a7947235623695b5hzCiIHdSYKQIr8WAM18bw  9.136              0   \n",
       "...                                               ...            ...   \n",
       "623ba6bc9a79470214cb9418x4OZQ1IjTb27nPAgv5wAZg  1.788              4   \n",
       "624fda1f9a79471a9bd102eetuRTrLPGSZyNbc9_YcBAeQ  4.427              3   \n",
       "6257a6a99a79477eea75b86dtBr3UG9ORW-gOybkVKX6ww  0.000              1   \n",
       "624866d59a7947421716ab46WsGDKyGjTJGRh14eR7UVvw  0.000              5   \n",
       "6236f9129a79477b0ef18ae0ewByZQ1FQBK2dpXyY77rYw  0.000              0   \n",
       "\n",
       "                                                session_code  authors_code  \\\n",
       "document_id                                                                  \n",
       "61f9569a9a794794245a82abJ0AvX96vTAaQCiWVbzoMdw          2510           739   \n",
       "628c22b89a79470e553f594bQS5CqzXYRnmDdR2LaSreEw          3427           739   \n",
       "627cb3249a7947ebdd752865XVsoyrUOT8OJJg2_finJhw          4312           739   \n",
       "628618629a7947d4927eb812upfii3whSSuMXCqcqF8VbQ          7405           739   \n",
       "620e76109a7947235623695b5hzCiIHdSYKQIr8WAM18bw           852           494   \n",
       "...                                                      ...           ...   \n",
       "623ba6bc9a79470214cb9418x4OZQ1IjTb27nPAgv5wAZg          7695           358   \n",
       "624fda1f9a79471a9bd102eetuRTrLPGSZyNbc9_YcBAeQ          7300           417   \n",
       "6257a6a99a79477eea75b86dtBr3UG9ORW-gOybkVKX6ww          7214           739   \n",
       "624866d59a7947421716ab46WsGDKyGjTJGRh14eR7UVvw          4238           739   \n",
       "6236f9129a79477b0ef18ae0ewByZQ1FQBK2dpXyY77rYw          5356           739   \n",
       "\n",
       "                                                n_authors  n_tags  day  \\\n",
       "document_id                                                              \n",
       "61f9569a9a794794245a82abJ0AvX96vTAaQCiWVbzoMdw          0       5    1   \n",
       "628c22b89a79470e553f594bQS5CqzXYRnmDdR2LaSreEw          0       4   24   \n",
       "627cb3249a7947ebdd752865XVsoyrUOT8OJJg2_finJhw          0       3   12   \n",
       "628618629a7947d4927eb812upfii3whSSuMXCqcqF8VbQ          0       4   19   \n",
       "620e76109a7947235623695b5hzCiIHdSYKQIr8WAM18bw          1       3   17   \n",
       "...                                                   ...     ...  ...   \n",
       "623ba6bc9a79470214cb9418x4OZQ1IjTb27nPAgv5wAZg          1       4   23   \n",
       "624fda1f9a79471a9bd102eetuRTrLPGSZyNbc9_YcBAeQ          1       2    8   \n",
       "6257a6a99a79477eea75b86dtBr3UG9ORW-gOybkVKX6ww          0       3   14   \n",
       "624866d59a7947421716ab46WsGDKyGjTJGRh14eR7UVvw          0       3    2   \n",
       "6236f9129a79477b0ef18ae0ewByZQ1FQBK2dpXyY77rYw          0       3   20   \n",
       "\n",
       "                                                mounth  year  \n",
       "document_id                                                   \n",
       "61f9569a9a794794245a82abJ0AvX96vTAaQCiWVbzoMdw       2    22  \n",
       "628c22b89a79470e553f594bQS5CqzXYRnmDdR2LaSreEw       5    22  \n",
       "627cb3249a7947ebdd752865XVsoyrUOT8OJJg2_finJhw       5    22  \n",
       "628618629a7947d4927eb812upfii3whSSuMXCqcqF8VbQ       5    22  \n",
       "620e76109a7947235623695b5hzCiIHdSYKQIr8WAM18bw       2    22  \n",
       "...                                                ...   ...  \n",
       "623ba6bc9a79470214cb9418x4OZQ1IjTb27nPAgv5wAZg       3    22  \n",
       "624fda1f9a79471a9bd102eetuRTrLPGSZyNbc9_YcBAeQ       4    22  \n",
       "6257a6a99a79477eea75b86dtBr3UG9ORW-gOybkVKX6ww       4    22  \n",
       "624866d59a7947421716ab46WsGDKyGjTJGRh14eR7UVvw       4    22  \n",
       "6236f9129a79477b0ef18ae0ewByZQ1FQBK2dpXyY77rYw       3    22  \n",
       "\n",
       "[3000 rows x 9 columns]"
      ]
     },
     "execution_count": 55,
     "metadata": {},
     "output_type": "execute_result"
    }
   ],
   "source": [
    "test_df"
   ]
  },
  {
   "cell_type": "code",
   "execution_count": 303,
   "metadata": {},
   "outputs": [],
   "source": [
    "sample['views'] = model_views.predict(df_test[['session_code', 'authors_code', 'n_authors', 'n_tags', 'day', 'mounth',\n",
    "                  'year', 'views_median_cat', 'depth_median_cat', 'views_mean_tags',\n",
    "                  'depth_mean_tags', 'frp_mean_tags', 'views_mean_authors',\n",
    "                  'depth_mean_authors', 'frp_mean_authors']])\n",
    "sample['depth'] = model_depth.predict(df_test[['ctr', 'category_code', 'session_code', 'authors_code', 'n_authors',\n",
    "                   'day', 'mounth', 'views_median_cat', 'depth_median_cat',\n",
    "                   'full_reads_percent_median_cat', 'views_mean_tags', 'depth_mean_tags',\n",
    "                   'frp_mean_tags', 'views_mean_authors', 'depth_mean_authors',\n",
    "                   'frp_mean_authors']])\n",
    "sample['full_reads_percent'] = model_full_reads_percent.predict(df_test[['ctr', 'category_code', 'session_code', 'authors_code', 'n_authors',\n",
    "                                'n_tags', 'day', 'mounth', 'year', 'views_median_cat',\n",
    "                                'depth_median_cat', 'full_reads_percent_median_cat', 'views_mean_tags',\n",
    "                                'depth_mean_tags', 'frp_mean_tags', 'views_mean_authors',\n",
    "                                'frp_mean_authors']])"
   ]
  },
  {
   "cell_type": "code",
   "execution_count": 304,
   "metadata": {},
   "outputs": [
    {
     "data": {
      "text/html": [
       "<div>\n",
       "<style scoped>\n",
       "    .dataframe tbody tr th:only-of-type {\n",
       "        vertical-align: middle;\n",
       "    }\n",
       "\n",
       "    .dataframe tbody tr th {\n",
       "        vertical-align: top;\n",
       "    }\n",
       "\n",
       "    .dataframe thead th {\n",
       "        text-align: right;\n",
       "    }\n",
       "</style>\n",
       "<table border=\"1\" class=\"dataframe\">\n",
       "  <thead>\n",
       "    <tr style=\"text-align: right;\">\n",
       "      <th></th>\n",
       "      <th>views</th>\n",
       "      <th>depth</th>\n",
       "      <th>full_reads_percent</th>\n",
       "    </tr>\n",
       "    <tr>\n",
       "      <th>document_id</th>\n",
       "      <th></th>\n",
       "      <th></th>\n",
       "      <th></th>\n",
       "    </tr>\n",
       "  </thead>\n",
       "  <tbody>\n",
       "    <tr>\n",
       "      <th>61f9569a9a794794245a82abJ0AvX96vTAaQCiWVbzoMdw</th>\n",
       "      <td>19289.992188</td>\n",
       "      <td>1.176855</td>\n",
       "      <td>39.124722</td>\n",
       "    </tr>\n",
       "    <tr>\n",
       "      <th>628c22b89a79470e553f594bQS5CqzXYRnmDdR2LaSreEw</th>\n",
       "      <td>7442.393066</td>\n",
       "      <td>1.066307</td>\n",
       "      <td>30.939411</td>\n",
       "    </tr>\n",
       "    <tr>\n",
       "      <th>627cb3249a7947ebdd752865XVsoyrUOT8OJJg2_finJhw</th>\n",
       "      <td>6673.118164</td>\n",
       "      <td>1.066376</td>\n",
       "      <td>35.087933</td>\n",
       "    </tr>\n",
       "    <tr>\n",
       "      <th>628618629a7947d4927eb812upfii3whSSuMXCqcqF8VbQ</th>\n",
       "      <td>9913.979492</td>\n",
       "      <td>1.063834</td>\n",
       "      <td>27.311163</td>\n",
       "    </tr>\n",
       "    <tr>\n",
       "      <th>620e76109a7947235623695b5hzCiIHdSYKQIr8WAM18bw</th>\n",
       "      <td>35871.843750</td>\n",
       "      <td>1.137975</td>\n",
       "      <td>22.247820</td>\n",
       "    </tr>\n",
       "  </tbody>\n",
       "</table>\n",
       "</div>"
      ],
      "text/plain": [
       "                                                       views     depth  \\\n",
       "document_id                                                              \n",
       "61f9569a9a794794245a82abJ0AvX96vTAaQCiWVbzoMdw  19289.992188  1.176855   \n",
       "628c22b89a79470e553f594bQS5CqzXYRnmDdR2LaSreEw   7442.393066  1.066307   \n",
       "627cb3249a7947ebdd752865XVsoyrUOT8OJJg2_finJhw   6673.118164  1.066376   \n",
       "628618629a7947d4927eb812upfii3whSSuMXCqcqF8VbQ   9913.979492  1.063834   \n",
       "620e76109a7947235623695b5hzCiIHdSYKQIr8WAM18bw  35871.843750  1.137975   \n",
       "\n",
       "                                                full_reads_percent  \n",
       "document_id                                                         \n",
       "61f9569a9a794794245a82abJ0AvX96vTAaQCiWVbzoMdw           39.124722  \n",
       "628c22b89a79470e553f594bQS5CqzXYRnmDdR2LaSreEw           30.939411  \n",
       "627cb3249a7947ebdd752865XVsoyrUOT8OJJg2_finJhw           35.087933  \n",
       "628618629a7947d4927eb812upfii3whSSuMXCqcqF8VbQ           27.311163  \n",
       "620e76109a7947235623695b5hzCiIHdSYKQIr8WAM18bw           22.247820  "
      ]
     },
     "execution_count": 304,
     "metadata": {},
     "output_type": "execute_result"
    }
   ],
   "source": [
    "sample.head()"
   ]
  },
  {
   "cell_type": "code",
   "execution_count": 305,
   "metadata": {},
   "outputs": [],
   "source": [
    "sample.to_csv('content/predictions/test_prediction_06_07.csv')"
   ]
  },
  {
   "cell_type": "markdown",
   "metadata": {},
   "source": [
    "### Итоговый скор: 0.380437"
   ]
  },
  {
   "cell_type": "markdown",
   "metadata": {},
   "source": [
    "Параша какая-то. Мб стоит убрать фигню с авторами??? Раз их так много уникальных"
   ]
  },
  {
   "cell_type": "markdown",
   "metadata": {},
   "source": [
    "Пробуем с тегами, но без авторов"
   ]
  },
  {
   "cell_type": "code",
   "execution_count": 307,
   "metadata": {},
   "outputs": [
    {
     "name": "stdout",
     "output_type": "stream",
     "text": [
      "Wall time: 2.94 s\n"
     ]
    },
    {
     "data": {
      "text/plain": [
       "XGBRegressor(base_score=0.5, booster='gbtree', colsample_bylevel=1,\n",
       "             colsample_bynode=1, colsample_bytree=1, enable_categorical=False,\n",
       "             gamma=0, gpu_id=-1, importance_type=None,\n",
       "             interaction_constraints='', learning_rate=0.300000012,\n",
       "             max_delta_step=0, max_depth=6, min_child_weight=1, missing=nan,\n",
       "             monotone_constraints='()', n_estimators=100, n_jobs=8,\n",
       "             num_parallel_tree=1, objective='reg:squarederror',\n",
       "             predictor='auto', random_state=0, reg_alpha=0, reg_lambda=1,\n",
       "             scale_pos_weight=1, subsample=1, tree_method='exact',\n",
       "             validate_parameters=1, verbosity=None)"
      ]
     },
     "execution_count": 307,
     "metadata": {},
     "output_type": "execute_result"
    }
   ],
   "source": [
    "%%time\n",
    "# Для view:\n",
    "# session_code', 'authors_code', 'n_authors', 'n_tags', 'day', 'mounth',\n",
    "#        'year', 'views_median_cat', 'depth_median_cat', 'views_mean_tags',\n",
    "#        'depth_mean_tags', 'frp_mean_tags', 'views_mean_authors',\n",
    "#        'depth_mean_authors', 'frp_mean_authors\n",
    "model_views.fit(X[['session_code', 'authors_code', 'n_authors', 'n_tags', 'day', 'mounth',\n",
    "                  'year', 'views_median_cat', 'depth_median_cat', 'views_mean_tags',\n",
    "                  'depth_mean_tags', 'frp_mean_tags']] , y['views'])\n",
    "# Для depth:\n",
    "#['ctr', 'category_code', 'session_code', 'authors_code', 'n_authors',\n",
    "#        'day', 'mounth', 'views_median_cat', 'depth_median_cat',\n",
    "#        'full_reads_percent_median_cat', 'views_mean_tags', 'depth_mean_tags',\n",
    "#        'frp_mean_tags', 'views_mean_authors', 'depth_mean_authors',\n",
    "#        'frp_mean_authors']\n",
    "model_depth.fit(X[['ctr', 'category_code', 'session_code', 'authors_code', 'n_authors',\n",
    "                   'day', 'mounth', 'views_median_cat', 'depth_median_cat',\n",
    "                   'full_reads_percent_median_cat', 'views_mean_tags', 'depth_mean_tags',\n",
    "                   'frp_mean_tags']], y['depth'])\n",
    "# Для full_reads_percent:\n",
    "# ['ctr', 'category_code', 'session_code', 'authors_code', 'n_authors',\n",
    "#       'n_tags', 'day', 'mounth', 'year', 'views_median_cat',\n",
    "#       'depth_median_cat', 'full_reads_percent_median_cat', 'views_mean_tags',\n",
    "#       'depth_mean_tags', 'frp_mean_tags', 'views_mean_authors',\n",
    "#       'frp_mean_authors']\n",
    "model_full_reads_percent.fit(X[['ctr', 'category_code', 'session_code', 'authors_code', 'n_authors',\n",
    "                                'n_tags', 'day', 'mounth', 'year', 'views_median_cat',\n",
    "                                'depth_median_cat', 'full_reads_percent_median_cat', 'views_mean_tags',\n",
    "                                'depth_mean_tags', 'frp_mean_tags']], y['full_reads_percent'])"
   ]
  },
  {
   "cell_type": "code",
   "execution_count": 309,
   "metadata": {},
   "outputs": [],
   "source": [
    "sample['views'] = model_views.predict(df_test[['session_code', 'authors_code', 'n_authors', 'n_tags', 'day', 'mounth',\n",
    "                  'year', 'views_median_cat', 'depth_median_cat', 'views_mean_tags',\n",
    "                  'depth_mean_tags', 'frp_mean_tags']])\n",
    "sample['depth'] = model_depth.predict(df_test[['ctr', 'category_code', 'session_code', 'authors_code', 'n_authors',\n",
    "                   'day', 'mounth', 'views_median_cat', 'depth_median_cat',\n",
    "                   'full_reads_percent_median_cat', 'views_mean_tags', 'depth_mean_tags',\n",
    "                   'frp_mean_tags']])\n",
    "sample['full_reads_percent'] = model_full_reads_percent.predict(df_test[['ctr', 'category_code', 'session_code', 'authors_code', 'n_authors',\n",
    "                                'n_tags', 'day', 'mounth', 'year', 'views_median_cat',\n",
    "                                'depth_median_cat', 'full_reads_percent_median_cat', 'views_mean_tags',\n",
    "                                'depth_mean_tags', 'frp_mean_tags']])"
   ]
  },
  {
   "cell_type": "code",
   "execution_count": 311,
   "metadata": {},
   "outputs": [],
   "source": [
    "sample.to_csv('content/predictions/test_prediction_06_07_v2.csv')"
   ]
  },
  {
   "cell_type": "code",
   "execution_count": 317,
   "metadata": {},
   "outputs": [
    {
     "data": {
      "text/html": [
       "<div>\n",
       "<style scoped>\n",
       "    .dataframe tbody tr th:only-of-type {\n",
       "        vertical-align: middle;\n",
       "    }\n",
       "\n",
       "    .dataframe tbody tr th {\n",
       "        vertical-align: top;\n",
       "    }\n",
       "\n",
       "    .dataframe thead th {\n",
       "        text-align: right;\n",
       "    }\n",
       "</style>\n",
       "<table border=\"1\" class=\"dataframe\">\n",
       "  <thead>\n",
       "    <tr style=\"text-align: right;\">\n",
       "      <th></th>\n",
       "      <th>views</th>\n",
       "      <th>depth</th>\n",
       "      <th>full_reads_percent</th>\n",
       "    </tr>\n",
       "    <tr>\n",
       "      <th>document_id</th>\n",
       "      <th></th>\n",
       "      <th></th>\n",
       "      <th></th>\n",
       "    </tr>\n",
       "  </thead>\n",
       "  <tbody>\n",
       "    <tr>\n",
       "      <th>61f9569a9a794794245a82abJ0AvX96vTAaQCiWVbzoMdw</th>\n",
       "      <td>16038.581055</td>\n",
       "      <td>1.166056</td>\n",
       "      <td>40.904610</td>\n",
       "    </tr>\n",
       "    <tr>\n",
       "      <th>628c22b89a79470e553f594bQS5CqzXYRnmDdR2LaSreEw</th>\n",
       "      <td>11869.832031</td>\n",
       "      <td>1.059068</td>\n",
       "      <td>30.898687</td>\n",
       "    </tr>\n",
       "    <tr>\n",
       "      <th>627cb3249a7947ebdd752865XVsoyrUOT8OJJg2_finJhw</th>\n",
       "      <td>3040.986084</td>\n",
       "      <td>1.065905</td>\n",
       "      <td>37.054337</td>\n",
       "    </tr>\n",
       "    <tr>\n",
       "      <th>628618629a7947d4927eb812upfii3whSSuMXCqcqF8VbQ</th>\n",
       "      <td>12060.156250</td>\n",
       "      <td>1.064861</td>\n",
       "      <td>36.127907</td>\n",
       "    </tr>\n",
       "    <tr>\n",
       "      <th>620e76109a7947235623695b5hzCiIHdSYKQIr8WAM18bw</th>\n",
       "      <td>50512.566406</td>\n",
       "      <td>1.152337</td>\n",
       "      <td>30.235029</td>\n",
       "    </tr>\n",
       "    <tr>\n",
       "      <th>...</th>\n",
       "      <td>...</td>\n",
       "      <td>...</td>\n",
       "      <td>...</td>\n",
       "    </tr>\n",
       "    <tr>\n",
       "      <th>623ba6bc9a79470214cb9418x4OZQ1IjTb27nPAgv5wAZg</th>\n",
       "      <td>47038.066406</td>\n",
       "      <td>1.133987</td>\n",
       "      <td>26.808678</td>\n",
       "    </tr>\n",
       "    <tr>\n",
       "      <th>624fda1f9a79471a9bd102eetuRTrLPGSZyNbc9_YcBAeQ</th>\n",
       "      <td>25600.767578</td>\n",
       "      <td>1.090106</td>\n",
       "      <td>33.744843</td>\n",
       "    </tr>\n",
       "    <tr>\n",
       "      <th>6257a6a99a79477eea75b86dtBr3UG9ORW-gOybkVKX6ww</th>\n",
       "      <td>-17806.664062</td>\n",
       "      <td>1.062526</td>\n",
       "      <td>39.309738</td>\n",
       "    </tr>\n",
       "    <tr>\n",
       "      <th>624866d59a7947421716ab46WsGDKyGjTJGRh14eR7UVvw</th>\n",
       "      <td>29988.291016</td>\n",
       "      <td>1.167178</td>\n",
       "      <td>41.717690</td>\n",
       "    </tr>\n",
       "    <tr>\n",
       "      <th>6236f9129a79477b0ef18ae0ewByZQ1FQBK2dpXyY77rYw</th>\n",
       "      <td>8911.242188</td>\n",
       "      <td>1.149121</td>\n",
       "      <td>41.024918</td>\n",
       "    </tr>\n",
       "  </tbody>\n",
       "</table>\n",
       "<p>3000 rows × 3 columns</p>\n",
       "</div>"
      ],
      "text/plain": [
       "                                                       views     depth  \\\n",
       "document_id                                                              \n",
       "61f9569a9a794794245a82abJ0AvX96vTAaQCiWVbzoMdw  16038.581055  1.166056   \n",
       "628c22b89a79470e553f594bQS5CqzXYRnmDdR2LaSreEw  11869.832031  1.059068   \n",
       "627cb3249a7947ebdd752865XVsoyrUOT8OJJg2_finJhw   3040.986084  1.065905   \n",
       "628618629a7947d4927eb812upfii3whSSuMXCqcqF8VbQ  12060.156250  1.064861   \n",
       "620e76109a7947235623695b5hzCiIHdSYKQIr8WAM18bw  50512.566406  1.152337   \n",
       "...                                                      ...       ...   \n",
       "623ba6bc9a79470214cb9418x4OZQ1IjTb27nPAgv5wAZg  47038.066406  1.133987   \n",
       "624fda1f9a79471a9bd102eetuRTrLPGSZyNbc9_YcBAeQ  25600.767578  1.090106   \n",
       "6257a6a99a79477eea75b86dtBr3UG9ORW-gOybkVKX6ww -17806.664062  1.062526   \n",
       "624866d59a7947421716ab46WsGDKyGjTJGRh14eR7UVvw  29988.291016  1.167178   \n",
       "6236f9129a79477b0ef18ae0ewByZQ1FQBK2dpXyY77rYw   8911.242188  1.149121   \n",
       "\n",
       "                                                full_reads_percent  \n",
       "document_id                                                         \n",
       "61f9569a9a794794245a82abJ0AvX96vTAaQCiWVbzoMdw           40.904610  \n",
       "628c22b89a79470e553f594bQS5CqzXYRnmDdR2LaSreEw           30.898687  \n",
       "627cb3249a7947ebdd752865XVsoyrUOT8OJJg2_finJhw           37.054337  \n",
       "628618629a7947d4927eb812upfii3whSSuMXCqcqF8VbQ           36.127907  \n",
       "620e76109a7947235623695b5hzCiIHdSYKQIr8WAM18bw           30.235029  \n",
       "...                                                            ...  \n",
       "623ba6bc9a79470214cb9418x4OZQ1IjTb27nPAgv5wAZg           26.808678  \n",
       "624fda1f9a79471a9bd102eetuRTrLPGSZyNbc9_YcBAeQ           33.744843  \n",
       "6257a6a99a79477eea75b86dtBr3UG9ORW-gOybkVKX6ww           39.309738  \n",
       "624866d59a7947421716ab46WsGDKyGjTJGRh14eR7UVvw           41.717690  \n",
       "6236f9129a79477b0ef18ae0ewByZQ1FQBK2dpXyY77rYw           41.024918  \n",
       "\n",
       "[3000 rows x 3 columns]"
      ]
     },
     "execution_count": 317,
     "metadata": {},
     "output_type": "execute_result"
    }
   ],
   "source": [
    "sample"
   ]
  },
  {
   "cell_type": "markdown",
   "metadata": {},
   "source": [
    "### Итоговый скор: 0.575"
   ]
  },
  {
   "cell_type": "code",
   "execution_count": 307,
   "metadata": {
    "scrolled": true
   },
   "outputs": [
    {
     "name": "stdout",
     "output_type": "stream",
     "text": [
      "Wall time: 2.94 s\n"
     ]
    },
    {
     "data": {
      "text/plain": [
       "XGBRegressor(base_score=0.5, booster='gbtree', colsample_bylevel=1,\n",
       "             colsample_bynode=1, colsample_bytree=1, enable_categorical=False,\n",
       "             gamma=0, gpu_id=-1, importance_type=None,\n",
       "             interaction_constraints='', learning_rate=0.300000012,\n",
       "             max_delta_step=0, max_depth=6, min_child_weight=1, missing=nan,\n",
       "             monotone_constraints='()', n_estimators=100, n_jobs=8,\n",
       "             num_parallel_tree=1, objective='reg:squarederror',\n",
       "             predictor='auto', random_state=0, reg_alpha=0, reg_lambda=1,\n",
       "             scale_pos_weight=1, subsample=1, tree_method='exact',\n",
       "             validate_parameters=1, verbosity=None)"
      ]
     },
     "execution_count": 307,
     "metadata": {},
     "output_type": "execute_result"
    }
   ],
   "source": [
    "%%time\n",
    "# Для view:\n",
    "# session_code', 'authors_code', 'n_authors', 'n_tags', 'day', 'mounth',\n",
    "#        'year', 'views_median_cat', 'depth_median_cat', 'views_mean_tags',\n",
    "#        'depth_mean_tags', 'frp_mean_tags', 'views_mean_authors',\n",
    "#        'depth_mean_authors', 'frp_mean_authors\n",
    "model_views.fit(X[['session_code', 'authors_code', 'n_authors', 'n_tags', 'day', 'mounth',\n",
    "                  'year', 'views_median_cat', 'depth_median_cat', 'views_mean_tags',\n",
    "                  'depth_mean_tags', 'frp_mean_tags']] , y['views'])\n",
    "# Для depth:\n",
    "#['ctr', 'category_code', 'session_code', 'authors_code', 'n_authors',\n",
    "#        'day', 'mounth', 'views_median_cat', 'depth_median_cat',\n",
    "#        'full_reads_percent_median_cat', 'views_mean_tags', 'depth_mean_tags',\n",
    "#        'frp_mean_tags', 'views_mean_authors', 'depth_mean_authors',\n",
    "#        'frp_mean_authors']\n",
    "model_depth.fit(X[['ctr', 'category_code', 'session_code', 'authors_code', 'n_authors',\n",
    "                   'day', 'mounth', 'views_median_cat', 'depth_median_cat',\n",
    "                   'full_reads_percent_median_cat', 'views_mean_tags', 'depth_mean_tags',\n",
    "                   'frp_mean_tags']], y['depth'])\n",
    "# Для full_reads_percent:\n",
    "# ['ctr', 'category_code', 'session_code', 'authors_code', 'n_authors',\n",
    "#       'n_tags', 'day', 'mounth', 'year', 'views_median_cat',\n",
    "#       'depth_median_cat', 'full_reads_percent_median_cat', 'views_mean_tags',\n",
    "#       'depth_mean_tags', 'frp_mean_tags', 'views_mean_authors',\n",
    "#       'frp_mean_authors']\n",
    "model_full_reads_percent.fit(X[['ctr', 'category_code', 'session_code', 'authors_code', 'n_authors',\n",
    "                                'n_tags', 'day', 'mounth', 'year', 'views_median_cat',\n",
    "                                'depth_median_cat', 'full_reads_percent_median_cat', 'views_mean_tags',\n",
    "                                'depth_mean_tags', 'frp_mean_tags']], y['full_reads_percent'])"
   ]
  },
  {
   "cell_type": "code",
   "execution_count": 309,
   "metadata": {},
   "outputs": [],
   "source": [
    "sample['views'] = model_views.predict(df_test[['session_code', 'authors_code', 'n_authors', 'n_tags', 'day', 'mounth',\n",
    "                  'year', 'views_median_cat', 'depth_median_cat', 'views_mean_tags',\n",
    "                  'depth_mean_tags', 'frp_mean_tags']])\n",
    "sample['depth'] = model_depth.predict(df_test[['ctr', 'category_code', 'session_code', 'authors_code', 'n_authors',\n",
    "                   'day', 'mounth', 'views_median_cat', 'depth_median_cat',\n",
    "                   'full_reads_percent_median_cat', 'views_mean_tags', 'depth_mean_tags',\n",
    "                   'frp_mean_tags']])\n",
    "sample['full_reads_percent'] = model_full_reads_percent.predict(df_test[['ctr', 'category_code', 'session_code', 'authors_code', 'n_authors',\n",
    "                                'n_tags', 'day', 'mounth', 'year', 'views_median_cat',\n",
    "                                'depth_median_cat', 'full_reads_percent_median_cat', 'views_mean_tags',\n",
    "                                'depth_mean_tags', 'frp_mean_tags']])"
   ]
  },
  {
   "cell_type": "code",
   "execution_count": 318,
   "metadata": {},
   "outputs": [
    {
     "data": {
      "text/html": [
       "<div>\n",
       "<style scoped>\n",
       "    .dataframe tbody tr th:only-of-type {\n",
       "        vertical-align: middle;\n",
       "    }\n",
       "\n",
       "    .dataframe tbody tr th {\n",
       "        vertical-align: top;\n",
       "    }\n",
       "\n",
       "    .dataframe thead th {\n",
       "        text-align: right;\n",
       "    }\n",
       "</style>\n",
       "<table border=\"1\" class=\"dataframe\">\n",
       "  <thead>\n",
       "    <tr style=\"text-align: right;\">\n",
       "      <th></th>\n",
       "      <th>views</th>\n",
       "      <th>depth</th>\n",
       "      <th>full_reads_percent</th>\n",
       "    </tr>\n",
       "    <tr>\n",
       "      <th>document_id</th>\n",
       "      <th></th>\n",
       "      <th></th>\n",
       "      <th></th>\n",
       "    </tr>\n",
       "  </thead>\n",
       "  <tbody>\n",
       "    <tr>\n",
       "      <th>61f9569a9a794794245a82abJ0AvX96vTAaQCiWVbzoMdw</th>\n",
       "      <td>16038.581055</td>\n",
       "      <td>1.166056</td>\n",
       "      <td>40.904610</td>\n",
       "    </tr>\n",
       "    <tr>\n",
       "      <th>628c22b89a79470e553f594bQS5CqzXYRnmDdR2LaSreEw</th>\n",
       "      <td>11869.832031</td>\n",
       "      <td>1.059068</td>\n",
       "      <td>30.898687</td>\n",
       "    </tr>\n",
       "    <tr>\n",
       "      <th>627cb3249a7947ebdd752865XVsoyrUOT8OJJg2_finJhw</th>\n",
       "      <td>3040.986084</td>\n",
       "      <td>1.065905</td>\n",
       "      <td>37.054337</td>\n",
       "    </tr>\n",
       "    <tr>\n",
       "      <th>628618629a7947d4927eb812upfii3whSSuMXCqcqF8VbQ</th>\n",
       "      <td>12060.156250</td>\n",
       "      <td>1.064861</td>\n",
       "      <td>36.127907</td>\n",
       "    </tr>\n",
       "    <tr>\n",
       "      <th>620e76109a7947235623695b5hzCiIHdSYKQIr8WAM18bw</th>\n",
       "      <td>50512.566406</td>\n",
       "      <td>1.152337</td>\n",
       "      <td>30.235029</td>\n",
       "    </tr>\n",
       "    <tr>\n",
       "      <th>...</th>\n",
       "      <td>...</td>\n",
       "      <td>...</td>\n",
       "      <td>...</td>\n",
       "    </tr>\n",
       "    <tr>\n",
       "      <th>623ba6bc9a79470214cb9418x4OZQ1IjTb27nPAgv5wAZg</th>\n",
       "      <td>47038.066406</td>\n",
       "      <td>1.133987</td>\n",
       "      <td>26.808678</td>\n",
       "    </tr>\n",
       "    <tr>\n",
       "      <th>624fda1f9a79471a9bd102eetuRTrLPGSZyNbc9_YcBAeQ</th>\n",
       "      <td>25600.767578</td>\n",
       "      <td>1.090106</td>\n",
       "      <td>33.744843</td>\n",
       "    </tr>\n",
       "    <tr>\n",
       "      <th>6257a6a99a79477eea75b86dtBr3UG9ORW-gOybkVKX6ww</th>\n",
       "      <td>-17806.664062</td>\n",
       "      <td>1.062526</td>\n",
       "      <td>39.309738</td>\n",
       "    </tr>\n",
       "    <tr>\n",
       "      <th>624866d59a7947421716ab46WsGDKyGjTJGRh14eR7UVvw</th>\n",
       "      <td>29988.291016</td>\n",
       "      <td>1.167178</td>\n",
       "      <td>41.717690</td>\n",
       "    </tr>\n",
       "    <tr>\n",
       "      <th>6236f9129a79477b0ef18ae0ewByZQ1FQBK2dpXyY77rYw</th>\n",
       "      <td>8911.242188</td>\n",
       "      <td>1.149121</td>\n",
       "      <td>41.024918</td>\n",
       "    </tr>\n",
       "  </tbody>\n",
       "</table>\n",
       "<p>3000 rows × 3 columns</p>\n",
       "</div>"
      ],
      "text/plain": [
       "                                                       views     depth  \\\n",
       "document_id                                                              \n",
       "61f9569a9a794794245a82abJ0AvX96vTAaQCiWVbzoMdw  16038.581055  1.166056   \n",
       "628c22b89a79470e553f594bQS5CqzXYRnmDdR2LaSreEw  11869.832031  1.059068   \n",
       "627cb3249a7947ebdd752865XVsoyrUOT8OJJg2_finJhw   3040.986084  1.065905   \n",
       "628618629a7947d4927eb812upfii3whSSuMXCqcqF8VbQ  12060.156250  1.064861   \n",
       "620e76109a7947235623695b5hzCiIHdSYKQIr8WAM18bw  50512.566406  1.152337   \n",
       "...                                                      ...       ...   \n",
       "623ba6bc9a79470214cb9418x4OZQ1IjTb27nPAgv5wAZg  47038.066406  1.133987   \n",
       "624fda1f9a79471a9bd102eetuRTrLPGSZyNbc9_YcBAeQ  25600.767578  1.090106   \n",
       "6257a6a99a79477eea75b86dtBr3UG9ORW-gOybkVKX6ww -17806.664062  1.062526   \n",
       "624866d59a7947421716ab46WsGDKyGjTJGRh14eR7UVvw  29988.291016  1.167178   \n",
       "6236f9129a79477b0ef18ae0ewByZQ1FQBK2dpXyY77rYw   8911.242188  1.149121   \n",
       "\n",
       "                                                full_reads_percent  \n",
       "document_id                                                         \n",
       "61f9569a9a794794245a82abJ0AvX96vTAaQCiWVbzoMdw           40.904610  \n",
       "628c22b89a79470e553f594bQS5CqzXYRnmDdR2LaSreEw           30.898687  \n",
       "627cb3249a7947ebdd752865XVsoyrUOT8OJJg2_finJhw           37.054337  \n",
       "628618629a7947d4927eb812upfii3whSSuMXCqcqF8VbQ           36.127907  \n",
       "620e76109a7947235623695b5hzCiIHdSYKQIr8WAM18bw           30.235029  \n",
       "...                                                            ...  \n",
       "623ba6bc9a79470214cb9418x4OZQ1IjTb27nPAgv5wAZg           26.808678  \n",
       "624fda1f9a79471a9bd102eetuRTrLPGSZyNbc9_YcBAeQ           33.744843  \n",
       "6257a6a99a79477eea75b86dtBr3UG9ORW-gOybkVKX6ww           39.309738  \n",
       "624866d59a7947421716ab46WsGDKyGjTJGRh14eR7UVvw           41.717690  \n",
       "6236f9129a79477b0ef18ae0ewByZQ1FQBK2dpXyY77rYw           41.024918  \n",
       "\n",
       "[3000 rows x 3 columns]"
      ]
     },
     "execution_count": 318,
     "metadata": {},
     "output_type": "execute_result"
    }
   ],
   "source": [
    "sample"
   ]
  },
  {
   "cell_type": "code",
   "execution_count": null,
   "metadata": {},
   "outputs": [],
   "source": [
    "sample.to_csv('content/predictions/test_prediction_07_07_v2.csv')"
   ]
  }
 ],
 "metadata": {
  "kernelspec": {
   "display_name": "Python 3",
   "language": "python",
   "name": "python3"
  },
  "language_info": {
   "codemirror_mode": {
    "name": "ipython",
    "version": 3
   },
   "file_extension": ".py",
   "mimetype": "text/x-python",
   "name": "python",
   "nbconvert_exporter": "python",
   "pygments_lexer": "ipython3",
   "version": "3.7.6"
  }
 },
 "nbformat": 4,
 "nbformat_minor": 4
}
